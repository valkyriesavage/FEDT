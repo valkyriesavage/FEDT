{
 "cells": [
  {
   "cell_type": "markdown",
   "id": "2b924961",
   "metadata": {},
   "source": [
    "1. (obsolete) Specify all parameters to be varied?\n"
   ]
  },
  {
   "cell_type": "markdown",
   "id": "c172eaf2",
   "metadata": {},
   "source": [
    "# 2. Specify CAD model to be printed (.stl)"
   ]
  },
  {
   "cell_type": "code",
   "execution_count": null,
   "id": "fa37985e",
   "metadata": {},
   "outputs": [],
   "source": [
    "# stl_path = '/Users/norapusok/models/flk.stl'\n",
    "stl_path = '/Users/norapusok/slicer/models/20mm_cube.stl'"
   ]
  },
  {
   "cell_type": "code",
   "execution_count": null,
   "id": "4424cf12",
   "metadata": {},
   "outputs": [],
   "source": [
    "import numpy\n",
    "from stl import mesh\n",
    "\n",
    "# Using an existing stl file:\n",
    "your_mesh = mesh.Mesh.from_file(stl_path)"
   ]
  },
  {
   "cell_type": "markdown",
   "id": "23b2f699",
   "metadata": {},
   "source": [
    "### Visualize imported mesh"
   ]
  },
  {
   "cell_type": "code",
   "execution_count": null,
   "id": "bb7905fb",
   "metadata": {},
   "outputs": [],
   "source": [
    "#  https://pypi.org/project/numpy-stl/\n",
    "from mpl_toolkits import mplot3d\n",
    "from matplotlib import pyplot\n",
    "\n",
    "def plot_my_stl(stl_path):\n",
    "    # Create a new plot\n",
    "    figure = pyplot.figure()\n",
    "    axes = figure.add_subplot(projection='3d')\n",
    "\n",
    "    # Load the STL files and add the vectors to the plot\n",
    "    your_mesh = mesh.Mesh.from_file(stl_path)\n",
    "    axes.add_collection3d(mplot3d.art3d.Poly3DCollection(your_mesh.vectors))\n",
    "\n",
    "    # Auto scale to the mesh size\n",
    "    #scale = your_mesh.points.flatten()\n",
    "    #axes.auto_scale_xyz(scale, scale, scale)\n",
    "\n",
    "    # Show the plot to the screen\n",
    "    pyplot.show()"
   ]
  },
  {
   "cell_type": "markdown",
   "id": "313fabb6",
   "metadata": {},
   "source": [
    "# 2a. Or create parametric geometry and turn it into a mesh\n",
    "### modify side"
   ]
  },
  {
   "cell_type": "code",
   "execution_count": null,
   "id": "a81569d1",
   "metadata": {},
   "outputs": [],
   "source": [
    "#brew install --cask freecad\n",
    "import sys\n",
    "sys.path.append('/Applications/FreeCAD.app/Contents/Resources/lib') \n",
    "import FreeCAD, Part #import FreeCADGui\n",
    "\n",
    "# pip install PySide2\n",
    "import Mesh\n",
    "import Draft"
   ]
  },
  {
   "cell_type": "code",
   "execution_count": null,
   "id": "b69a74fb",
   "metadata": {},
   "outputs": [],
   "source": [
    "# FreeCAD create cube    \n",
    "def makeBox(side = '20 mm'):\n",
    "    App.newDocument()\n",
    "    App.ActiveDocument.addObject(\"Part::Box\",\"Box\")\n",
    "    App.ActiveDocument.ActiveObject.Label = \"Cube\"\n",
    "    App.ActiveDocument.recompute()\n",
    "    FreeCAD.ActiveDocument.getObject('Box').Width = side\n",
    "    FreeCAD.ActiveDocument.getObject('Box').Length = side\n",
    "    FreeCAD.ActiveDocument.getObject('Box').Height = side\n",
    "    App.ActiveDocument.recompute()\n",
    "    FreeCAD.ActiveDocument.getObject('Box').Shape.exportStl('box.stl')\n",
    "# export as stl https://gist.github.com/hyOzd/2e75a9816cfabeb5b4aa\n",
    "\n",
    "# Add label\n",
    "def makeLabel(label_string=\"L0\"):\n",
    "    # https://wiki.freecad.org/Draft_ShapeString_tutorial\n",
    "    ss=Draft.make_shapestring(String=label_string, FontFile=\"/Library/Fonts/DejaVuSans.ttf\", Size=5.0, Tracking=0.0)\n",
    "    plm=FreeCAD.Placement()\n",
    "    plm.Base=FreeCAD.Vector(4.0, 4.0, side=20)\n",
    "    plm.Rotation.Q=(0.0, 0.0, 0, 1.0)\n",
    "    ss.Placement=plm\n",
    "    ss.Support=None\n",
    "    Draft.autogroup(ss)\n",
    "    FreeCAD.ActiveDocument.recompute()\n",
    "    \n",
    "    App.ActiveDocument.addObject('Part::Extrusion','Extrude')\n",
    "    f = App.ActiveDocument.getObject('Extrude')\n",
    "    f.Base = App.ActiveDocument.getObject('ShapeString')\n",
    "    f.DirMode = \"Normal\"\n",
    "    f.DirLink = None\n",
    "    f.LengthFwd = 5.000000000000000\n",
    "    f.LengthRev = 0.000000000000000\n",
    "    f.Solid = False\n",
    "    f.Reversed = False\n",
    "    f.Symmetric = False\n",
    "    f.TaperAngle = 0.000000000000000\n",
    "    f.TaperAngleRev = 0.000000000000000\n",
    "    App.ActiveDocument.recompute()\n",
    "    App.ActiveDocument.getObject('ShapeString').Visibility = False\n",
    "    App.ActiveDocument.recompute()\n",
    "    App.ActiveDocument.getObject('Extrude').Placement = App.Placement(App.Vector(2,2,0),App.Rotation(App.Vector(0,0,1),0))\n",
    "    App.ActiveDocument.recompute()\n",
    "    #FreeCAD.ActiveDocument.getObject('Extrude').Shape.exportStl('ext.stl')\n",
    "    __objs__ = []\n",
    "    __objs__.append(FreeCAD.ActiveDocument.getObject(\"Box\"))\n",
    "    __objs__.append(FreeCAD.ActiveDocument.getObject(\"Extrude\"))\n",
    "    Mesh.export(__objs__, u\"/Users/norapusok/slicer/\" + \"comb_\" + label_string + \".stl\")\n"
   ]
  },
  {
   "cell_type": "markdown",
   "id": "10e94403",
   "metadata": {},
   "source": [
    "#### For now add these handwritten labels"
   ]
  },
  {
   "cell_type": "code",
   "execution_count": null,
   "id": "c4fd3f86",
   "metadata": {},
   "outputs": [],
   "source": [
    "makeBox()\n",
    "for l in [\"L0\", \"L1\", \"L2\", \"L3\"]:\n",
    "    makeLabel(label_string=l)\n",
    "# or stl merge https://pypi.org/project/numpy-stl/"
   ]
  },
  {
   "cell_type": "markdown",
   "id": "aeeea6c0",
   "metadata": {},
   "source": [
    "#### Numpy alternative"
   ]
  },
  {
   "cell_type": "code",
   "execution_count": null,
   "id": "a5eda5fc",
   "metadata": {},
   "outputs": [],
   "source": [
    "import numpy as np\n",
    "from stl import mesh\n",
    "\n",
    "# Define the 8 vertices of the cube\n",
    "vertices = np.array([\\\n",
    "    [-1, -1, -1],\n",
    "    [+1, -1, -1],\n",
    "    [+1, +1, -1],\n",
    "    [-1, +1, -1],\n",
    "    [-1, -1, +1],\n",
    "    [+1, -1, +1],\n",
    "    [+1, +1, +1],\n",
    "    [-1, +1, +1]])\n",
    "# Define the 12 triangles composing the cube\n",
    "faces = np.array([\\\n",
    "    [0,3,1],\n",
    "    [1,3,2],\n",
    "    [0,4,7],\n",
    "    [0,7,3],\n",
    "    [4,5,6],\n",
    "    [4,6,7],\n",
    "    [5,1,2],\n",
    "    [5,2,6],\n",
    "    [2,3,6],\n",
    "    [3,7,6],\n",
    "    [0,1,5],\n",
    "    [0,5,4]])\n",
    "\n",
    "# Create the mesh\n",
    "cube = mesh.Mesh(np.zeros(faces.shape[0], dtype=mesh.Mesh.dtype))\n",
    "for i, f in enumerate(faces):\n",
    "    for j in range(3):\n",
    "        cube.vectors[i][j] = vertices[f[j],:]\n",
    "\n",
    "# Write the mesh to file \"cube.stl\"\n",
    "cube.save('cube.stl')\n",
    "plot_my_stl('cube.stl')"
   ]
  },
  {
   "cell_type": "markdown",
   "id": "a6670b73",
   "metadata": {},
   "source": [
    "### View combi.stl in Prusa"
   ]
  },
  {
   "cell_type": "markdown",
   "id": "30d1417e",
   "metadata": {},
   "source": [
    "# 3. Slicing "
   ]
  },
  {
   "cell_type": "code",
   "execution_count": null,
   "id": "18959d5c",
   "metadata": {},
   "outputs": [],
   "source": [
    "# https://github.com/valkyriesavage/objectify\n",
    "import subprocess\n",
    "\n",
    "def slice_mesh(stl_location, h, pat):\n",
    "    slice_command = ['/Applications/PrusaSlicer.app/Contents/MacOS/PrusaSlicer',\n",
    "                    '--load', 'config.ini', \n",
    "                    '--layer-height', h,\n",
    "                    '--fill-pattern', pat, \n",
    "                    '--export-gcode', stl_location]\n",
    "    results = subprocess.check_output(slice_command)\n",
    "    \n",
    "    # the last line from Prusa Slicer is \"Slicing result exported to ...\"\n",
    "    last_line = results.decode('utf-8').strip().split(\"\\n\")[-1]\n",
    "    location = last_line.split(\" exported to \")[1]\n",
    "\n",
    "    return location"
   ]
  },
  {
   "cell_type": "code",
   "execution_count": null,
   "id": "eb286f39",
   "metadata": {},
   "outputs": [],
   "source": [
    "# https://github.com/bambulab/BambuStudio/wiki/Command-Line-Usage\n",
    "\n",
    "def slice_bambu(stl_path):\n",
    "    slice_command = ['/Applications/BambuStudio.app/Contents/MacOS/BambuStudio'\n",
    "                    , '--debug 2' \n",
    "                    #, '--orient'\n",
    "                    #, '--arrange 1'\n",
    "                    , '--load-settings \"machine.json;process.json\"'\n",
    "                    #, '--load-filaments filament.json'\n",
    "                    #, '--slice 0'  # slice all plates (spec. plate j for 3mf only!)\n",
    "                    #, '--export-3mf'\n",
    "                    #, 'output.3mf'\n",
    "                    , stl_path]\n",
    "    results = subprocess.check_output(slice_command)\n",
    "    return results"
   ]
  },
  {
   "cell_type": "code",
   "execution_count": null,
   "id": "c94e1174",
   "metadata": {},
   "outputs": [],
   "source": [
    "path = u\"/Users/norapusok/slicer/models/\"\n",
    "paths = [\"L0.stl\", \"L1.stl\", \"L2.stl\", \"L3.stl\"]\n",
    "heights = ['0.01', '0.4'] # nozzle 0.4\n",
    "top_patterns = ['triangles', 'concentric']\n",
    "cs = []\n",
    "i = 0\n",
    "\n",
    "for h in heights:\n",
    "    for p in top_patterns:\n",
    "        stl = path + paths[i]\n",
    "        gcode_path = slice_mesh(stl, h, p)\n",
    "        i+=1\n",
    "        print(gcode_path) \n",
    "        \n",
    "# /Applications/PrusaSlicer.app/Contents/MacOS/PrusaSlicer --help-fff"
   ]
  },
  {
   "cell_type": "markdown",
   "id": "f626202a",
   "metadata": {},
   "source": [
    "### View L0/L3.gcode in Prusa"
   ]
  },
  {
   "cell_type": "markdown",
   "id": "9ae8ed63",
   "metadata": {},
   "source": [
    "# 4. Go print gcode files manually. \n"
   ]
  },
  {
   "cell_type": "code",
   "execution_count": null,
   "id": "cc047332",
   "metadata": {},
   "outputs": [],
   "source": [
    "# or send to simplyprint.io for later"
   ]
  },
  {
   "cell_type": "markdown",
   "id": "cceb6233",
   "metadata": {},
   "source": [
    "# 5. Take measurements using a caliper. Show .csv"
   ]
  },
  {
   "cell_type": "markdown",
   "id": "e77a238c",
   "metadata": {},
   "source": [
    "# 6. NHST null hypothesis significance testing \n"
   ]
  },
  {
   "cell_type": "markdown",
   "id": "bc7c5055",
   "metadata": {},
   "source": [
    "### Automatically select and execute statistical test using TEA"
   ]
  },
  {
   "cell_type": "code",
   "execution_count": null,
   "id": "ab000b18",
   "metadata": {},
   "outputs": [],
   "source": [
    "import subprocess\n",
    "# pip install tealang\n",
    "import tea"
   ]
  },
  {
   "cell_type": "markdown",
   "id": "dd59ea22",
   "metadata": {},
   "source": [
    "##### 1/5 Dataset (rows are treated as individual observations, i.e. all variables are between-subjects.)"
   ]
  },
  {
   "cell_type": "code",
   "execution_count": null,
   "id": "344073c4",
   "metadata": {},
   "outputs": [],
   "source": [
    "data_path = \"./cube_observations.csv\""
   ]
  },
  {
   "cell_type": "markdown",
   "id": "466b81d4",
   "metadata": {},
   "source": [
    "##### 2/5 Variables "
   ]
  },
  {
   "cell_type": "markdown",
   "id": "4f8d8db1",
   "metadata": {},
   "source": [
    "#### Data types short help\n",
    "##### nominal (discrete categories)\n",
    "##### ordinal (discrete ordered categories)\n",
    "##### numeric (continuous values!, range spec. fx [0,1] is optional)\n",
    "##### - interval scale: real-additive (+)&(-) only valid ops.; 0-only a value (does not indicate lack of value); fx temperature/12H clock\n",
    "##### - ratio scale: real-multiplicative (*)&(/)&(mean/median) also valid. ops.; 0 spec. elem fx. object's physical measurements \n",
    "      think binomial vs count (discrete)\n"
   ]
  },
  {
   "cell_type": "code",
   "execution_count": null,
   "id": "4de71f72",
   "metadata": {},
   "outputs": [],
   "source": [
    "\n",
    "variables = [\n",
    "    {\n",
    "        'name' : 'layer height',\n",
    "        'data type' : 'ratio'\n",
    "        # ,'range' : [0.08, 0.28] #optional par.\n",
    "    },\n",
    "    {\n",
    "        'name' : 'material',\n",
    "        'data type' : 'nominal',\n",
    "        'categories' : ['PLA', 'PETG', 'ABS']    # , 'nylon', 'metal']\n",
    "    },\n",
    "    {\n",
    "        'name' : 'shrinkage x-axis',\n",
    "        'data type' : 'ratio'\n",
    "    },\n",
    "    {\n",
    "        'name' : 'shrinkage y-axis',\n",
    "        'data type' : 'ratio'\n",
    "    },\n",
    "    {\n",
    "        'name' : 'shrinkage z-axis',\n",
    "        'data type' : 'ratio'\n",
    "    }\n",
    "        \n",
    "# other variables infill pattern, travel speed?\n",
    "]"
   ]
  },
  {
   "cell_type": "markdown",
   "id": "d5bd0334",
   "metadata": {},
   "source": [
    "##### 3/5 Study design (describe independent variables and dependent variables. multiple hypothesis?)"
   ]
  },
  {
   "cell_type": "code",
   "execution_count": null,
   "id": "fb5e9748",
   "metadata": {},
   "outputs": [],
   "source": [
    "study_design = {\n",
    "    'study type': 'experiment',\n",
    "    'independent variables': ['layer height', 'material'],\n",
    "    'dependent variables': ['shrinkage x-axis', 'shrinkage y-axis', 'shrinkage z-axis']\n",
    "}"
   ]
  },
  {
   "cell_type": "markdown",
   "id": "ae6b03e1",
   "metadata": {},
   "source": [
    "##### 4/5 (optional )Assumptions (explicitely provide domain knowledge - relevant to testing your hypothesis)"
   ]
  },
  {
   "cell_type": "code",
   "execution_count": null,
   "id": "ce1d6f2c",
   "metadata": {},
   "outputs": [],
   "source": [
    "# physical phenomena usually normally distributed. \n",
    "#assumptions = {\n",
    "#    'normal distribution': ['shrinkage x-axis', 'shrinkage y-axis', 'shrinkage z-axis']\n",
    "#}\n",
    "#tea.assume(assumptions, 'strict')   # mode relaxed(enforce user's choice) / strict(override)"
   ]
  },
  {
   "cell_type": "markdown",
   "id": "5d26f8fb",
   "metadata": {},
   "source": [
    "##### 5/5 Hypothesis"
   ]
  },
  {
   "cell_type": "code",
   "execution_count": null,
   "id": "157a5f6b",
   "metadata": {},
   "outputs": [],
   "source": [
    "# example usage \n",
    "tea.data(data_path) # no \"key\" column provided, so between subject study.  # (data_path, key='ID')\n",
    "                    # Exactly one observation per print parameter settings\n",
    "tea.define_variables(variables)\n",
    "tea.define_study_design(study_design)\n",
    "tea.hypothesize(['material', 'shrinkage z-axis' ], ['material:PETG > ABS'])"
   ]
  },
  {
   "cell_type": "code",
   "execution_count": null,
   "id": "d8dd3472",
   "metadata": {},
   "outputs": [],
   "source": [
    "\"\"\"\n",
    "Results:\n",
    "--------------\n",
    "Test: kruskall_wallis\n",
    "***Test assumptions:\n",
    "Independent (not paired) observations: material\n",
    "Exactly one explanatory variable: material\n",
    "Exactly one explained variable: shrinkage x-axis\n",
    "Continuous (not categorical) data: shrinkage x-axis\n",
    "Variable is categorical: material\n",
    "Variable has two or more categories: material\n",
    "\n",
    "***Test results:\n",
    "name = Kruskall Wallis\n",
    "test_statistic = 9.25461\n",
    "p_value = 0.00978\n",
    "adjusted_p_value = 0.00978\n",
    "alpha = 0.05\n",
    "dof = 4\n",
    "Null hypothesis = There is no difference in medians between material = PLA, PETG, ABS on shrinkage x-axis.\n",
    "Interpretation = t(4) = 9.25461, p = 0.00978. Reject the null hypothesis at alpha = 0.05. There is a difference in medians of shrinkage x-axis for at least one of material = PLA, PETG, ABS.\n",
    "\n",
    "\"\"\""
   ]
  }
 ],
 "metadata": {
  "kernelspec": {
   "display_name": "Python 3 (ipykernel)",
   "language": "python",
   "name": "python3"
  },
  "language_info": {
   "codemirror_mode": {
    "name": "ipython",
    "version": 3
   },
   "file_extension": ".py",
   "mimetype": "text/x-python",
   "name": "python",
   "nbconvert_exporter": "python",
   "pygments_lexer": "ipython3",
   "version": "3.9.13"
  }
 },
 "nbformat": 4,
 "nbformat_minor": 5
}
