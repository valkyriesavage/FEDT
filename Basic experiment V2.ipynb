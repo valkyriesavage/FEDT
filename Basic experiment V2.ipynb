{
 "cells": [
  {
   "cell_type": "markdown",
   "id": "2b924961",
   "metadata": {},
   "source": [
    "# 1. Global Variables of the experiment\n"
   ]
  },
  {
   "cell_type": "code",
   "execution_count": 9,
   "id": "6e6a17fa",
   "metadata": {},
   "outputs": [],
   "source": [
    "\n",
    "import itertools\n",
    "import csv"
   ]
  },
  {
   "cell_type": "code",
   "execution_count": null,
   "id": "7fdfbc50",
   "metadata": {},
   "outputs": [],
   "source": []
  },
  {
   "cell_type": "code",
   "execution_count": 10,
   "id": "26c274c8",
   "metadata": {},
   "outputs": [],
   "source": [
    "# step 2 specify geometry\n",
    "stl_path = '/Users/norapusok/slicer/models/20mm_cube.stl'\n",
    "###############################\n",
    "# step 2a parametric geometry\n",
    "cube_side = '20 mm'\n",
    "###############################\n",
    "# step 3 slicer parameters\n",
    "\n",
    "# place sliced files ready to be printed in dir\n",
    "output_sliced = u\"/Users/norapusok/slicer/sliced_files/\"\n",
    "path_slicer_exec = '/Applications/PrusaSlicer.app/Contents/MacOS/PrusaSlicer'\n",
    "\n",
    "# label names based on concat \"L\" + 0,1,2....\n",
    "# N - max nr. of output files to print\n",
    "def inf_labels(N=100): return list( map(lambda s1, s2: s1 + s2, itertools.repeat(\"L\"), map(str, range(N))) )\n",
    "glob_labels = []\n",
    "\n",
    "labelled_meshes = u\"/Users/norapusok/slicer/labelled_meshes/\"\n",
    "#slicer_input_meshes = [\"L0.stl\", \"L1.stl\", \"L2.stl\", \"L3.stl\"]\n",
    "#def input_meshes(mlabels): return list( map(lambda s1, s2: s1 + s2, mlabels, repeat(\".stl\")) )\n",
    "# usage, max nr of prints as par\n",
    "# labels = inf_labels(1000)\n",
    "# input_meshes(labels)\n",
    "\n",
    "# dict key is - parameter name from config file for the optionals\n",
    "# specify value ranges - termianl search /Applications/PrusaSlicer.app/Contents/MacOS/PrusaSlicer --help-fff\n",
    "dict_slicer_pars = {        \n",
    "         'layer_height':('0.01', '0.3') \n",
    "         ,'fill_pattern':['stars', 'concentric']\n",
    "        }\n",
    "# specify number of prints of each unique parameter set.\n",
    "duplicate_print = 1\n",
    "output_configs = u\"/Users/norapusok/slicer/output_configs/\"\n",
    "\n",
    "# in Prusa slicer GUI select printer fx. Original Prusa i3 MK3, \n",
    "#                     select material if none Generic PLA/PETG/ABS\n",
    "#      than File/Export/Export config... to obtain config.ini, change path below\n",
    "config_pla = u\"/Users/norapusok/slicer/config_prusa/config.ini\"\n",
    "#config_petg = u\"/Users/norapusok/slicer/config_prusa/config_petg.ini\"\n",
    "\n",
    "# in config.ini file insert first row [DEFAULT] (for parserlibrary to parse) \n",
    "#                    find the parameter you want to vary fx. fill_pattern & layer_height in the tuple\n",
    "#                  or change value of par in GUI expert settings and export config_bundle to expose par name.\n",
    "# pars \n",
    "\n",
    "###############################          \n",
    "\n",
    "# step 4  manual printing\n",
    "# step 5 measurements csv\n",
    "# step 6 TEA"
   ]
  },
  {
   "cell_type": "markdown",
   "id": "f3220b95",
   "metadata": {},
   "source": [
    "# 3. Slicing "
   ]
  },
  {
   "cell_type": "code",
   "execution_count": 3,
   "id": "c3d03852",
   "metadata": {},
   "outputs": [
    {
     "name": "stdout",
     "output_type": "stream",
     "text": [
      "['layer_height', 'fill_pattern']\n",
      "[('0.01', 'stars'), ('0.01', 'concentric'), ('0.3', 'stars'), ('0.3', 'concentric')]\n"
     ]
    }
   ],
   "source": [
    "# model of comibining parameters from dict_slicer_pars: Cartesian product\n",
    "list_par_names = tuple(dict_slicer_pars.keys())\n",
    "list_vals = list(itertools.product(*dict_slicer_pars.values())) # itertools starmap ? \n",
    "\n",
    "#hey = [list(zip(list_par_names, val)) for val in list_vals]\n",
    "#print(hey[1])\n",
    "print(list(list_par_names))\n",
    "print(list_vals)\n"
   ]
  },
  {
   "cell_type": "code",
   "execution_count": 4,
   "id": "ea17b0ae",
   "metadata": {},
   "outputs": [
    {
     "name": "stdout",
     "output_type": "stream",
     "text": [
      "['L0', ('layer_height', '0.01'), ('fill_pattern', 'stars')]\n",
      "['L1', ('layer_height', '0.01'), ('fill_pattern', 'concentric')]\n",
      "['L2', ('layer_height', '0.3'), ('fill_pattern', 'stars')]\n",
      "['L3', ('layer_height', '0.3'), ('fill_pattern', 'concentric')]\n",
      "['L0', 'L1', 'L2', 'L3']\n"
     ]
    }
   ],
   "source": [
    "import configparser #https://docs.python.org/3/library/configparser.html\n",
    "import io\n",
    "# parlist [(par1,val1), (par2,val2), ....]\n",
    "#def change_config_par(parlist, config):\n",
    "#    for (par,val) in parlist:\n",
    "#        config['DEFAULT'][par]=val\n",
    "#    return config\n",
    "    \n",
    "\n",
    "# def make_config(list_par_names, list_vals, reps=duplicate_print):    \n",
    "# zip to format [(par1,val1), (par2,val2), ....] so per print nr. of pars can differ\n",
    "zipped = [list(zip(list_par_names, val)) for val in list_vals]\n",
    "    \n",
    "# labels\n",
    "glob_labels = inf_labels(N=len(zipped)*duplicate_print)\n",
    "labels = inf_labels(N=len(zipped)*duplicate_print)\n",
    "# counter\n",
    "c = 0\n",
    "    \n",
    "# write log of sliced file data to csv\n",
    "with open(\"output_slicing.csv\", \"w\") as fp:\n",
    "    wr = csv.writer(fp, delimiter='\\t')\n",
    "    # foreach (par,val)\n",
    "    for partuple in zipped:\n",
    "        # repeat for #duplicate_print\n",
    "        for _reps in range(duplicate_print):\n",
    "             \n",
    "                # parse input config\n",
    "                config = configparser.ConfigParser()\n",
    "                config.read(config_pla) # potentially change for other filament\n",
    "\n",
    "                #replace par=val in parsed config\n",
    "                for (par,val) in partuple:\n",
    "                    config['DEFAULT'][par]=val\n",
    "                \n",
    "                # open config-<labelname> write\n",
    "                with open(output_configs+ \"/config-\" + labels[c] + \".ini\", 'w') as out:\n",
    "                    \n",
    "                    #remove the manually added section header \n",
    "                    #https://stackoverflow.com/questions/66137056/how-to-write-ini-files-without-sections\n",
    "                    buf = io.StringIO()\n",
    "                    config.write(buf)\n",
    "                    buf.seek(0)\n",
    "                    next(buf) #skip first line with [DEFAULT] \n",
    "                    \n",
    "                    # write to file without section header\n",
    "                    out.write(buf.read())\n",
    "                \n",
    "                # add label & (par_i,val_i) .. to log\n",
    "                wr.writerow([labels[c]] + partuple)  \n",
    "                \n",
    "                # print logged lines to console\n",
    "                print([labels[c]] + partuple)\n",
    "                \n",
    "                # increment labels pointer\n",
    "                c = c+1\n",
    "# print labels sequence                \n",
    "print(glob_labels)"
   ]
  },
  {
   "cell_type": "code",
   "execution_count": 5,
   "id": "c48abfa7",
   "metadata": {},
   "outputs": [],
   "source": [
    "# https://github.com/valkyriesavage/objectify\n",
    "import subprocess\n",
    "\n",
    "def slice_mesh(custom_stl_path, custom_config_path, output_dir):\n",
    "    slice_command = [path_slicer_exec,\n",
    "                    '--load', custom_config_path, \n",
    "                    '--export-gcode', custom_stl_path,\n",
    "                    '--output', output_dir]\n",
    "    results = subprocess.check_output(slice_command)\n",
    "    \n",
    "    # the last line from Prusa Slicer is \"Slicing result exported to ...\"\n",
    "    last_line = results.decode('utf-8').strip().split(\"\\n\")[-1]\n",
    "    location = last_line.split(\" exported to \")[1]\n",
    "\n",
    "    return location"
   ]
  },
  {
   "cell_type": "markdown",
   "id": "2be1c0a3",
   "metadata": {},
   "source": [
    "### for now manually check that meshes match with labels in dir."
   ]
  },
  {
   "cell_type": "code",
   "execution_count": 6,
   "id": "cc969e49",
   "metadata": {},
   "outputs": [
    {
     "name": "stdout",
     "output_type": "stream",
     "text": [
      "L0\n",
      "/Users/norapusok/slicer/labelled_meshes/L0.stl\n",
      "/Users/norapusok/slicer/output_configs/config-L0.ini\n",
      "/Users/norapusok/slicer/sliced_files/L0.gcode\n",
      "L1\n",
      "/Users/norapusok/slicer/labelled_meshes/L1.stl\n",
      "/Users/norapusok/slicer/output_configs/config-L1.ini\n",
      "/Users/norapusok/slicer/sliced_files/L1.gcode\n",
      "L2\n",
      "/Users/norapusok/slicer/labelled_meshes/L2.stl\n",
      "/Users/norapusok/slicer/output_configs/config-L2.ini\n",
      "/Users/norapusok/slicer/sliced_files/L2.gcode\n",
      "L3\n",
      "/Users/norapusok/slicer/labelled_meshes/L3.stl\n",
      "/Users/norapusok/slicer/output_configs/config-L3.ini\n",
      "/Users/norapusok/slicer/sliced_files/L3.gcode\n"
     ]
    }
   ],
   "source": [
    "\n",
    "\n",
    "for label in labels:\n",
    "    # custom paths for each slicer CLI command in slice_mesh\n",
    "    labelled_stl = labelled_meshes + label + \".stl\"\n",
    "    config_path = '/Users/norapusok/slicer/output_configs/config-' + label + \".ini\"\n",
    "    sliced_fname = output_sliced + label +\".gcode\"\n",
    "    print(label)\n",
    "    print(labelled_stl)\n",
    "    print(config_path)\n",
    "    print(sliced_fname)\n",
    "    slice_mesh(labelled_stl, config_path, sliced_fname)"
   ]
  },
  {
   "cell_type": "markdown",
   "id": "c40cee61",
   "metadata": {},
   "source": [
    "### confirm gcodes in sliced_files dir."
   ]
  },
  {
   "cell_type": "markdown",
   "id": "9ae8ed63",
   "metadata": {},
   "source": [
    "# 4. Go print gcode files manually. \n"
   ]
  },
  {
   "cell_type": "code",
   "execution_count": null,
   "id": "cc047332",
   "metadata": {},
   "outputs": [],
   "source": [
    "# or send to simplyprint.io for later"
   ]
  },
  {
   "cell_type": "markdown",
   "id": "cceb6233",
   "metadata": {},
   "source": [
    "# 5. Take measurements using a caliper. Show .csv"
   ]
  },
  {
   "cell_type": "code",
   "execution_count": 8,
   "id": "9a741b43",
   "metadata": {},
   "outputs": [],
   "source": [
    "# write log of sliced file data to csv\n",
    "with open(\"input_measurements.csv\", \"w\") as fp:\n",
    "    wr = csv.writer(fp, delimiter=',')\n",
    "    for label in labels:\n",
    "        wr.writerow([label])"
   ]
  },
  {
   "cell_type": "code",
   "execution_count": null,
   "id": "61f593a8",
   "metadata": {},
   "outputs": [],
   "source": []
  },
  {
   "cell_type": "markdown",
   "id": "e77a238c",
   "metadata": {},
   "source": [
    "# 6. NHST null hypothesis significance testing \n"
   ]
  },
  {
   "cell_type": "markdown",
   "id": "bc7c5055",
   "metadata": {},
   "source": [
    "### Automatically select and execute statistical test using TEA"
   ]
  },
  {
   "cell_type": "code",
   "execution_count": null,
   "id": "ab000b18",
   "metadata": {},
   "outputs": [],
   "source": [
    "import subprocess\n",
    "# pip install tealang\n",
    "import tea"
   ]
  },
  {
   "cell_type": "markdown",
   "id": "dd59ea22",
   "metadata": {},
   "source": [
    "##### 1/5 Dataset (rows are treated as individual observations, i.e. all variables are between-subjects.)"
   ]
  },
  {
   "cell_type": "code",
   "execution_count": null,
   "id": "344073c4",
   "metadata": {},
   "outputs": [],
   "source": [
    "data_path = \"./cube_observations.csv\""
   ]
  },
  {
   "cell_type": "markdown",
   "id": "466b81d4",
   "metadata": {},
   "source": [
    "##### 2/5 Variables "
   ]
  },
  {
   "cell_type": "markdown",
   "id": "4f8d8db1",
   "metadata": {},
   "source": [
    "#### Data types short help\n",
    "##### nominal (discrete categories)\n",
    "##### ordinal (discrete ordered categories)\n",
    "##### numeric (continuous values!, range spec. fx [0,1] is optional)\n",
    "##### - interval scale: real-additive (+)&(-) only valid ops.; 0-only a value (does not indicate lack of value); fx temperature/12H clock\n",
    "##### - ratio scale: real-multiplicative (*)&(/)&(mean/median) also valid. ops.; 0 spec. elem fx. object's physical measurements \n",
    "      think binomial vs count (discrete)\n"
   ]
  },
  {
   "cell_type": "code",
   "execution_count": null,
   "id": "4de71f72",
   "metadata": {},
   "outputs": [],
   "source": [
    "\n",
    "variables = [\n",
    "    {\n",
    "        'name' : 'layer height',\n",
    "        'data type' : 'ratio'\n",
    "        # ,'range' : [0.08, 0.28] #optional par.\n",
    "    },\n",
    "    {\n",
    "        'name' : 'material',\n",
    "        'data type' : 'nominal',\n",
    "        'categories' : ['PLA', 'PETG', 'ABS']    # , 'nylon', 'metal']\n",
    "    },\n",
    "    {\n",
    "        'name' : 'shrinkage x-axis',\n",
    "        'data type' : 'ratio'\n",
    "    },\n",
    "    {\n",
    "        'name' : 'shrinkage y-axis',\n",
    "        'data type' : 'ratio'\n",
    "    },\n",
    "    {\n",
    "        'name' : 'shrinkage z-axis',\n",
    "        'data type' : 'ratio'\n",
    "    }\n",
    "        \n",
    "# other variables infill pattern, travel speed?\n",
    "]"
   ]
  },
  {
   "cell_type": "markdown",
   "id": "d5bd0334",
   "metadata": {},
   "source": [
    "##### 3/5 Study design (describe independent variables and dependent variables. multiple hypothesis?)"
   ]
  },
  {
   "cell_type": "code",
   "execution_count": null,
   "id": "fb5e9748",
   "metadata": {},
   "outputs": [],
   "source": [
    "study_design = {\n",
    "    'study type': 'experiment',\n",
    "    'independent variables': ['layer height', 'material'],\n",
    "    'dependent variables': ['shrinkage x-axis', 'shrinkage y-axis', 'shrinkage z-axis']\n",
    "}"
   ]
  },
  {
   "cell_type": "markdown",
   "id": "ae6b03e1",
   "metadata": {},
   "source": [
    "##### 4/5 (optional )Assumptions (explicitely provide domain knowledge - relevant to testing your hypothesis)"
   ]
  },
  {
   "cell_type": "code",
   "execution_count": null,
   "id": "ce1d6f2c",
   "metadata": {},
   "outputs": [],
   "source": [
    "# physical phenomena usually normally distributed. \n",
    "#assumptions = {\n",
    "#    'normal distribution': ['shrinkage x-axis', 'shrinkage y-axis', 'shrinkage z-axis']\n",
    "#}\n",
    "#tea.assume(assumptions, 'strict')   # mode relaxed(enforce user's choice) / strict(override)"
   ]
  },
  {
   "cell_type": "markdown",
   "id": "5d26f8fb",
   "metadata": {},
   "source": [
    "##### 5/5 Hypothesis"
   ]
  },
  {
   "cell_type": "code",
   "execution_count": null,
   "id": "157a5f6b",
   "metadata": {},
   "outputs": [],
   "source": [
    "# example usage \n",
    "tea.data(data_path) # no \"key\" column provided, so between subject study.  # (data_path, key='ID')\n",
    "                    # Exactly one observation per print parameter settings\n",
    "tea.define_variables(variables)\n",
    "tea.define_study_design(study_design)\n",
    "tea.hypothesize(['material', 'shrinkage z-axis' ], ['material:PETG > ABS'])"
   ]
  },
  {
   "cell_type": "code",
   "execution_count": null,
   "id": "d8dd3472",
   "metadata": {},
   "outputs": [],
   "source": [
    "\"\"\"\n",
    "Results:\n",
    "--------------\n",
    "Test: kruskall_wallis\n",
    "***Test assumptions:\n",
    "Independent (not paired) observations: material\n",
    "Exactly one explanatory variable: material\n",
    "Exactly one explained variable: shrinkage x-axis\n",
    "Continuous (not categorical) data: shrinkage x-axis\n",
    "Variable is categorical: material\n",
    "Variable has two or more categories: material\n",
    "\n",
    "***Test results:\n",
    "name = Kruskall Wallis\n",
    "test_statistic = 9.25461\n",
    "p_value = 0.00978\n",
    "adjusted_p_value = 0.00978\n",
    "alpha = 0.05\n",
    "dof = 4\n",
    "Null hypothesis = There is no difference in medians between material = PLA, PETG, ABS on shrinkage x-axis.\n",
    "Interpretation = t(4) = 9.25461, p = 0.00978. Reject the null hypothesis at alpha = 0.05. There is a difference in medians of shrinkage x-axis for at least one of material = PLA, PETG, ABS.\n",
    "\n",
    "\"\"\""
   ]
  },
  {
   "cell_type": "code",
   "execution_count": null,
   "id": "5815c2f8",
   "metadata": {},
   "outputs": [],
   "source": []
  }
 ],
 "metadata": {
  "kernelspec": {
   "display_name": "Python 3 (ipykernel)",
   "language": "python",
   "name": "python3"
  },
  "language_info": {
   "codemirror_mode": {
    "name": "ipython",
    "version": 3
   },
   "file_extension": ".py",
   "mimetype": "text/x-python",
   "name": "python",
   "nbconvert_exporter": "python",
   "pygments_lexer": "ipython3",
   "version": "3.11.3"
  }
 },
 "nbformat": 4,
 "nbformat_minor": 5
}
