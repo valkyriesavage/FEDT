{
 "cells": [
  {
   "cell_type": "markdown",
   "id": "70bd7c4c-16b9-4fc0-9a08-ae7b0b25412f",
   "metadata": {},
   "source": [
    "# 1. Specify all parameters to be varied\n"
   ]
  },
  {
   "cell_type": "code",
   "execution_count": 1,
   "id": "cff05206-308c-4ffe-a980-06fb48753c68",
   "metadata": {},
   "outputs": [
    {
     "name": "stdout",
     "output_type": "stream",
     "text": [
      "This experiment will require fabricating 800 unique objects.\n",
      "Users will perform 40000 interactions.\n",
      "120000 total measurements will be recorded.\n"
     ]
    }
   ],
   "source": [
    "from fedt import *\n",
    "\n",
    "CAD_variables_printer = [{\n",
    "        'name' : 'side length',\n",
    "        'data type' : 'ratio',\n",
    "        'test_values' : [x for x in range(10, 20, 5)],\n",
    "        'argname' : 'side length'\n",
    "    }]\n",
    "CAM_variables_printer = [{\n",
    "        'name' : 'layer height',\n",
    "        'data type' : 'ratio',\n",
    "        'test_values' : [x / 10.0 for x in range(5, 20, 5)], # i hate this so much, but we would need numpy arange to make it better\n",
    "        'argname' : '--layer-height'\n",
    "    },\n",
    "    {\n",
    "        'name' : 'fill pattern',\n",
    "        'data type' : 'nominal',\n",
    "        'test_values' : ['triangles', 'concentric'], # I would like them all to have the same named thing so I can call it\n",
    "        'argname' : '--fill-pattern'\n",
    "    }]\n",
    "CAD_variables_laser = [{\n",
    "        'name' : 'radius',\n",
    "        'data type' : 'ratio',\n",
    "        'test_values' : [x for x in range(10, 20, 5)],\n",
    "        'argname' : 'radius'\n",
    "    }]\n",
    "CAM_variables_laser = [{\n",
    "        'name' : 'cut power',\n",
    "        'data type' : 'ratio',\n",
    "        'test_values' : [x for x in range(5, 100, 10)],\n",
    "        'argtype' : 'profile'\n",
    "    },\n",
    "    {\n",
    "        'name' : 'cut speed',\n",
    "        'data type' : 'ratio',\n",
    "        'test_values' : [x for x in range(5, 100, 10)],\n",
    "        'argtype' : 'profile'\n",
    "    }]\n",
    "fab_repetitions = 2\n",
    "\n",
    "sample_post_process_variable = {\n",
    "    'name' : 'paint type',\n",
    "    'data type' : 'nominal',\n",
    "    'test_values' : ['lacquer', 'spraypaint'],\n",
    "    'description' : 'use the {} on the object'\n",
    "}\n",
    "post_process_variables = [sample_post_process_variable]\n",
    "post_process_repetitions = 1\n",
    "\n",
    "sample_interaction_variable = {\n",
    "    'name' : 'user push force level',\n",
    "    'data type' : 'ratio',\n",
    "    'test_values' : [x for x in range(10)],\n",
    "    'instruction' : 'push on the button with force {} / 10' \n",
    "}\n",
    "interaction_variables = [sample_interaction_variable]\n",
    "interaction_repetitions = 1 # TODO: are interaction repetitions ever different from measurement repetitions? I kinda think NO\n",
    "\n",
    "measurement_variables = [{\n",
    "        'name' : 'printed x-axis',\n",
    "        'data type' : 'ratio'\n",
    "    },\n",
    "    {\n",
    "        'name' : 'printed y-axis',\n",
    "        'data type' : 'ratio'\n",
    "    },\n",
    "    {\n",
    "        'name' : 'printed z-axis',\n",
    "        'data type' : 'ratio'\n",
    "    }\n",
    "]\n",
    "measurement_repetitions = 5\n",
    "\n",
    "tea_hypothesis = (['material', 'measured z-axis' ], ['fill_pattern:concentric > triangle'])\n",
    "\n",
    "###########\n",
    "\n",
    "experiment_size(CAD_variables_laser, CAM_variables_laser, fab_repetitions,\n",
    "                post_process_variables, post_process_repetitions,\n",
    "                interaction_variables,\n",
    "                measurement_variables, measurement_repetitions)"
   ]
  },
  {
   "cell_type": "markdown",
   "id": "313fabb6",
   "metadata": {},
   "source": [
    "# 2. CAD"
   ]
  },
  {
   "cell_type": "code",
   "execution_count": null,
   "id": "b69a74fb",
   "metadata": {},
   "outputs": [],
   "source": [
    "from fedt_print import build_geometry\n",
    "from fedt_laser import build_geometry\n",
    "\n",
    "# FreeCAD create cube    \n",
    "def geometry_function_stl(App, side_length='20 mm'):\n",
    "    App.ActiveDocument.addObject(\"Part::Box\",\"Box\")\n",
    "    App.ActiveDocument.ActiveObject.Label = \"Cube\"\n",
    "    App.ActiveDocument.recompute()\n",
    "    FreeCAD.ActiveDocument.getObject('Box').Width = side_length\n",
    "    FreeCAD.ActiveDocument.getObject('Box').Length = side_length\n",
    "    FreeCAD.ActiveDocument.getObject('Box').Height = side_length\n",
    "    App.ActiveDocument.recompute()\n",
    "\n",
    "def label_function_stl(App, label_string=\"L0\"):\n",
    "    # https://wiki.freecad.org/Draft_ShapeString_tutorial\n",
    "    ss=Draft.make_shapestring(String=label_string, FontFile=FONT_LOCATION, Size=5.0, Tracking=0.0)\n",
    "    plm=FreeCAD.Placement()\n",
    "    plm.Base=FreeCAD.Vector(4.0, 4.0, side=20)\n",
    "    plm.Rotation.Q=(0.0, 0.0, 0, 1.0)\n",
    "    ss.Placement=plm\n",
    "    ss.Support=None\n",
    "    Draft.autogroup(ss)\n",
    "    FreeCAD.ActiveDocument.recompute()\n",
    "    \n",
    "    App.ActiveDocument.addObject('Part::Extrusion','Extrude')\n",
    "    f = App.ActiveDocument.getObject('Extrude')\n",
    "    f.Base = App.ActiveDocument.getObject('ShapeString')\n",
    "    f.DirMode = \"Normal\"\n",
    "    f.DirLink = None\n",
    "    f.LengthFwd = 5.000000000000000\n",
    "    f.LengthRev = 0.000000000000000\n",
    "    f.Solid = False\n",
    "    f.Reversed = False\n",
    "    f.Symmetric = False\n",
    "    f.TaperAngle = 0.000000000000000\n",
    "    f.TaperAngleRev = 0.000000000000000\n",
    "    App.ActiveDocument.recompute()\n",
    "    App.ActiveDocument.getObject('ShapeString').Visibility = False\n",
    "    App.ActiveDocument.recompute()\n",
    "    App.ActiveDocument.getObject('Extrude').Placement = App.Placement(App.Vector(2,2,0),App.Rotation(App.Vector(0,0,1),0))\n",
    "    App.ActiveDocument.recompute()\n",
    "    #FreeCAD.ActiveDocument.getObject('Extrude').Shape.exportStl('ext.stl')\n",
    "\n",
    "# draw a circle in svg\n",
    "def geometry_function_svg(d, radius=30):\n",
    "    d.append(draw.Circle(-40, -10, radius,\n",
    "                fill='none', stroke_width=1, stroke='red'))\n",
    "\n",
    "def label_function_svg(d, label_string=\"L0\"):\n",
    "    d.append(draw.Text(x=label_location[0], y=label_location[1], fill='blue', text=label, font_size=10))"
   ]
  },
  {
   "cell_type": "markdown",
   "id": "30d1417e",
   "metadata": {},
   "source": [
    "# 3. CAM"
   ]
  },
  {
   "cell_type": "code",
   "execution_count": null,
   "id": "18959d5c",
   "metadata": {},
   "outputs": [],
   "source": [
    "from fedt_print import prep_cam, do_cam\n",
    "from fedt_laser import prep_cam, do_cam"
   ]
  },
  {
   "cell_type": "markdown",
   "id": "9ae8ed63",
   "metadata": {},
   "source": [
    "# 4. Fabrication\n"
   ]
  },
  {
   "cell_type": "code",
   "execution_count": null,
   "id": "cc047332",
   "metadata": {},
   "outputs": [],
   "source": [
    "from fedt_print import fabricate\n",
    "from fedt_laser import fabricate\n",
    "\n",
    "vars_to_labels = {}\n",
    "i = 0\n",
    "CAM_paths = []\n",
    "\n",
    "variables_requiring_labels = CAD_variables_laser + CAM_variables_laser + post_process_variables\n",
    "\n",
    "for var in variables_requiring_labels:\n",
    "    # we have to reshape these slightly so that we can build the correct slicing\n",
    "    \n",
    "\n",
    "for h in variables['layer height']['values']:\n",
    "    for p in variables['fill pattern']['categories']:\n",
    "        for rep in range(fab_repetitions):\n",
    "            # make a labelled thing\n",
    "            label = \"L\" + str(i)\n",
    "            stl = build_geometry(geometry_function_svg, label_function_svg, label_string=label)\n",
    "            slicer_settings = {\n",
    "                '--layer-height': h,\n",
    "                '--fill-pattern': p\n",
    "            }\n",
    "            gcode_path = slice_mesh(stl, slicer_settings)\n",
    "            i+=1\n",
    "            CAM_paths.append(gcode_path)\n",
    "            vars_to_labels[h+\"_\"+p+\"//\"+str(rep)] = label\n",
    "\n",
    "# or send to simplyprint.io for later\n",
    "for CAM_path in CAM_paths:\n",
    "    fabricate(CAM_path)"
   ]
  },
  {
   "cell_type": "markdown",
   "id": "cceb6233",
   "metadata": {},
   "source": [
    "# 5. Post-Processing"
   ]
  },
  {
   "cell_type": "code",
   "execution_count": 2,
   "id": "526ab9f4-7cb4-4b04-bf4d-a3fbedf96302",
   "metadata": {},
   "outputs": [],
   "source": [
    "\n",
    "# TODO: I was thinking that I need to print out the things to do here, but I actually\n",
    "# need to attach them somehow to the LABELS in the fabrication step. so that they know what to do to which.\n",
    "# and then we need to print... something here... so the user knows what to do..."
   ]
  },
  {
   "cell_type": "markdown",
   "id": "df4d4114-67c7-440b-b8a6-f7a8ef472934",
   "metadata": {},
   "source": [
    "# 6. Create measurement framework"
   ]
  },
  {
   "cell_type": "code",
   "execution_count": 4,
   "id": "1470c445-e646-42c8-8b21-3c2f2aab38f8",
   "metadata": {},
   "outputs": [
    {
     "ename": "NameError",
     "evalue": "name 'experiment_csv' is not defined",
     "output_type": "error",
     "traceback": [
      "\u001b[0;31m---------------------------------------------------------------------------\u001b[0m",
      "\u001b[0;31mNameError\u001b[0m                                 Traceback (most recent call last)",
      "Cell \u001b[0;32mIn[4], line 1\u001b[0m\n\u001b[0;32m----> 1\u001b[0m \u001b[38;5;28mprint\u001b[39m(\u001b[38;5;124m\"\u001b[39m\u001b[38;5;124mnow please fill \u001b[39m\u001b[38;5;124m\"\u001b[39m \u001b[38;5;241m+\u001b[39m \u001b[43mexperiment_csv\u001b[49m \u001b[38;5;241m+\u001b[39m \u001b[38;5;124m\"\u001b[39m\u001b[38;5;124m with data\u001b[39m\u001b[38;5;124m\"\u001b[39m)\n",
      "\u001b[0;31mNameError\u001b[0m: name 'experiment_csv' is not defined"
     ]
    }
   ],
   "source": [
    "from fedt_measure import create_experiment_csv\n",
    "experiment_csv = create_experiment_csv(vars_to_labels, measurement_variables, measurement_repetitions)\n",
    "\n",
    "print(\"now please fill \" + experiment_csv + \" with data\")"
   ]
  },
  {
   "cell_type": "markdown",
   "id": "b1c95ea8-2b14-4247-a7bf-fa043ee9f1b2",
   "metadata": {},
   "source": [
    "# 6. User Interaction"
   ]
  },
  {
   "cell_type": "code",
   "execution_count": 3,
   "id": "cfb79871-327b-4730-a3ae-d4e8096a22a4",
   "metadata": {},
   "outputs": [],
   "source": [
    "\n",
    "\n",
    "# TODO : figure out how to deal with this. is it true that we might need to generate the csv first? I... would think so."
   ]
  },
  {
   "cell_type": "markdown",
   "id": "e77a238c",
   "metadata": {},
   "source": [
    "# 8. Tea-based hypothesis testing"
   ]
  },
  {
   "cell_type": "code",
   "execution_count": null,
   "id": "4de71f72",
   "metadata": {},
   "outputs": [],
   "source": [
    "from fedt_tea import do_experiment\n",
    "\n",
    "tea_results = do_experiment(measurement_variables,\n",
    "                            tea_hypothesis,\n",
    "                            experiment_csv,\n",
    "                            CAD_variables,\n",
    "                            CAM_variables,\n",
    "                            post_process_variables,\n",
    "                            interaction_variables)"
   ]
  },
  {
   "cell_type": "markdown",
   "id": "35e75c90-48bd-4f1a-86cc-e1d342195516",
   "metadata": {},
   "source": [
    "# 9. Reporting"
   ]
  },
  {
   "cell_type": "code",
   "execution_count": null,
   "id": "f381b27f-23b7-4d2f-9d45-c4be076bf042",
   "metadata": {},
   "outputs": [],
   "source": [
    "from fedt_report import latex\n",
    "\n",
    "latex(tea_results,\n",
    "      tea_hypothesis,\n",
    "      CAD_variables,\n",
    "      CAM_variables,\n",
    "      print_repetitions,\n",
    "      post_process_variables,\n",
    "      post_process_repetitions,\n",
    "      interaction_variables,\n",
    "      interaction_repetitions,\n",
    "      measurement_variables,\n",
    "      measurement_repetitions)"
   ]
  }
 ],
 "metadata": {
  "kernelspec": {
   "display_name": "Python 3 (ipykernel)",
   "language": "python",
   "name": "python3"
  },
  "language_info": {
   "codemirror_mode": {
    "name": "ipython",
    "version": 3
   },
   "file_extension": ".py",
   "mimetype": "text/x-python",
   "name": "python",
   "nbconvert_exporter": "python",
   "pygments_lexer": "ipython3",
   "version": "3.11.3"
  }
 },
 "nbformat": 4,
 "nbformat_minor": 5
}
