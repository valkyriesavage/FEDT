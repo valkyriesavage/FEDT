{
 "cells": [
  {
   "cell_type": "markdown",
   "id": "70bd7c4c-16b9-4fc0-9a08-ae7b0b25412f",
   "metadata": {},
   "source": [
    "# 1. Specify all parameters to be varied\n"
   ]
  },
  {
   "cell_type": "code",
   "execution_count": 5,
   "id": "cff05206-308c-4ffe-a980-06fb48753c68",
   "metadata": {},
   "outputs": [],
   "source": [
    "CAD_variables = []\n",
    "CAM_variables = [{\n",
    "        'name' : 'layer height',\n",
    "        'data type' : 'ratio',\n",
    "        'test_values' : [x / 10.0 for x in range(5, 20, 5)], # i hate this so much, but we would need numpy arange to make it better\n",
    "        'argname' : '--layer-height'\n",
    "    },\n",
    "    {\n",
    "        'name' : 'fill pattern',\n",
    "        'data type' : 'nominal',\n",
    "        'categories' : ['triangles', 'concentric'],\n",
    "        'test_values' : ['triangles', 'concentric'], # I would like them all to have the same named thing so I can call it\n",
    "        'argname' : '--fill-pattern'\n",
    "    }]\n",
    "CAM_variables_laser = [{\n",
    "        'name' : 'cut power',\n",
    "        'data type' : 'ratio',\n",
    "        'test_values' : [x for x in range(5, 100, 10)],\n",
    "        'argtype' : 'profile'\n",
    "    },\n",
    "    {\n",
    "        'name' : 'cut speed',\n",
    "        'data type' : 'ratio',\n",
    "        'test_values' : [x for x in range(5, 100, 10)],\n",
    "        'argtype' : 'profile'\n",
    "    }]\n",
    "print_repetitions = 2\n",
    "\n",
    "sample_post_process_variable = {\n",
    "    'name' : 'paint type',\n",
    "    'data type' : 'nominal',\n",
    "    'categories' : ['lacquer', 'spraypaint'],\n",
    "    'test_values' : ['lacquer', 'spraypaint'], # I would like them all to have the same named thing so I can call it\n",
    "    'description' : 'use the {} on the object'\n",
    "}\n",
    "post_process_variables = [sample_post_process_variable]\n",
    "post_process_repetitions = 1\n",
    "\n",
    "sample_interaction_variable = {\n",
    "    'name' : 'user push force level',\n",
    "    'data type' : 'ratio',\n",
    "    'test_values' : [x for x in range(10)],\n",
    "    'instruction' : 'push on the button with force {} / 10' \n",
    "}\n",
    "interaction_variables = [sample_interaction_variable]\n",
    "interaction_repetitions = 1 # TODO: are interaction repetitions ever different from measurement repetitions?\n",
    "\n",
    "measurement_variables = [{\n",
    "        'name' : 'printed x-axis',\n",
    "        'data type' : 'ratio'\n",
    "    },\n",
    "    {\n",
    "        'name' : 'printed y-axis',\n",
    "        'data type' : 'ratio'\n",
    "    },\n",
    "    {\n",
    "        'name' : 'printed z-axis',\n",
    "        'data type' : 'ratio'\n",
    "    }\n",
    "]\n",
    "measurement_reptitions = 5\n",
    "\n",
    "tea_hypothesis = (['material', 'measured z-axis' ], ['fill_pattern:concentric > triangle'])"
   ]
  },
  {
   "cell_type": "markdown",
   "id": "313fabb6",
   "metadata": {},
   "source": [
    "# 2. CAD"
   ]
  },
  {
   "cell_type": "code",
   "execution_count": null,
   "id": "b69a74fb",
   "metadata": {},
   "outputs": [],
   "source": [
    "from fedt_print import make_labelled_stl\n",
    "from fedt_laser import create_labelled # TODO: call them all generic things and just import the right ones\n",
    "\n",
    "# FreeCAD create cube    \n",
    "def geometry_function(App, side = '20 mm'):\n",
    "    App.ActiveDocument.addObject(\"Part::Box\",\"Box\")\n",
    "    App.ActiveDocument.ActiveObject.Label = \"Cube\"\n",
    "    App.ActiveDocument.recompute()\n",
    "    FreeCAD.ActiveDocument.getObject('Box').Width = side\n",
    "    FreeCAD.ActiveDocument.getObject('Box').Length = side\n",
    "    FreeCAD.ActiveDocument.getObject('Box').Height = side\n",
    "    App.ActiveDocument.recompute()\n",
    "\n",
    "# draw a circle in svg\n",
    "def drawCircle(d):\n",
    "    d.append(draw.Circle(-40, -10, 30,\n",
    "                fill='none', stroke_width=1, stroke='red'))"
   ]
  },
  {
   "cell_type": "markdown",
   "id": "30d1417e",
   "metadata": {},
   "source": [
    "# 3. CAM"
   ]
  },
  {
   "cell_type": "code",
   "execution_count": null,
   "id": "18959d5c",
   "metadata": {},
   "outputs": [],
   "source": [
    "from fedt_print import slice_mesh\n",
    "from fedt_laser import do_cam # TODO: rename them"
   ]
  },
  {
   "cell_type": "markdown",
   "id": "9ae8ed63",
   "metadata": {},
   "source": [
    "# 4. Fabrication\n"
   ]
  },
  {
   "cell_type": "code",
   "execution_count": null,
   "id": "cc047332",
   "metadata": {},
   "outputs": [],
   "source": [
    "from fedt_print import execute_print\n",
    "from fedt_laser import execute_lasercut # TODO: rename them\n",
    "\n",
    "vars_to_labels = {}\n",
    "i = 0\n",
    "gcode_paths = []\n",
    "\n",
    "# ???? how to make a nesting for structure whose depth is determined by the #\n",
    "# of variables in the {post-process,CA{M,D}}_vars?\n",
    "# ... obviously, use recursion instead of iteration :facepalm:\n",
    "for h in variables['layer height']['values']:\n",
    "    for p in variables['fill pattern']['categories']:\n",
    "        for rep in range(print_repetitions):\n",
    "            # make a labelled thing\n",
    "            label = \"L\" + str(i)\n",
    "            stl = make_labelled_stl(geometry_function, label_string=label)\n",
    "            slicer_settings = {\n",
    "                '--layer-height': h,\n",
    "                '--fill-pattern': p\n",
    "            }\n",
    "            gcode_path = slice_mesh(stl, slicer_settings)\n",
    "            i+=1\n",
    "            gcode_paths.append(gcode_path)\n",
    "            vars_to_labels[h+\"_\"+p+\"//\"+str(rep)] = label\n",
    "\n",
    "# or send to simplyprint.io for later\n",
    "for gcode_path in gcode_paths:\n",
    "    execute_print(gcode_path)"
   ]
  },
  {
   "cell_type": "markdown",
   "id": "cceb6233",
   "metadata": {},
   "source": [
    "# 5. Post-Processing"
   ]
  },
  {
   "cell_type": "code",
   "execution_count": 2,
   "id": "526ab9f4-7cb4-4b04-bf4d-a3fbedf96302",
   "metadata": {},
   "outputs": [],
   "source": [
    "sample_post_process_variable = {\n",
    "    'name' : 'paint type',\n",
    "    'data type' : 'nominal',\n",
    "    'categories' : ['lacquer', 'spraypaint'],\n",
    "    'test_values' : ['lacquer', 'spraypaint'], # I would like them all to have the same named thing so I can call it\n",
    "    'description' : 'use the {} on the object'\n",
    "}\n",
    "\n",
    "# TODO: I was thinking that I need to print out the things to do here, but I actually\n",
    "# need to attach them somehow to the LABELS in the fabrication step. so that they know what to do to which.\n",
    "# and then we need to print... something here... so the user knows what to do..."
   ]
  },
  {
   "cell_type": "markdown",
   "id": "b1c95ea8-2b14-4247-a7bf-fa043ee9f1b2",
   "metadata": {},
   "source": [
    "# 6. User Interaction"
   ]
  },
  {
   "cell_type": "code",
   "execution_count": 3,
   "id": "cfb79871-327b-4730-a3ae-d4e8096a22a4",
   "metadata": {},
   "outputs": [],
   "source": [
    "sample_interaction_variable = {\n",
    "    'name' : 'user push force level',\n",
    "    'data type' : 'ratio',\n",
    "    'test_values' : [x for x in range(10)],\n",
    "    'instruction' : 'push on the button with force {} / 10' \n",
    "}\n",
    "interaction_variables = [sample_interaction_variable]\n",
    "interaction_repetitions = 1\n",
    "\n",
    "# TODO : figure out how to deal with this. is it true that we might need to generate the csv first? I... would think so."
   ]
  },
  {
   "cell_type": "markdown",
   "id": "df4d4114-67c7-440b-b8a6-f7a8ef472934",
   "metadata": {},
   "source": [
    "# 7. Take measurements"
   ]
  },
  {
   "cell_type": "code",
   "execution_count": 4,
   "id": "1470c445-e646-42c8-8b21-3c2f2aab38f8",
   "metadata": {},
   "outputs": [
    {
     "ename": "NameError",
     "evalue": "name 'experiment_csv' is not defined",
     "output_type": "error",
     "traceback": [
      "\u001b[0;31m---------------------------------------------------------------------------\u001b[0m",
      "\u001b[0;31mNameError\u001b[0m                                 Traceback (most recent call last)",
      "Cell \u001b[0;32mIn[4], line 1\u001b[0m\n\u001b[0;32m----> 1\u001b[0m \u001b[38;5;28mprint\u001b[39m(\u001b[38;5;124m\"\u001b[39m\u001b[38;5;124mnow please fill \u001b[39m\u001b[38;5;124m\"\u001b[39m \u001b[38;5;241m+\u001b[39m \u001b[43mexperiment_csv\u001b[49m \u001b[38;5;241m+\u001b[39m \u001b[38;5;124m\"\u001b[39m\u001b[38;5;124m with data\u001b[39m\u001b[38;5;124m\"\u001b[39m)\n",
      "\u001b[0;31mNameError\u001b[0m: name 'experiment_csv' is not defined"
     ]
    }
   ],
   "source": [
    "from fedt_measure import create_experiment_csv\n",
    "experiment_csv = create_experiment_csv(vars_to_labels, measurement_variables, measurement_repetitions)\n",
    "\n",
    "print(\"now please fill \" + experiment_csv + \" with data\")"
   ]
  },
  {
   "cell_type": "markdown",
   "id": "e77a238c",
   "metadata": {},
   "source": [
    "# 8. Tea-based hypothesis testing"
   ]
  },
  {
   "cell_type": "code",
   "execution_count": null,
   "id": "4de71f72",
   "metadata": {},
   "outputs": [],
   "source": [
    "from fedt_tea import do_experiment\n",
    "\n",
    "tea_results = do_experiment(measurement_variables,\n",
    "                          tea_hypothesis,\n",
    "                          experiment_csv,\n",
    "                          CAD_variables,\n",
    "                          CAM_variables,\n",
    "                          post_process_variables,\n",
    "                          interaction_variables)"
   ]
  },
  {
   "cell_type": "markdown",
   "id": "35e75c90-48bd-4f1a-86cc-e1d342195516",
   "metadata": {},
   "source": [
    "# 9. Reporting"
   ]
  },
  {
   "cell_type": "code",
   "execution_count": null,
   "id": "f381b27f-23b7-4d2f-9d45-c4be076bf042",
   "metadata": {},
   "outputs": [],
   "source": [
    "from fedt_report import latex\n",
    "\n",
    "latex(tea_results,\n",
    "      tea_hypothesis,\n",
    "      CAD_variables,\n",
    "      CAM_variables,\n",
    "      print_repetitions,\n",
    "      post_process_variables,\n",
    "      post_process_repetitions,\n",
    "      interaction_variables,\n",
    "      interaction_repetitions,\n",
    "      measurement_variables,\n",
    "      measurement_repetitions)"
   ]
  }
 ],
 "metadata": {
  "kernelspec": {
   "display_name": "Python 3 (ipykernel)",
   "language": "python",
   "name": "python3"
  },
  "language_info": {
   "codemirror_mode": {
    "name": "ipython",
    "version": 3
   },
   "file_extension": ".py",
   "mimetype": "text/x-python",
   "name": "python",
   "nbconvert_exporter": "python",
   "pygments_lexer": "ipython3",
   "version": "3.11.3"
  }
 },
 "nbformat": 4,
 "nbformat_minor": 5
}
