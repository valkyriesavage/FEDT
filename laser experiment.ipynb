{
 "cells": [
  {
   "cell_type": "markdown",
   "id": "70bd7c4c-16b9-4fc0-9a08-ae7b0b25412f",
   "metadata": {},
   "source": [
    "# 1. Specify all parameters to be varied\n"
   ]
  },
  {
   "cell_type": "code",
   "execution_count": 1,
   "id": "cff05206-308c-4ffe-a980-06fb48753c68",
   "metadata": {},
   "outputs": [
    {
     "name": "stdout",
     "output_type": "stream",
     "text": [
      "This experiment will require fabricating 64 unique objects.\n",
      "Users will perform 3200 interactions.\n",
      "9600 total measurements will be recorded.\n"
     ]
    }
   ],
   "source": [
    "from fedt import *\n",
    "\n",
    "CAD_variables = [{\n",
    "        'name' : 'radius',\n",
    "        'data type' : 'ratio',\n",
    "        'test_values' : [x for x in range(10, 20, 5)],\n",
    "        'argname' : 'radius'\n",
    "    }]\n",
    "CAM_variables = [{\n",
    "        'name' : 'cut power',\n",
    "        'data type' : 'ratio',\n",
    "        'test_values' : [x for x in range(90, 100, 5)],\n",
    "        'argname' : 'cut power'\n",
    "    },\n",
    "    {\n",
    "        'name' : 'cut speed',\n",
    "        'data type' : 'ratio',\n",
    "        'test_values' : [x for x in range(5, 100, 25)],\n",
    "        'argname' : 'cut speed'\n",
    "    }]\n",
    "\n",
    "fab_repetitions = 2\n",
    "\n",
    "sample_post_process_variable = {\n",
    "    'name' : 'paint type',\n",
    "    'data type' : 'nominal',\n",
    "    'test_values' : ['lacquer', 'spraypaint'],\n",
    "    'description' : 'use the {} on the object'\n",
    "}\n",
    "post_process_variables = [sample_post_process_variable]\n",
    "post_process_repetitions = 1\n",
    "\n",
    "sample_interaction_variable = {\n",
    "    'name' : 'user push force level',\n",
    "    'data type' : 'ratio',\n",
    "    'test_values' : [x for x in range(10)],\n",
    "    'instruction' : 'push on the button with force {} / 10' \n",
    "}\n",
    "interaction_variables = [sample_interaction_variable]\n",
    "\n",
    "measurement_variables = [{\n",
    "        'name' : 'printed x-axis',\n",
    "        'data type' : 'ratio'\n",
    "    },\n",
    "    {\n",
    "        'name' : 'printed y-axis',\n",
    "        'data type' : 'ratio'\n",
    "    },\n",
    "    {\n",
    "        'name' : 'printed z-axis',\n",
    "        'data type' : 'ratio'\n",
    "    }\n",
    "]\n",
    "measurement_repetitions = 5\n",
    "\n",
    "tea_hypothesis = (['material', 'measured z-axis' ], ['fill_pattern:concentric > triangle'])\n",
    "\n",
    "###########\n",
    "\n",
    "experiment_size(CAD_variables, CAM_variables, fab_repetitions,\n",
    "                post_process_variables, post_process_repetitions,\n",
    "                interaction_variables,\n",
    "                measurement_variables, measurement_repetitions)\n",
    "\n",
    "vars_to_labels = label_all_conditions(CAD_variables, CAM_variables, fab_repetitions,\n",
    "                                      post_process_variables, post_process_repetitions)\n",
    "\n",
    "experiment_csv, key_csv = create_experiment_csv(vars_to_labels, interaction_variables, measurement_variables, measurement_repetitions)"
   ]
  },
  {
   "cell_type": "code",
   "execution_count": 2,
   "id": "6e74ff0b-d444-4eef-b14e-7edd30c16dd4",
   "metadata": {},
   "outputs": [
    {
     "data": {
      "text/plain": [
       "{((('CAD', 'radius', 10), ('CAM', 'cut power', 90), ('CAM', 'cut speed', 5)),\n",
       "  ('PP', 'use the lacquer on the object')): 'L32',\n",
       " ((('CAD', 'radius', 10), ('CAM', 'cut power', 90), ('CAM', 'cut speed', 5)),\n",
       "  ('PP', 'use the spraypaint on the object')): 'L33',\n",
       " ((('CAD', 'radius', 10), ('CAM', 'cut power', 90), ('CAM', 'cut speed', 30)),\n",
       "  ('PP', 'use the lacquer on the object')): 'L34',\n",
       " ((('CAD', 'radius', 10), ('CAM', 'cut power', 90), ('CAM', 'cut speed', 30)),\n",
       "  ('PP', 'use the spraypaint on the object')): 'L35',\n",
       " ((('CAD', 'radius', 10), ('CAM', 'cut power', 90), ('CAM', 'cut speed', 55)),\n",
       "  ('PP', 'use the lacquer on the object')): 'L36',\n",
       " ((('CAD', 'radius', 10), ('CAM', 'cut power', 90), ('CAM', 'cut speed', 55)),\n",
       "  ('PP', 'use the spraypaint on the object')): 'L37',\n",
       " ((('CAD', 'radius', 10), ('CAM', 'cut power', 90), ('CAM', 'cut speed', 80)),\n",
       "  ('PP', 'use the lacquer on the object')): 'L38',\n",
       " ((('CAD', 'radius', 10), ('CAM', 'cut power', 90), ('CAM', 'cut speed', 80)),\n",
       "  ('PP', 'use the spraypaint on the object')): 'L39',\n",
       " ((('CAD', 'radius', 10), ('CAM', 'cut power', 95), ('CAM', 'cut speed', 5)),\n",
       "  ('PP', 'use the lacquer on the object')): 'L40',\n",
       " ((('CAD', 'radius', 10), ('CAM', 'cut power', 95), ('CAM', 'cut speed', 5)),\n",
       "  ('PP', 'use the spraypaint on the object')): 'L41',\n",
       " ((('CAD', 'radius', 10), ('CAM', 'cut power', 95), ('CAM', 'cut speed', 30)),\n",
       "  ('PP', 'use the lacquer on the object')): 'L42',\n",
       " ((('CAD', 'radius', 10), ('CAM', 'cut power', 95), ('CAM', 'cut speed', 30)),\n",
       "  ('PP', 'use the spraypaint on the object')): 'L43',\n",
       " ((('CAD', 'radius', 10), ('CAM', 'cut power', 95), ('CAM', 'cut speed', 55)),\n",
       "  ('PP', 'use the lacquer on the object')): 'L44',\n",
       " ((('CAD', 'radius', 10), ('CAM', 'cut power', 95), ('CAM', 'cut speed', 55)),\n",
       "  ('PP', 'use the spraypaint on the object')): 'L45',\n",
       " ((('CAD', 'radius', 10), ('CAM', 'cut power', 95), ('CAM', 'cut speed', 80)),\n",
       "  ('PP', 'use the lacquer on the object')): 'L46',\n",
       " ((('CAD', 'radius', 10), ('CAM', 'cut power', 95), ('CAM', 'cut speed', 80)),\n",
       "  ('PP', 'use the spraypaint on the object')): 'L47',\n",
       " ((('CAD', 'radius', 15), ('CAM', 'cut power', 90), ('CAM', 'cut speed', 5)),\n",
       "  ('PP', 'use the lacquer on the object')): 'L48',\n",
       " ((('CAD', 'radius', 15), ('CAM', 'cut power', 90), ('CAM', 'cut speed', 5)),\n",
       "  ('PP', 'use the spraypaint on the object')): 'L49',\n",
       " ((('CAD', 'radius', 15), ('CAM', 'cut power', 90), ('CAM', 'cut speed', 30)),\n",
       "  ('PP', 'use the lacquer on the object')): 'L50',\n",
       " ((('CAD', 'radius', 15), ('CAM', 'cut power', 90), ('CAM', 'cut speed', 30)),\n",
       "  ('PP', 'use the spraypaint on the object')): 'L51',\n",
       " ((('CAD', 'radius', 15), ('CAM', 'cut power', 90), ('CAM', 'cut speed', 55)),\n",
       "  ('PP', 'use the lacquer on the object')): 'L52',\n",
       " ((('CAD', 'radius', 15), ('CAM', 'cut power', 90), ('CAM', 'cut speed', 55)),\n",
       "  ('PP', 'use the spraypaint on the object')): 'L53',\n",
       " ((('CAD', 'radius', 15), ('CAM', 'cut power', 90), ('CAM', 'cut speed', 80)),\n",
       "  ('PP', 'use the lacquer on the object')): 'L54',\n",
       " ((('CAD', 'radius', 15), ('CAM', 'cut power', 90), ('CAM', 'cut speed', 80)),\n",
       "  ('PP', 'use the spraypaint on the object')): 'L55',\n",
       " ((('CAD', 'radius', 15), ('CAM', 'cut power', 95), ('CAM', 'cut speed', 5)),\n",
       "  ('PP', 'use the lacquer on the object')): 'L56',\n",
       " ((('CAD', 'radius', 15), ('CAM', 'cut power', 95), ('CAM', 'cut speed', 5)),\n",
       "  ('PP', 'use the spraypaint on the object')): 'L57',\n",
       " ((('CAD', 'radius', 15), ('CAM', 'cut power', 95), ('CAM', 'cut speed', 30)),\n",
       "  ('PP', 'use the lacquer on the object')): 'L58',\n",
       " ((('CAD', 'radius', 15), ('CAM', 'cut power', 95), ('CAM', 'cut speed', 30)),\n",
       "  ('PP', 'use the spraypaint on the object')): 'L59',\n",
       " ((('CAD', 'radius', 15), ('CAM', 'cut power', 95), ('CAM', 'cut speed', 55)),\n",
       "  ('PP', 'use the lacquer on the object')): 'L60',\n",
       " ((('CAD', 'radius', 15), ('CAM', 'cut power', 95), ('CAM', 'cut speed', 55)),\n",
       "  ('PP', 'use the spraypaint on the object')): 'L61',\n",
       " ((('CAD', 'radius', 15), ('CAM', 'cut power', 95), ('CAM', 'cut speed', 80)),\n",
       "  ('PP', 'use the lacquer on the object')): 'L62',\n",
       " ((('CAD', 'radius', 15), ('CAM', 'cut power', 95), ('CAM', 'cut speed', 80)),\n",
       "  ('PP', 'use the spraypaint on the object')): 'L63'}"
      ]
     },
     "execution_count": 2,
     "metadata": {},
     "output_type": "execute_result"
    }
   ],
   "source": [
    "vars_to_labels"
   ]
  },
  {
   "cell_type": "markdown",
   "id": "313fabb6",
   "metadata": {},
   "source": [
    "# 2. CAD"
   ]
  },
  {
   "cell_type": "code",
   "execution_count": 2,
   "id": "b69a74fb",
   "metadata": {},
   "outputs": [],
   "source": [
    "from fedt_laser import build_geometry\n",
    "\n",
    "# draw a circle in svg\n",
    "def geometry_function(draw, d, radius=30):\n",
    "    d.append(draw.Circle(-40, -10, radius,\n",
    "                fill='none', stroke_width=1, stroke='red'))\n",
    "\n",
    "def label_function(draw, d, label_string=\"L0\"):\n",
    "    d.append(draw.Text(x=20, y=-10, fill='blue', text=label_string, font_size=10))"
   ]
  },
  {
   "cell_type": "markdown",
   "id": "30d1417e",
   "metadata": {},
   "source": [
    "# 3. CAM"
   ]
  },
  {
   "cell_type": "code",
   "execution_count": 3,
   "id": "18959d5c",
   "metadata": {},
   "outputs": [
    {
     "name": "stdout",
     "output_type": "stream",
     "text": [
      "please open Visicut and Options > Import Settings > fedt_generated.vcsettings\n"
     ]
    },
    {
     "name": "stderr",
     "output_type": "stream",
     "text": [
      "/Users/vwn277/miniforge3/envs/jupyfab/lib/python3.11/zipfile.py:1549: UserWarning: Duplicate name: 'profiles/fedt_generated_20240312-155337f.xml'\n",
      "  return self._open_to_write(zinfo, force_zip64=force_zip64)\n",
      "/Users/vwn277/miniforge3/envs/jupyfab/lib/python3.11/zipfile.py:1549: UserWarning: Duplicate name: 'laserprofiles/Epilog_32_Helix/Acrylic/3.0mm/fedt_generated_20240312-155337f.xml'\n",
      "  return self._open_to_write(zinfo, force_zip64=force_zip64)\n"
     ]
    }
   ],
   "source": [
    "from fedt_laser import prep_cam, do_cam\n",
    "\n",
    "prep_cam(CAM_variables)"
   ]
  },
  {
   "cell_type": "markdown",
   "id": "9ae8ed63",
   "metadata": {},
   "source": [
    "# 4. Fabrication\n"
   ]
  },
  {
   "cell_type": "code",
   "execution_count": 4,
   "id": "cc047332",
   "metadata": {},
   "outputs": [
    {
     "name": "stderr",
     "output_type": "stream",
     "text": [
      "openjdk version \"17.0.6\" 2023-01-17\n",
      "OpenJDK Runtime Environment Temurin-17.0.6+10 (build 17.0.6+10)\n",
      "OpenJDK 64-Bit Server VM Temurin-17.0.6+10 (build 17.0.6+10, mixed mode)\n",
      "Unknown command line option: --laserdevice Epilog Helix\n",
      "Use -h or --help for help\n"
     ]
    },
    {
     "ename": "CalledProcessError",
     "evalue": "Command '['/Users/vwn277/projects/fedtlike/visicut/VisiCut.MacOS', '--laserdevice Epilog Helix', '--execute', 'spam.plf']' returned non-zero exit status 1.",
     "output_type": "error",
     "traceback": [
      "\u001b[0;31m---------------------------------------------------------------------------\u001b[0m",
      "\u001b[0;31mCalledProcessError\u001b[0m                        Traceback (most recent call last)",
      "Cell \u001b[0;32mIn[4], line 6\u001b[0m\n\u001b[1;32m      3\u001b[0m CAM_paths \u001b[38;5;241m=\u001b[39m prep_all_for_fab(vars_to_labels, geometry_function, label_function)\n\u001b[1;32m      5\u001b[0m \u001b[38;5;28;01mfor\u001b[39;00m CAM_path \u001b[38;5;129;01min\u001b[39;00m CAM_paths:\n\u001b[0;32m----> 6\u001b[0m     \u001b[43mfabricate\u001b[49m\u001b[43m(\u001b[49m\u001b[43mCAM_path\u001b[49m\u001b[43m)\u001b[49m\n",
      "File \u001b[0;32m~/projects/fedtlike/FEDT/fedt_laser.py:140\u001b[0m, in \u001b[0;36mfabricate\u001b[0;34m(cut_file, laserdevice, mapping_file)\u001b[0m\n\u001b[1;32m    135\u001b[0m os\u001b[38;5;241m.\u001b[39mrename(temp_zf, temp_plf)\n\u001b[1;32m    136\u001b[0m cut_command \u001b[38;5;241m=\u001b[39m [VISICUT_LOCATION,\n\u001b[1;32m    137\u001b[0m                \u001b[38;5;124m'\u001b[39m\u001b[38;5;124m--laserdevice \u001b[39m\u001b[38;5;124m'\u001b[39m \u001b[38;5;241m+\u001b[39m laserdevice,\n\u001b[1;32m    138\u001b[0m                \u001b[38;5;124m'\u001b[39m\u001b[38;5;124m--execute\u001b[39m\u001b[38;5;124m'\u001b[39m,\n\u001b[1;32m    139\u001b[0m                temp_plf]\n\u001b[0;32m--> 140\u001b[0m results \u001b[38;5;241m=\u001b[39m \u001b[43msubprocess\u001b[49m\u001b[38;5;241;43m.\u001b[39;49m\u001b[43mcheck_output\u001b[49m\u001b[43m(\u001b[49m\u001b[43mcut_command\u001b[49m\u001b[43m)\u001b[49m\n\u001b[1;32m    141\u001b[0m os\u001b[38;5;241m.\u001b[39mremove(temp_plf)\n\u001b[1;32m    142\u001b[0m \u001b[38;5;28;01mreturn\u001b[39;00m results\n",
      "File \u001b[0;32m~/miniforge3/envs/jupyfab/lib/python3.11/subprocess.py:466\u001b[0m, in \u001b[0;36mcheck_output\u001b[0;34m(timeout, *popenargs, **kwargs)\u001b[0m\n\u001b[1;32m    463\u001b[0m         empty \u001b[38;5;241m=\u001b[39m \u001b[38;5;124mb\u001b[39m\u001b[38;5;124m'\u001b[39m\u001b[38;5;124m'\u001b[39m\n\u001b[1;32m    464\u001b[0m     kwargs[\u001b[38;5;124m'\u001b[39m\u001b[38;5;124minput\u001b[39m\u001b[38;5;124m'\u001b[39m] \u001b[38;5;241m=\u001b[39m empty\n\u001b[0;32m--> 466\u001b[0m \u001b[38;5;28;01mreturn\u001b[39;00m \u001b[43mrun\u001b[49m\u001b[43m(\u001b[49m\u001b[38;5;241;43m*\u001b[39;49m\u001b[43mpopenargs\u001b[49m\u001b[43m,\u001b[49m\u001b[43m \u001b[49m\u001b[43mstdout\u001b[49m\u001b[38;5;241;43m=\u001b[39;49m\u001b[43mPIPE\u001b[49m\u001b[43m,\u001b[49m\u001b[43m \u001b[49m\u001b[43mtimeout\u001b[49m\u001b[38;5;241;43m=\u001b[39;49m\u001b[43mtimeout\u001b[49m\u001b[43m,\u001b[49m\u001b[43m \u001b[49m\u001b[43mcheck\u001b[49m\u001b[38;5;241;43m=\u001b[39;49m\u001b[38;5;28;43;01mTrue\u001b[39;49;00m\u001b[43m,\u001b[49m\n\u001b[1;32m    467\u001b[0m \u001b[43m           \u001b[49m\u001b[38;5;241;43m*\u001b[39;49m\u001b[38;5;241;43m*\u001b[39;49m\u001b[43mkwargs\u001b[49m\u001b[43m)\u001b[49m\u001b[38;5;241m.\u001b[39mstdout\n",
      "File \u001b[0;32m~/miniforge3/envs/jupyfab/lib/python3.11/subprocess.py:571\u001b[0m, in \u001b[0;36mrun\u001b[0;34m(input, capture_output, timeout, check, *popenargs, **kwargs)\u001b[0m\n\u001b[1;32m    569\u001b[0m     retcode \u001b[38;5;241m=\u001b[39m process\u001b[38;5;241m.\u001b[39mpoll()\n\u001b[1;32m    570\u001b[0m     \u001b[38;5;28;01mif\u001b[39;00m check \u001b[38;5;129;01mand\u001b[39;00m retcode:\n\u001b[0;32m--> 571\u001b[0m         \u001b[38;5;28;01mraise\u001b[39;00m CalledProcessError(retcode, process\u001b[38;5;241m.\u001b[39margs,\n\u001b[1;32m    572\u001b[0m                                  output\u001b[38;5;241m=\u001b[39mstdout, stderr\u001b[38;5;241m=\u001b[39mstderr)\n\u001b[1;32m    573\u001b[0m \u001b[38;5;28;01mreturn\u001b[39;00m CompletedProcess(process\u001b[38;5;241m.\u001b[39margs, retcode, stdout, stderr)\n",
      "\u001b[0;31mCalledProcessError\u001b[0m: Command '['/Users/vwn277/projects/fedtlike/visicut/VisiCut.MacOS', '--laserdevice Epilog Helix', '--execute', 'spam.plf']' returned non-zero exit status 1."
     ]
    }
   ],
   "source": [
    "from fedt_laser import prep_all_for_fab, fabricate\n",
    "\n",
    "CAM_paths = prep_all_for_fab(vars_to_labels, geometry_function, label_function)\n",
    "\n",
    "for CAM_path in CAM_paths:\n",
    "    fabricate(CAM_path)"
   ]
  },
  {
   "cell_type": "markdown",
   "id": "cceb6233",
   "metadata": {},
   "source": [
    "# 5. Post-Processing"
   ]
  },
  {
   "cell_type": "code",
   "execution_count": null,
   "id": "526ab9f4-7cb4-4b04-bf4d-a3fbedf96302",
   "metadata": {},
   "outputs": [],
   "source": [
    "# TODO: I was thinking that I need to print out the things to do here, but I actually\n",
    "# need to attach them somehow to the LABELS in the fabrication step. so that they know what to do to which.\n",
    "# and then we need to print... something here... so the user knows what to do..."
   ]
  },
  {
   "cell_type": "markdown",
   "id": "df4d4114-67c7-440b-b8a6-f7a8ef472934",
   "metadata": {},
   "source": [
    "# 6. Create measurement framework"
   ]
  },
  {
   "cell_type": "code",
   "execution_count": 5,
   "id": "1470c445-e646-42c8-8b21-3c2f2aab38f8",
   "metadata": {},
   "outputs": [
    {
     "ename": "TypeError",
     "evalue": "create_experiment_csv() takes 3 positional arguments but 4 were given",
     "output_type": "error",
     "traceback": [
      "\u001b[0;31m---------------------------------------------------------------------------\u001b[0m",
      "\u001b[0;31mTypeError\u001b[0m                                 Traceback (most recent call last)",
      "Cell \u001b[0;32mIn[5], line 2\u001b[0m\n\u001b[1;32m      1\u001b[0m \u001b[38;5;28;01mfrom\u001b[39;00m \u001b[38;5;21;01mfedt_measure\u001b[39;00m \u001b[38;5;28;01mimport\u001b[39;00m create_experiment_csv\n\u001b[0;32m----> 2\u001b[0m experiment_csv \u001b[38;5;241m=\u001b[39m \u001b[43mcreate_experiment_csv\u001b[49m\u001b[43m(\u001b[49m\u001b[43mvars_to_labels\u001b[49m\u001b[43m,\u001b[49m\u001b[43m \u001b[49m\u001b[43minteraction_variables\u001b[49m\u001b[43m,\u001b[49m\u001b[43m \u001b[49m\u001b[43mmeasurement_variables\u001b[49m\u001b[43m,\u001b[49m\u001b[43m \u001b[49m\u001b[43mmeasurement_repetitions\u001b[49m\u001b[43m)\u001b[49m\n\u001b[1;32m      4\u001b[0m \u001b[38;5;28mprint\u001b[39m(\u001b[38;5;124m\"\u001b[39m\u001b[38;5;124mnow please fill \u001b[39m\u001b[38;5;124m\"\u001b[39m \u001b[38;5;241m+\u001b[39m experiment_csv \u001b[38;5;241m+\u001b[39m \u001b[38;5;124m\"\u001b[39m\u001b[38;5;124m with data\u001b[39m\u001b[38;5;124m\"\u001b[39m)\n",
      "\u001b[0;31mTypeError\u001b[0m: create_experiment_csv() takes 3 positional arguments but 4 were given"
     ]
    }
   ],
   "source": [
    "print(\"now please fill \" + experiment_csv + \" with data\")"
   ]
  },
  {
   "cell_type": "markdown",
   "id": "b1c95ea8-2b14-4247-a7bf-fa043ee9f1b2",
   "metadata": {},
   "source": [
    "# 6. User Interaction"
   ]
  },
  {
   "cell_type": "code",
   "execution_count": null,
   "id": "cfb79871-327b-4730-a3ae-d4e8096a22a4",
   "metadata": {},
   "outputs": [],
   "source": [
    "# TODO : figure out how to deal with this. is it true that we might need to generate the csv first? I... would think so."
   ]
  },
  {
   "cell_type": "markdown",
   "id": "e77a238c",
   "metadata": {},
   "source": [
    "# 8. Tea-based hypothesis testing"
   ]
  },
  {
   "cell_type": "code",
   "execution_count": null,
   "id": "4de71f72",
   "metadata": {},
   "outputs": [],
   "source": [
    "from fedt_tea import do_experiment\n",
    "\n",
    "tea_results = do_experiment(measurement_variables,\n",
    "                            tea_hypothesis,\n",
    "                            experiment_csv,\n",
    "                            CAD_variables,\n",
    "                            CAM_variables,\n",
    "                            post_process_variables,\n",
    "                            interaction_variables)"
   ]
  },
  {
   "cell_type": "markdown",
   "id": "35e75c90-48bd-4f1a-86cc-e1d342195516",
   "metadata": {},
   "source": [
    "# 9. Reporting"
   ]
  },
  {
   "cell_type": "code",
   "execution_count": null,
   "id": "f381b27f-23b7-4d2f-9d45-c4be076bf042",
   "metadata": {},
   "outputs": [],
   "source": [
    "from fedt_report import latex\n",
    "\n",
    "latex(tea_results,\n",
    "      tea_hypothesis,\n",
    "      CAD_variables,\n",
    "      CAM_variables,\n",
    "      print_repetitions,\n",
    "      post_process_variables,\n",
    "      post_process_repetitions,\n",
    "      interaction_variables,\n",
    "      measurement_variables,\n",
    "      measurement_repetitions)"
   ]
  }
 ],
 "metadata": {
  "kernelspec": {
   "display_name": "Python 3 (ipykernel)",
   "language": "python",
   "name": "python3"
  },
  "language_info": {
   "codemirror_mode": {
    "name": "ipython",
    "version": 3
   },
   "file_extension": ".py",
   "mimetype": "text/x-python",
   "name": "python",
   "nbconvert_exporter": "python",
   "pygments_lexer": "ipython3",
   "version": "3.11.3"
  }
 },
 "nbformat": 4,
 "nbformat_minor": 5
}
