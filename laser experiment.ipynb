{
 "cells": [
  {
   "cell_type": "markdown",
   "id": "70bd7c4c-16b9-4fc0-9a08-ae7b0b25412f",
   "metadata": {},
   "source": [
    "# 1. Specify all parameters to be varied\n"
   ]
  },
  {
   "cell_type": "code",
   "execution_count": 1,
   "id": "cff05206-308c-4ffe-a980-06fb48753c68",
   "metadata": {},
   "outputs": [
    {
     "name": "stdout",
     "output_type": "stream",
     "text": [
      "This experiment will require fabricating 64 unique objects.\n",
      "Users will perform 3200 interactions.\n",
      "9600 total measurements will be recorded.\n"
     ]
    }
   ],
   "source": [
    "from fedt import *\n",
    "\n",
    "CAD_variables = [{\n",
    "        'name' : 'radius',\n",
    "        'data type' : 'ratio',\n",
    "        'test_values' : [x for x in range(10, 20, 5)],\n",
    "        'argname' : 'radius'\n",
    "    }]\n",
    "CAM_variables = [{\n",
    "        'name' : 'cut power',\n",
    "        'data type' : 'ratio',\n",
    "        'test_values' : [x for x in range(90, 100, 5)],\n",
    "        'argname' : 'cut power'\n",
    "    },\n",
    "    {\n",
    "        'name' : 'cut speed',\n",
    "        'data type' : 'ratio',\n",
    "        'test_values' : [x for x in range(5, 100, 25)],\n",
    "        'argname' : 'cut speed'\n",
    "    }]\n",
    "\n",
    "fab_repetitions = 2\n",
    "\n",
    "sample_post_process_variable = {\n",
    "    'name' : 'paint type',\n",
    "    'data type' : 'nominal',\n",
    "    'test_values' : ['lacquer', 'spraypaint'],\n",
    "    'description' : 'use the {} on the object'\n",
    "}\n",
    "post_process_variables = [sample_post_process_variable]\n",
    "post_process_repetitions = 1\n",
    "\n",
    "sample_interaction_variable = {\n",
    "    'name' : 'user push force level',\n",
    "    'data type' : 'ratio',\n",
    "    'test_values' : [x for x in range(10)],\n",
    "    'instruction' : 'push on the button with force {} / 10' \n",
    "}\n",
    "interaction_variables = [sample_interaction_variable]\n",
    "\n",
    "measurement_variables = [{\n",
    "        'name' : 'printed x-axis',\n",
    "        'data type' : 'ratio'\n",
    "    },\n",
    "    {\n",
    "        'name' : 'printed y-axis',\n",
    "        'data type' : 'ratio'\n",
    "    },\n",
    "    {\n",
    "        'name' : 'printed z-axis',\n",
    "        'data type' : 'ratio'\n",
    "    }\n",
    "]\n",
    "measurement_repetitions = 5\n",
    "\n",
    "tea_hypothesis = (['material', 'measured z-axis' ], ['fill_pattern:concentric > triangle'])\n",
    "\n",
    "###########\n",
    "\n",
    "experiment_size(CAD_variables, CAM_variables, fab_repetitions,\n",
    "                post_process_variables, post_process_repetitions,\n",
    "                interaction_variables,\n",
    "                measurement_variables, measurement_repetitions)\n",
    "\n",
    "vars_to_labels = label_all_conditions(CAD_variables, CAM_variables, fab_repetitions,\n",
    "                                      post_process_variables, post_process_repetitions)"
   ]
  },
  {
   "cell_type": "markdown",
   "id": "313fabb6",
   "metadata": {},
   "source": [
    "# 2. CAD"
   ]
  },
  {
   "cell_type": "code",
   "execution_count": 2,
   "id": "b69a74fb",
   "metadata": {},
   "outputs": [],
   "source": [
    "from fedt_laser import build_geometry\n",
    "\n",
    "# draw a circle in svg\n",
    "def geometry_function(draw, d, radius=30):\n",
    "    d.append(draw.Circle(-40, -10, radius,\n",
    "                fill='none', stroke_width=1, stroke='red'))\n",
    "\n",
    "def label_function(draw, d, label_string=\"L0\"):\n",
    "    d.append(draw.Text(x=20, y=-10, fill='blue', text=label_string, font_size=10))"
   ]
  },
  {
   "cell_type": "markdown",
   "id": "30d1417e",
   "metadata": {},
   "source": [
    "# 3. CAM"
   ]
  },
  {
   "cell_type": "code",
   "execution_count": 3,
   "id": "18959d5c",
   "metadata": {},
   "outputs": [
    {
     "name": "stdout",
     "output_type": "stream",
     "text": [
      "please open Visicut and Options > Import Settings > fedt_generated.vcsettings\n"
     ]
    },
    {
     "name": "stderr",
     "output_type": "stream",
     "text": [
      "/Users/vwn277/miniforge3/envs/jupyfab/lib/python3.11/zipfile.py:1549: UserWarning: Duplicate name: 'profiles/fedt_generated_20240312-153819f.xml'\n",
      "  return self._open_to_write(zinfo, force_zip64=force_zip64)\n",
      "/Users/vwn277/miniforge3/envs/jupyfab/lib/python3.11/zipfile.py:1549: UserWarning: Duplicate name: 'laserprofiles/Epilog_32_Helix/Acrylic/3.0mm/fedt_generated_20240312-153819f.xml'\n",
      "  return self._open_to_write(zinfo, force_zip64=force_zip64)\n"
     ]
    }
   ],
   "source": [
    "from fedt_laser import prep_cam, do_cam\n",
    "\n",
    "prep_cam(CAM_variables)"
   ]
  },
  {
   "cell_type": "markdown",
   "id": "9ae8ed63",
   "metadata": {},
   "source": [
    "# 4. Fabrication\n"
   ]
  },
  {
   "cell_type": "code",
   "execution_count": 4,
   "id": "cc047332",
   "metadata": {},
   "outputs": [
    {
     "name": "stdout",
     "output_type": "stream",
     "text": [
      "./\n",
      "expt_L32.svg\n",
      "./\n",
      "expt_L33.svg\n",
      "./\n",
      "expt_L34.svg\n",
      "./\n",
      "expt_L35.svg\n",
      "./\n",
      "expt_L36.svg\n",
      "./\n",
      "expt_L37.svg\n",
      "./\n",
      "expt_L38.svg\n",
      "./\n",
      "expt_L39.svg\n",
      "./\n",
      "expt_L40.svg\n",
      "./\n",
      "expt_L41.svg\n",
      "./\n",
      "expt_L42.svg\n",
      "./\n",
      "expt_L43.svg\n",
      "./\n",
      "expt_L44.svg\n",
      "./\n",
      "expt_L45.svg\n",
      "./\n",
      "expt_L46.svg\n",
      "./\n",
      "expt_L47.svg\n",
      "./\n",
      "expt_L48.svg\n",
      "./\n",
      "expt_L49.svg\n",
      "./\n",
      "expt_L50.svg\n",
      "./\n",
      "expt_L51.svg\n",
      "./\n",
      "expt_L52.svg\n",
      "./\n",
      "expt_L53.svg\n",
      "./\n",
      "expt_L54.svg\n",
      "./\n",
      "expt_L55.svg\n",
      "./\n",
      "expt_L56.svg\n",
      "./\n",
      "expt_L57.svg\n",
      "./\n",
      "expt_L58.svg\n",
      "./\n",
      "expt_L59.svg\n",
      "./\n",
      "expt_L60.svg\n",
      "./\n",
      "expt_L61.svg\n",
      "./\n",
      "expt_L62.svg\n",
      "./\n",
      "expt_L63.svg\n"
     ]
    },
    {
     "ename": "TypeError",
     "evalue": "stat: path should be string, bytes, os.PathLike or integer, not NoneType",
     "output_type": "error",
     "traceback": [
      "\u001b[0;31m---------------------------------------------------------------------------\u001b[0m",
      "\u001b[0;31mTypeError\u001b[0m                                 Traceback (most recent call last)",
      "Cell \u001b[0;32mIn[4], line 6\u001b[0m\n\u001b[1;32m      3\u001b[0m CAM_paths \u001b[38;5;241m=\u001b[39m prep_all_for_fab(vars_to_labels, geometry_function, label_function)\n\u001b[1;32m      5\u001b[0m \u001b[38;5;28;01mfor\u001b[39;00m CAM_path \u001b[38;5;129;01min\u001b[39;00m CAM_paths:\n\u001b[0;32m----> 6\u001b[0m     \u001b[43mfabricate\u001b[49m\u001b[43m(\u001b[49m\u001b[43mCAM_path\u001b[49m\u001b[43m)\u001b[49m\n",
      "File \u001b[0;32m~/projects/fedtlike/FEDT/fedt_laser.py:130\u001b[0m, in \u001b[0;36mfabricate\u001b[0;34m(cut_file, laserdevice, mapping_file)\u001b[0m\n\u001b[1;32m    128\u001b[0m temp_zf \u001b[38;5;241m=\u001b[39m \u001b[38;5;124m'\u001b[39m\u001b[38;5;124mspam.zip\u001b[39m\u001b[38;5;124m'\u001b[39m\n\u001b[1;32m    129\u001b[0m \u001b[38;5;28;01mwith\u001b[39;00m ZipFile(temp_zf, \u001b[38;5;124m'\u001b[39m\u001b[38;5;124mw\u001b[39m\u001b[38;5;124m'\u001b[39m) \u001b[38;5;28;01mas\u001b[39;00m myzip:\n\u001b[0;32m--> 130\u001b[0m     \u001b[43mmyzip\u001b[49m\u001b[38;5;241;43m.\u001b[39;49m\u001b[43mwrite\u001b[49m\u001b[43m(\u001b[49m\u001b[43mcut_file\u001b[49m\u001b[43m)\u001b[49m\n\u001b[1;32m    131\u001b[0m     myzip\u001b[38;5;241m.\u001b[39mwrite(mapping_file)\n\u001b[1;32m    132\u001b[0m     myzip\u001b[38;5;241m.\u001b[39mwrite(\u001b[38;5;124m\"\u001b[39m\u001b[38;5;124mtransform.xml\u001b[39m\u001b[38;5;124m\"\u001b[39m)\n",
      "File \u001b[0;32m~/miniforge3/envs/jupyfab/lib/python3.11/zipfile.py:1773\u001b[0m, in \u001b[0;36mZipFile.write\u001b[0;34m(self, filename, arcname, compress_type, compresslevel)\u001b[0m\n\u001b[1;32m   1768\u001b[0m \u001b[38;5;28;01mif\u001b[39;00m \u001b[38;5;28mself\u001b[39m\u001b[38;5;241m.\u001b[39m_writing:\n\u001b[1;32m   1769\u001b[0m     \u001b[38;5;28;01mraise\u001b[39;00m \u001b[38;5;167;01mValueError\u001b[39;00m(\n\u001b[1;32m   1770\u001b[0m         \u001b[38;5;124m\"\u001b[39m\u001b[38;5;124mCan\u001b[39m\u001b[38;5;124m'\u001b[39m\u001b[38;5;124mt write to ZIP archive while an open writing handle exists\u001b[39m\u001b[38;5;124m\"\u001b[39m\n\u001b[1;32m   1771\u001b[0m     )\n\u001b[0;32m-> 1773\u001b[0m zinfo \u001b[38;5;241m=\u001b[39m \u001b[43mZipInfo\u001b[49m\u001b[38;5;241;43m.\u001b[39;49m\u001b[43mfrom_file\u001b[49m\u001b[43m(\u001b[49m\u001b[43mfilename\u001b[49m\u001b[43m,\u001b[49m\u001b[43m \u001b[49m\u001b[43marcname\u001b[49m\u001b[43m,\u001b[49m\n\u001b[1;32m   1774\u001b[0m \u001b[43m                          \u001b[49m\u001b[43mstrict_timestamps\u001b[49m\u001b[38;5;241;43m=\u001b[39;49m\u001b[38;5;28;43mself\u001b[39;49m\u001b[38;5;241;43m.\u001b[39;49m\u001b[43m_strict_timestamps\u001b[49m\u001b[43m)\u001b[49m\n\u001b[1;32m   1776\u001b[0m \u001b[38;5;28;01mif\u001b[39;00m zinfo\u001b[38;5;241m.\u001b[39mis_dir():\n\u001b[1;32m   1777\u001b[0m     zinfo\u001b[38;5;241m.\u001b[39mcompress_size \u001b[38;5;241m=\u001b[39m \u001b[38;5;241m0\u001b[39m\n",
      "File \u001b[0;32m~/miniforge3/envs/jupyfab/lib/python3.11/zipfile.py:530\u001b[0m, in \u001b[0;36mZipInfo.from_file\u001b[0;34m(cls, filename, arcname, strict_timestamps)\u001b[0m\n\u001b[1;32m    528\u001b[0m \u001b[38;5;28;01mif\u001b[39;00m \u001b[38;5;28misinstance\u001b[39m(filename, os\u001b[38;5;241m.\u001b[39mPathLike):\n\u001b[1;32m    529\u001b[0m     filename \u001b[38;5;241m=\u001b[39m os\u001b[38;5;241m.\u001b[39mfspath(filename)\n\u001b[0;32m--> 530\u001b[0m st \u001b[38;5;241m=\u001b[39m os\u001b[38;5;241m.\u001b[39mstat(filename)\n\u001b[1;32m    531\u001b[0m isdir \u001b[38;5;241m=\u001b[39m stat\u001b[38;5;241m.\u001b[39mS_ISDIR(st\u001b[38;5;241m.\u001b[39mst_mode)\n\u001b[1;32m    532\u001b[0m mtime \u001b[38;5;241m=\u001b[39m time\u001b[38;5;241m.\u001b[39mlocaltime(st\u001b[38;5;241m.\u001b[39mst_mtime)\n",
      "\u001b[0;31mTypeError\u001b[0m: stat: path should be string, bytes, os.PathLike or integer, not NoneType"
     ]
    }
   ],
   "source": [
    "from fedt_laser import prep_all_for_fab, fabricate\n",
    "\n",
    "CAM_paths = prep_all_for_fab(vars_to_labels, geometry_function, label_function)\n",
    "\n",
    "for CAM_path in CAM_paths:\n",
    "    fabricate(CAM_path)"
   ]
  },
  {
   "cell_type": "markdown",
   "id": "cceb6233",
   "metadata": {},
   "source": [
    "# 5. Post-Processing"
   ]
  },
  {
   "cell_type": "code",
   "execution_count": 2,
   "id": "526ab9f4-7cb4-4b04-bf4d-a3fbedf96302",
   "metadata": {},
   "outputs": [],
   "source": [
    "# TODO: I was thinking that I need to print out the things to do here, but I actually\n",
    "# need to attach them somehow to the LABELS in the fabrication step. so that they know what to do to which.\n",
    "# and then we need to print... something here... so the user knows what to do..."
   ]
  },
  {
   "cell_type": "markdown",
   "id": "df4d4114-67c7-440b-b8a6-f7a8ef472934",
   "metadata": {},
   "source": [
    "# 6. Create measurement framework"
   ]
  },
  {
   "cell_type": "code",
   "execution_count": 4,
   "id": "1470c445-e646-42c8-8b21-3c2f2aab38f8",
   "metadata": {},
   "outputs": [
    {
     "ename": "NameError",
     "evalue": "name 'experiment_csv' is not defined",
     "output_type": "error",
     "traceback": [
      "\u001b[0;31m---------------------------------------------------------------------------\u001b[0m",
      "\u001b[0;31mNameError\u001b[0m                                 Traceback (most recent call last)",
      "Cell \u001b[0;32mIn[4], line 1\u001b[0m\n\u001b[0;32m----> 1\u001b[0m \u001b[38;5;28mprint\u001b[39m(\u001b[38;5;124m\"\u001b[39m\u001b[38;5;124mnow please fill \u001b[39m\u001b[38;5;124m\"\u001b[39m \u001b[38;5;241m+\u001b[39m \u001b[43mexperiment_csv\u001b[49m \u001b[38;5;241m+\u001b[39m \u001b[38;5;124m\"\u001b[39m\u001b[38;5;124m with data\u001b[39m\u001b[38;5;124m\"\u001b[39m)\n",
      "\u001b[0;31mNameError\u001b[0m: name 'experiment_csv' is not defined"
     ]
    }
   ],
   "source": [
    "from fedt_measure import create_experiment_csv\n",
    "experiment_csv = create_experiment_csv(vars_to_labels, interaction_variables, measurement_variables, measurement_repetitions)\n",
    "\n",
    "print(\"now please fill \" + experiment_csv + \" with data\")"
   ]
  },
  {
   "cell_type": "markdown",
   "id": "b1c95ea8-2b14-4247-a7bf-fa043ee9f1b2",
   "metadata": {},
   "source": [
    "# 6. User Interaction"
   ]
  },
  {
   "cell_type": "code",
   "execution_count": 3,
   "id": "cfb79871-327b-4730-a3ae-d4e8096a22a4",
   "metadata": {},
   "outputs": [],
   "source": [
    "# TODO : figure out how to deal with this. is it true that we might need to generate the csv first? I... would think so."
   ]
  },
  {
   "cell_type": "markdown",
   "id": "e77a238c",
   "metadata": {},
   "source": [
    "# 8. Tea-based hypothesis testing"
   ]
  },
  {
   "cell_type": "code",
   "execution_count": null,
   "id": "4de71f72",
   "metadata": {},
   "outputs": [],
   "source": [
    "from fedt_tea import do_experiment\n",
    "\n",
    "tea_results = do_experiment(measurement_variables,\n",
    "                            tea_hypothesis,\n",
    "                            experiment_csv,\n",
    "                            CAD_variables,\n",
    "                            CAM_variables,\n",
    "                            post_process_variables,\n",
    "                            interaction_variables)"
   ]
  },
  {
   "cell_type": "markdown",
   "id": "35e75c90-48bd-4f1a-86cc-e1d342195516",
   "metadata": {},
   "source": [
    "# 9. Reporting"
   ]
  },
  {
   "cell_type": "code",
   "execution_count": null,
   "id": "f381b27f-23b7-4d2f-9d45-c4be076bf042",
   "metadata": {},
   "outputs": [],
   "source": [
    "from fedt_report import latex\n",
    "\n",
    "latex(tea_results,\n",
    "      tea_hypothesis,\n",
    "      CAD_variables,\n",
    "      CAM_variables,\n",
    "      print_repetitions,\n",
    "      post_process_variables,\n",
    "      post_process_repetitions,\n",
    "      interaction_variables,\n",
    "      measurement_variables,\n",
    "      measurement_repetitions)"
   ]
  }
 ],
 "metadata": {
  "kernelspec": {
   "display_name": "Python 3 (ipykernel)",
   "language": "python",
   "name": "python3"
  },
  "language_info": {
   "codemirror_mode": {
    "name": "ipython",
    "version": 3
   },
   "file_extension": ".py",
   "mimetype": "text/x-python",
   "name": "python",
   "nbconvert_exporter": "python",
   "pygments_lexer": "ipython3",
   "version": "3.11.3"
  }
 },
 "nbformat": 4,
 "nbformat_minor": 5
}
