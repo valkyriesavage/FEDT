{
 "cells": [
  {
   "cell_type": "markdown",
   "id": "6fb81635-0ae7-4357-ab9f-7305cd617d93",
   "metadata": {},
   "source": [
    "[CircWood paper: technical evaluation section](https://dl.acm.org/doi/fullHtml/10.1145/3490149.3501317#sec-18)\n",
    "\n",
    "![experiment 1: materials](img/circwood1.png)\n",
    "\n",
    "![experiment 2: settings](img/circwood2.png)\n",
    "\n",
    "![experiment 3: grain direction](img/circwood3.png)\n",
    "\n",
    "![experiment 4: time](img/circwood4.png)"
   ]
  },
  {
   "cell_type": "markdown",
   "id": "70bd7c4c-16b9-4fc0-9a08-ae7b0b25412f",
   "metadata": {
    "jp-MarkdownHeadingCollapsed": true
   },
   "source": [
    "# Experiment 1a : materials\n",
    "## 1. Specify all parameters to be varied\n"
   ]
  },
  {
   "cell_type": "code",
   "execution_count": 1,
   "id": "cff05206-308c-4ffe-a980-06fb48753c68",
   "metadata": {},
   "outputs": [
    {
     "name": "stdout",
     "output_type": "stream",
     "text": [
      "hey! did you know that there's a difference between something not having variables and not happening? make some stuff optional~\n",
      "hey! don't forget that your specific conditions count needs to consider that there could be non-crossed conditions in interaction???\n",
      "This experiment will require fabricating 20 unique objects.\n",
      "20 total measurements will be recorded.\n"
     ]
    },
    {
     "data": {
      "text/plain": [
       "('circwood1a.csv', 'circwood1a_key.csv')"
      ]
     },
     "execution_count": 1,
     "metadata": {},
     "output_type": "execute_result"
    }
   ],
   "source": [
    "from fedt import *\n",
    "import fedt_2D_geom\n",
    "import numpy as np\n",
    "\n",
    "experiment = FEDTExperiment()\n",
    "experiment.configure_for_drawsvg()\n",
    "experiment.configure_for_lasercutting()\n",
    "\n",
    "experiment.CAM_variables = [{\n",
    "        NAME : 'material',\n",
    "        DATA_TYPE : 'categorical',\n",
    "        TEST_VALUES : [\"lauan solid wood\", \"lauan plywood\", \"Japanese cypress\",\n",
    "                         \"paulownia\", \"Magnolia obovata\", \"Japanese cedar\", \"basswood\",\n",
    "                         \"beech\", \"oak\", \"walnut\"],\n",
    "        ARGNAME : 'material'\n",
    "    },\n",
    "    {\n",
    "        NAME : 'treatment',\n",
    "        DATA_TYPE : 'categorical',\n",
    "        TEST_VALUES : [\"none\", \"fire retardant\"],\n",
    "        ARGNAME : 'material'\n",
    "    }]\n",
    "experiment.fab_repetitions = 1\n",
    "\n",
    "experiment.measurement_variables = [{\n",
    "        NAME : 'conductivity',\n",
    "        DATA_TYPE : 'ratio'\n",
    "    }\n",
    "]\n",
    "experiment.measurement_repetitions = 1\n",
    "\n",
    "###########\n",
    "\n",
    "experiment.experiment_size()\n",
    "\n",
    "experiment.create_experiment_csv(experiment_csv=\"circwood1a.csv\")"
   ]
  },
  {
   "cell_type": "markdown",
   "id": "313fabb6",
   "metadata": {},
   "source": [
    "## 2. CAM"
   ]
  },
  {
   "cell_type": "code",
   "execution_count": 2,
   "id": "b69a74fb",
   "metadata": {},
   "outputs": [
    {
     "name": "stdout",
     "output_type": "stream",
     "text": [
      "please open Visicut and Options > Import Settings > fedt_generated.vcsettings\n"
     ]
    }
   ],
   "source": [
    "experiment.prep_cam()"
   ]
  },
  {
   "cell_type": "markdown",
   "id": "30d1417e",
   "metadata": {},
   "source": [
    "## 3. CAD"
   ]
  },
  {
   "cell_type": "code",
   "execution_count": 3,
   "id": "18959d5c",
   "metadata": {},
   "outputs": [],
   "source": [
    "# nothing to do\n",
    "experiment.geometry_function = fedt_2D_geom.drawcircle"
   ]
  },
  {
   "cell_type": "markdown",
   "id": "9ae8ed63",
   "metadata": {},
   "source": [
    "## 4. Fabrication\n"
   ]
  },
  {
   "cell_type": "code",
   "execution_count": 4,
   "id": "cc047332",
   "metadata": {},
   "outputs": [
    {
     "name": "stderr",
     "output_type": "stream",
     "text": [
      "openjdk version \"17.0.6\" 2023-01-17\n",
      "OpenJDK Runtime Environment Temurin-17.0.6+10 (build 17.0.6+10)\n",
      "OpenJDK 64-Bit Server VM Temurin-17.0.6+10 (build 17.0.6+10, mixed mode)\n",
      "Unknown command line option: --laserdevice Epilog Helix\n",
      "Use -h or --help for help\n"
     ]
    },
    {
     "ename": "CalledProcessError",
     "evalue": "Command '['/Users/vwn277/projects/fedtlike/visicut/VisiCut.MacOS', '--laserdevice Epilog Helix', '--execute', 'spam.plf']' returned non-zero exit status 1.",
     "output_type": "error",
     "traceback": [
      "\u001b[0;31m---------------------------------------------------------------------------\u001b[0m",
      "\u001b[0;31mCalledProcessError\u001b[0m                        Traceback (most recent call last)",
      "Cell \u001b[0;32mIn[4], line 1\u001b[0m\n\u001b[0;32m----> 1\u001b[0m \u001b[43mexperiment\u001b[49m\u001b[38;5;241;43m.\u001b[39;49m\u001b[43mfabricate\u001b[49m\u001b[43m(\u001b[49m\u001b[43m)\u001b[49m\n",
      "File \u001b[0;32m~/projects/fedtlike/FEDT/fedt.py:258\u001b[0m, in \u001b[0;36mFEDTExperiment.fabricate\u001b[0;34m(self)\u001b[0m\n\u001b[1;32m    256\u001b[0m \u001b[38;5;28mself\u001b[39m\u001b[38;5;241m.\u001b[39mCAM_paths \u001b[38;5;241m=\u001b[39m CAM_paths\n\u001b[1;32m    257\u001b[0m \u001b[38;5;28;01mfor\u001b[39;00m path \u001b[38;5;129;01min\u001b[39;00m CAM_paths:\n\u001b[0;32m--> 258\u001b[0m     \u001b[38;5;28;43mself\u001b[39;49m\u001b[38;5;241;43m.\u001b[39;49m\u001b[43mfabricate_executor\u001b[49m\u001b[38;5;241;43m.\u001b[39;49m\u001b[43mfabricate\u001b[49m\u001b[43m(\u001b[49m\u001b[43mpath\u001b[49m\u001b[43m)\u001b[49m\n\u001b[1;32m    260\u001b[0m \u001b[38;5;28mself\u001b[39m\u001b[38;5;241m.\u001b[39mexecutor_order\u001b[38;5;241m.\u001b[39mextend([\u001b[38;5;28mself\u001b[39m\u001b[38;5;241m.\u001b[39mcad_executor, \u001b[38;5;28mself\u001b[39m\u001b[38;5;241m.\u001b[39mcam_executor, \u001b[38;5;28mself\u001b[39m\u001b[38;5;241m.\u001b[39mfabricate_executor])\n",
      "File \u001b[0;32m~/projects/fedtlike/FEDT/fedt_laser.py:117\u001b[0m, in \u001b[0;36mFEDTLaser.fabricate\u001b[0;34m(self, cut_file, mapping_file)\u001b[0m\n\u001b[1;32m    112\u001b[0m os\u001b[38;5;241m.\u001b[39mrename(temp_zf, temp_plf)\n\u001b[1;32m    113\u001b[0m cut_command \u001b[38;5;241m=\u001b[39m [VISICUT_LOCATION,\n\u001b[1;32m    114\u001b[0m             \u001b[38;5;124m'\u001b[39m\u001b[38;5;124m--laserdevice \u001b[39m\u001b[38;5;124m'\u001b[39m \u001b[38;5;241m+\u001b[39m \u001b[38;5;28mself\u001b[39m\u001b[38;5;241m.\u001b[39mlaserdevice,\n\u001b[1;32m    115\u001b[0m             \u001b[38;5;124m'\u001b[39m\u001b[38;5;124m--execute\u001b[39m\u001b[38;5;124m'\u001b[39m,\n\u001b[1;32m    116\u001b[0m             temp_plf]\n\u001b[0;32m--> 117\u001b[0m results \u001b[38;5;241m=\u001b[39m \u001b[43msubprocess\u001b[49m\u001b[38;5;241;43m.\u001b[39;49m\u001b[43mcheck_output\u001b[49m\u001b[43m(\u001b[49m\u001b[43mcut_command\u001b[49m\u001b[43m)\u001b[49m\n\u001b[1;32m    118\u001b[0m os\u001b[38;5;241m.\u001b[39mremove(temp_plf)\n\u001b[1;32m    119\u001b[0m \u001b[38;5;28;01mreturn\u001b[39;00m results\n",
      "File \u001b[0;32m~/miniforge3/envs/jupyfab/lib/python3.11/subprocess.py:466\u001b[0m, in \u001b[0;36mcheck_output\u001b[0;34m(timeout, *popenargs, **kwargs)\u001b[0m\n\u001b[1;32m    463\u001b[0m         empty \u001b[38;5;241m=\u001b[39m \u001b[38;5;124mb\u001b[39m\u001b[38;5;124m'\u001b[39m\u001b[38;5;124m'\u001b[39m\n\u001b[1;32m    464\u001b[0m     kwargs[\u001b[38;5;124m'\u001b[39m\u001b[38;5;124minput\u001b[39m\u001b[38;5;124m'\u001b[39m] \u001b[38;5;241m=\u001b[39m empty\n\u001b[0;32m--> 466\u001b[0m \u001b[38;5;28;01mreturn\u001b[39;00m \u001b[43mrun\u001b[49m\u001b[43m(\u001b[49m\u001b[38;5;241;43m*\u001b[39;49m\u001b[43mpopenargs\u001b[49m\u001b[43m,\u001b[49m\u001b[43m \u001b[49m\u001b[43mstdout\u001b[49m\u001b[38;5;241;43m=\u001b[39;49m\u001b[43mPIPE\u001b[49m\u001b[43m,\u001b[49m\u001b[43m \u001b[49m\u001b[43mtimeout\u001b[49m\u001b[38;5;241;43m=\u001b[39;49m\u001b[43mtimeout\u001b[49m\u001b[43m,\u001b[49m\u001b[43m \u001b[49m\u001b[43mcheck\u001b[49m\u001b[38;5;241;43m=\u001b[39;49m\u001b[38;5;28;43;01mTrue\u001b[39;49;00m\u001b[43m,\u001b[49m\n\u001b[1;32m    467\u001b[0m \u001b[43m           \u001b[49m\u001b[38;5;241;43m*\u001b[39;49m\u001b[38;5;241;43m*\u001b[39;49m\u001b[43mkwargs\u001b[49m\u001b[43m)\u001b[49m\u001b[38;5;241m.\u001b[39mstdout\n",
      "File \u001b[0;32m~/miniforge3/envs/jupyfab/lib/python3.11/subprocess.py:571\u001b[0m, in \u001b[0;36mrun\u001b[0;34m(input, capture_output, timeout, check, *popenargs, **kwargs)\u001b[0m\n\u001b[1;32m    569\u001b[0m     retcode \u001b[38;5;241m=\u001b[39m process\u001b[38;5;241m.\u001b[39mpoll()\n\u001b[1;32m    570\u001b[0m     \u001b[38;5;28;01mif\u001b[39;00m check \u001b[38;5;129;01mand\u001b[39;00m retcode:\n\u001b[0;32m--> 571\u001b[0m         \u001b[38;5;28;01mraise\u001b[39;00m CalledProcessError(retcode, process\u001b[38;5;241m.\u001b[39margs,\n\u001b[1;32m    572\u001b[0m                                  output\u001b[38;5;241m=\u001b[39mstdout, stderr\u001b[38;5;241m=\u001b[39mstderr)\n\u001b[1;32m    573\u001b[0m \u001b[38;5;28;01mreturn\u001b[39;00m CompletedProcess(process\u001b[38;5;241m.\u001b[39margs, retcode, stdout, stderr)\n",
      "\u001b[0;31mCalledProcessError\u001b[0m: Command '['/Users/vwn277/projects/fedtlike/visicut/VisiCut.MacOS', '--laserdevice Epilog Helix', '--execute', 'spam.plf']' returned non-zero exit status 1."
     ]
    }
   ],
   "source": [
    "experiment.fabricate()"
   ]
  },
  {
   "cell_type": "markdown",
   "id": "cceb6233",
   "metadata": {},
   "source": [
    "## 5. Post-Processing"
   ]
  },
  {
   "cell_type": "code",
   "execution_count": 5,
   "id": "526ab9f4-7cb4-4b04-bf4d-a3fbedf96302",
   "metadata": {},
   "outputs": [],
   "source": [
    "experiment.post_process()"
   ]
  },
  {
   "cell_type": "markdown",
   "id": "df4d4114-67c7-440b-b8a6-f7a8ef472934",
   "metadata": {},
   "source": [
    "## 6. Create measurement framework / user interaction"
   ]
  },
  {
   "cell_type": "code",
   "execution_count": 6,
   "id": "1470c445-e646-42c8-8b21-3c2f2aab38f8",
   "metadata": {},
   "outputs": [
    {
     "name": "stdout",
     "output_type": "stream",
     "text": [
      "now please fill circwood1a.csv with data\n"
     ]
    }
   ],
   "source": [
    "experiment.interact()\n",
    "\n",
    "experiment.measure()"
   ]
  },
  {
   "cell_type": "markdown",
   "id": "e77a238c",
   "metadata": {},
   "source": [
    "## 8. Tea-based hypothesis testing"
   ]
  },
  {
   "cell_type": "code",
   "execution_count": 7,
   "id": "4de71f72",
   "metadata": {},
   "outputs": [],
   "source": [
    "#from fedt_tea import do_experiment\n",
    "\n",
    "# tea_results = do_experiment(measurement_variables,\n",
    "#                             tea_hypothesis,\n",
    "#                             experiment_csv,\n",
    "#                             CAD_variables,\n",
    "#                             CAM_variables,\n",
    "#                             post_process_variables,\n",
    "#                             interaction_variables)"
   ]
  },
  {
   "cell_type": "markdown",
   "id": "35e75c90-48bd-4f1a-86cc-e1d342195516",
   "metadata": {},
   "source": [
    "## 9. Reporting"
   ]
  },
  {
   "cell_type": "code",
   "execution_count": 8,
   "id": "f381b27f-23b7-4d2f-9d45-c4be076bf042",
   "metadata": {},
   "outputs": [
    {
     "name": "stdout",
     "output_type": "stream",
     "text": [
      "We manually post-processed the objects.  We manually interacted with the objects.  We manually measured the objects using a <TOOL>. We recorded 1 measurements 1 times for each object (20 total measurements) We measured the following:  conductivity.conductivity ranged from nan--nan UNIT (mean nan UNIT, std nan UNIT) across all samples. ...\n",
      "\n"
     ]
    }
   ],
   "source": [
    "print(experiment.report_latex())"
   ]
  },
  {
   "cell_type": "markdown",
   "id": "9cfd7182-1ff9-4aec-b867-091ab2bf394f",
   "metadata": {
    "jp-MarkdownHeadingCollapsed": true
   },
   "source": [
    "# Experiment 1b : speed and power\n",
    "## 1. Specify all parameters to be varied\n"
   ]
  },
  {
   "cell_type": "code",
   "execution_count": null,
   "id": "22ff32f4-1e1a-4dc4-880a-47bcbf5b3911",
   "metadata": {},
   "outputs": [],
   "source": [
    "experiment = FEDTExperiment()\n",
    "experiment.configure_for_drawsvg()\n",
    "experiment.configure_for_lasercutting()\n",
    "\n",
    "experiment.CAM_variables = [{\n",
    "        NAME : 'speed',\n",
    "        DATA_TYPE : 'ratio',\n",
    "        TEST_VALUES : list(np.arange(20,81,10)),\n",
    "        ARGNAME : 'speed'\n",
    "    },\n",
    "    {\n",
    "        NAME : 'power',\n",
    "        DATA_TYPE : 'ratio',\n",
    "        TEST_VALUES : list(np.arange(10,51,5)),\n",
    "        ARGNAME : 'power'\n",
    "    }]\n",
    "\n",
    "experiment.measurement_variables = [{\n",
    "        NAME : 'conductivity',\n",
    "        DATA_TYPE : 'ratio'\n",
    "    }\n",
    "]\n",
    "experiment.measurement_repetitions = 1\n",
    "\n",
    "###########\n",
    "\n",
    "experiment.experiment_size()\n",
    "\n",
    "experiment.create_experiment_csv(experiment_csv=\"circwood1b.csv\")"
   ]
  },
  {
   "cell_type": "markdown",
   "id": "db8c2286-8b57-4b08-a896-00e08ce3ff12",
   "metadata": {},
   "source": [
    "## 2. CAM"
   ]
  },
  {
   "cell_type": "code",
   "execution_count": null,
   "id": "48fa2ac3-9f63-4bf4-8d75-abdb2ba0dd79",
   "metadata": {},
   "outputs": [],
   "source": [
    "experiment.prep_cam()"
   ]
  },
  {
   "cell_type": "markdown",
   "id": "9443a0f2-a972-4a9a-b924-a1576ce43ce2",
   "metadata": {},
   "source": [
    "## 3. CAD"
   ]
  },
  {
   "cell_type": "code",
   "execution_count": null,
   "id": "a133bb53-1576-43b2-85ba-4e2e7ba8aae5",
   "metadata": {},
   "outputs": [],
   "source": [
    "# nothing to do\n",
    "experiment.geometry_function = fedt_2D_geom.drawcircle"
   ]
  },
  {
   "cell_type": "markdown",
   "id": "519ee6c2-8605-46f4-b722-37ebb2c896ef",
   "metadata": {},
   "source": [
    "## 4. Fabrication\n"
   ]
  },
  {
   "cell_type": "code",
   "execution_count": null,
   "id": "27629616-2346-4ef6-9836-2b0ebc3f167b",
   "metadata": {},
   "outputs": [],
   "source": [
    "experiment.fabricate()"
   ]
  },
  {
   "cell_type": "markdown",
   "id": "f72ef661-df74-45ab-8b84-22cb88c0d612",
   "metadata": {},
   "source": [
    "## 5. Post-Processing"
   ]
  },
  {
   "cell_type": "code",
   "execution_count": null,
   "id": "b1ab95a1-2016-4461-b4d2-6c050bdff75b",
   "metadata": {},
   "outputs": [],
   "source": [
    "experiment.post_process()"
   ]
  },
  {
   "cell_type": "markdown",
   "id": "3a35aceb-e93a-4d6a-902a-19704fced32a",
   "metadata": {},
   "source": [
    "## 6. Create measurement framework / user interaction"
   ]
  },
  {
   "cell_type": "code",
   "execution_count": null,
   "id": "93c5a949-0b63-4a7c-b22c-5e88fb7f5ee7",
   "metadata": {},
   "outputs": [],
   "source": [
    "experiment.interact()\n",
    "\n",
    "experiment.measure()"
   ]
  },
  {
   "cell_type": "markdown",
   "id": "0bab0ec6-74de-4e5e-80ee-38dd8fd58164",
   "metadata": {},
   "source": [
    "## 8. Tea-based hypothesis testing"
   ]
  },
  {
   "cell_type": "code",
   "execution_count": null,
   "id": "a2c85a21-543a-4b21-a179-2f032394bfd4",
   "metadata": {},
   "outputs": [],
   "source": [
    "#from fedt_tea import do_experiment\n",
    "\n",
    "# tea_results = do_experiment(measurement_variables,\n",
    "#                             tea_hypothesis,\n",
    "#                             experiment_csv,\n",
    "#                             CAD_variables,\n",
    "#                             CAM_variables,\n",
    "#                             post_process_variables,\n",
    "#                             interaction_variables)"
   ]
  },
  {
   "cell_type": "markdown",
   "id": "1f3d41d4-4af6-4cf2-9cc8-4035f107789c",
   "metadata": {},
   "source": [
    "## 9. Reporting"
   ]
  },
  {
   "cell_type": "code",
   "execution_count": null,
   "id": "c0b2be75-0363-4f49-9e7a-18c3ba24ddf6",
   "metadata": {},
   "outputs": [],
   "source": [
    "print(experiment.report_latex())"
   ]
  },
  {
   "cell_type": "markdown",
   "id": "bb19844c-13c2-4405-8122-1e43db9b537d",
   "metadata": {
    "jp-MarkdownHeadingCollapsed": true
   },
   "source": [
    "# Experiment 1c : number of laser scans\n",
    "## 1. Specify all parameters to be varied\n"
   ]
  },
  {
   "cell_type": "code",
   "execution_count": null,
   "id": "0ec0147c-e027-4c4c-94c3-94ce75c4300e",
   "metadata": {},
   "outputs": [],
   "source": [
    "from fedt import *\n",
    "import numpy as np\n",
    "\n",
    "experiment = FEDTExperiment()\n",
    "experiment.configure_for_drawsvg()\n",
    "experiment.configure_for_lasercutting()\n",
    "\n",
    "experiment.CAD_variables = [{\n",
    "        NAME : 'number of overlaid lines',\n",
    "        DATA_TYPE : 'ratio',\n",
    "        TEST_VALUES : list(np.arange(1,16,1)),\n",
    "        ARGNAME : 'duplicates'\n",
    "    }] \n",
    "'''\n",
    "Valkyrie's note: I think \"number of laser scans\" could be captured as either a CAD variable\n",
    "(number of overlaid lines) or a fab variable (number of repetitions of an action).\n",
    "'''\n",
    "\n",
    "experiment.measurement_variables = [{\n",
    "        NAME : 'conductivity',\n",
    "        DATA_TYPE : 'ratio'\n",
    "    }\n",
    "]\n",
    "experiment.measurement_repetitions = 1\n",
    "\n",
    "experiment.label_gen_function = incrementing_labels\n",
    "\n",
    "###########\n",
    "\n",
    "experiment.experiment_size()\n",
    "\n",
    "experiment.create_experiment_csv(experiment_csv=\"circwood1c.csv\")"
   ]
  },
  {
   "cell_type": "markdown",
   "id": "ed1d4960-a76f-4b86-b503-2a915caab0e0",
   "metadata": {},
   "source": [
    "## 2. CAM"
   ]
  },
  {
   "cell_type": "code",
   "execution_count": null,
   "id": "f15c676e-7a9d-403e-bd60-9652132fc467",
   "metadata": {},
   "outputs": [],
   "source": [
    "experiment.prep_cam()"
   ]
  },
  {
   "cell_type": "markdown",
   "id": "7d0fccc3-afdf-4b64-828c-5f9cb6b7aa96",
   "metadata": {},
   "source": [
    "## 3. CAD"
   ]
  },
  {
   "cell_type": "code",
   "execution_count": null,
   "id": "e18499b9-7f60-4b74-a768-462ff8b363d2",
   "metadata": {},
   "outputs": [],
   "source": [
    "def drawnumcircles(draw, d, CAD_vars):\n",
    "    duplicates = CAD_vars['duplicates']\n",
    "    for i in range(duplicates):\n",
    "        d.append(draw.Circle(-40, -10, 30,\n",
    "                fill='none', stroke_width=1, stroke='red'))\n",
    "\n",
    "experiment.geometry_function = drawnumcircles"
   ]
  },
  {
   "cell_type": "markdown",
   "id": "1131b4d8-836e-4144-832b-daa147b1cd38",
   "metadata": {},
   "source": [
    "## 4. Fabrication\n"
   ]
  },
  {
   "cell_type": "code",
   "execution_count": null,
   "id": "a31a23f0-ca5a-40e5-95e6-f818cad15443",
   "metadata": {},
   "outputs": [],
   "source": [
    "experiment.fabricate()"
   ]
  },
  {
   "cell_type": "markdown",
   "id": "55160b31-c7d7-4a5e-9db3-851b3be24bd4",
   "metadata": {},
   "source": [
    "## 5. Post-Processing"
   ]
  },
  {
   "cell_type": "code",
   "execution_count": null,
   "id": "bd759409-3d11-4055-bfb7-18c2fe63964b",
   "metadata": {},
   "outputs": [],
   "source": [
    "experiment.post_process()"
   ]
  },
  {
   "cell_type": "markdown",
   "id": "64cd2be0-e9f0-4368-94f3-942f9b711656",
   "metadata": {},
   "source": [
    "## 6. Create measurement framework / user interaction"
   ]
  },
  {
   "cell_type": "code",
   "execution_count": null,
   "id": "e970d1e3-7159-4f60-a9a8-453885c6a488",
   "metadata": {},
   "outputs": [],
   "source": [
    "experiment.interact()\n",
    "\n",
    "experiment.measure()"
   ]
  },
  {
   "cell_type": "markdown",
   "id": "d22c36f5-a92b-420f-a0e1-16144db75fc9",
   "metadata": {},
   "source": [
    "## 8. Tea-based hypothesis testing"
   ]
  },
  {
   "cell_type": "code",
   "execution_count": null,
   "id": "8f82cdb1-b44c-491f-ac28-b173351dbb5a",
   "metadata": {},
   "outputs": [],
   "source": [
    "#from fedt_tea import do_experiment\n",
    "\n",
    "# tea_results = do_experiment(measurement_variables,\n",
    "#                             tea_hypothesis,\n",
    "#                             experiment_csv,\n",
    "#                             CAD_variables,\n",
    "#                             CAM_variables,\n",
    "#                             post_process_variables,\n",
    "#                             interaction_variables)"
   ]
  },
  {
   "cell_type": "markdown",
   "id": "d001c939-c06c-4a19-ab85-59779f019607",
   "metadata": {},
   "source": [
    "## 9. Reporting"
   ]
  },
  {
   "cell_type": "code",
   "execution_count": null,
   "id": "e3f936e4-403a-4fb6-b313-5552f94cfdfb",
   "metadata": {},
   "outputs": [],
   "source": [
    "print(experiment.report_latex())"
   ]
  },
  {
   "cell_type": "markdown",
   "id": "99315830-a4e8-43c6-89c2-899a75216cf7",
   "metadata": {
    "jp-MarkdownHeadingCollapsed": true
   },
   "source": [
    "# Experiment 2: Effect of grain direction\n",
    "## 1. Specify all parameters to be varied"
   ]
  },
  {
   "cell_type": "code",
   "execution_count": null,
   "id": "ff14b70a-2639-4e73-baff-436459b3a49e",
   "metadata": {},
   "outputs": [],
   "source": [
    "experiment = FEDTExperiment()\n",
    "experiment.configure_for_drawsvg()\n",
    "experiment.configure_for_lasercutting()\n",
    "\n",
    "experiment.CAD_variables = [{\n",
    "        NAME : 'number of parallel paths',\n",
    "        DATA_TYPE : 'ratio',\n",
    "        TEST_VALUES : list(np.arange(1,5,1)),\n",
    "        ARGNAME : 'nested'\n",
    "    }]\n",
    "\n",
    "experiment.CAM_variables = [{\n",
    "        NAME : 'grain orientation',\n",
    "        DATA_TYPE : 'categorical',\n",
    "        TEST_VALUES : [\"parallel\", \"orthogonal\"],\n",
    "        ARGNAME : 'material'\n",
    "    }]\n",
    "experiment.fab_repetitions = 1\n",
    "\n",
    "experiment.measurement_variables = [{\n",
    "        NAME : 'conductivity',\n",
    "        DATA_TYPE : 'ratio'\n",
    "    }\n",
    "]\n",
    "experiment.measurement_repetitions = 1\n",
    "\n",
    "###########\n",
    "\n",
    "experiment.experiment_size()\n",
    "\n",
    "experiment.create_experiment_csv(experiment_csv=\"circwood2.csv\")"
   ]
  },
  {
   "cell_type": "markdown",
   "id": "8b2cfc0f-6fa1-44c2-88ab-d714eb576cf9",
   "metadata": {},
   "source": [
    "## 2. CAM"
   ]
  },
  {
   "cell_type": "code",
   "execution_count": null,
   "id": "d30383f8-3670-4db8-9cac-65342ee248a5",
   "metadata": {},
   "outputs": [],
   "source": [
    "experiment.prep_cam()"
   ]
  },
  {
   "cell_type": "markdown",
   "id": "be1af344-916f-43ff-ac81-fcf5d8439b5a",
   "metadata": {},
   "source": [
    "## 3. CAD"
   ]
  },
  {
   "cell_type": "code",
   "execution_count": null,
   "id": "2ebb6789-bcb2-45a9-8b99-f6c8335f4b18",
   "metadata": {},
   "outputs": [],
   "source": [
    "def drawnestedcircles(draw, d, nested=1):\n",
    "    for i in range(nested):\n",
    "        d.append(draw.Circle(-40, -10, 30-nested,\n",
    "                fill='none', stroke_width=1, stroke='red'))\n",
    "\n",
    "experiment.geometry_function = drawnestedcircles"
   ]
  },
  {
   "cell_type": "markdown",
   "id": "4f34e6a6-1d17-4524-9774-28db1fbe4c4d",
   "metadata": {},
   "source": [
    "## 4. Fabrication\n"
   ]
  },
  {
   "cell_type": "code",
   "execution_count": null,
   "id": "3cab2166-d660-49bf-8adc-f253cb1436e8",
   "metadata": {},
   "outputs": [],
   "source": [
    "experiment.fabricate()"
   ]
  },
  {
   "cell_type": "markdown",
   "id": "c582de0f-1e1a-4244-8f27-97e60a1e4d64",
   "metadata": {},
   "source": [
    "## 5. Post-Processing"
   ]
  },
  {
   "cell_type": "code",
   "execution_count": null,
   "id": "13ad32fe-8a37-4bb7-93a8-0a80f03800de",
   "metadata": {},
   "outputs": [],
   "source": [
    "experiment.post_process()"
   ]
  },
  {
   "cell_type": "markdown",
   "id": "f39af2ec-57b6-494a-86de-e3a93b803bad",
   "metadata": {},
   "source": [
    "## 6. Create measurement framework / user interaction"
   ]
  },
  {
   "cell_type": "code",
   "execution_count": null,
   "id": "3414b2e7-e475-4f37-be57-2eb09599d104",
   "metadata": {},
   "outputs": [],
   "source": [
    "experiment.interact()\n",
    "\n",
    "experiment.measure()"
   ]
  },
  {
   "cell_type": "markdown",
   "id": "eb5fe735-ed5a-4963-b875-cf311a75794a",
   "metadata": {},
   "source": [
    "## 8. Tea-based hypothesis testing"
   ]
  },
  {
   "cell_type": "code",
   "execution_count": null,
   "id": "f729f98a-e539-438e-820e-11f340be7c54",
   "metadata": {},
   "outputs": [],
   "source": [
    "#from fedt_tea import do_experiment\n",
    "\n",
    "# tea_results = do_experiment(measurement_variables,\n",
    "#                             tea_hypothesis,\n",
    "#                             experiment_csv,\n",
    "#                             CAD_variables,\n",
    "#                             CAM_variables,\n",
    "#                             post_process_variables,\n",
    "#                             interaction_variables)"
   ]
  },
  {
   "cell_type": "markdown",
   "id": "6649dc5e-64cf-4e78-80e3-ba12fffc05e3",
   "metadata": {},
   "source": [
    "## 9. Reporting"
   ]
  },
  {
   "cell_type": "code",
   "execution_count": null,
   "id": "7360f2b8-638b-4df9-bf06-323fa3e824bc",
   "metadata": {},
   "outputs": [],
   "source": [
    "print(experiment.report_latex())"
   ]
  },
  {
   "cell_type": "markdown",
   "id": "7c4ef3a7-4b4f-40de-b05e-7eaf7e8758ca",
   "metadata": {},
   "source": [
    "# Experiment 3 : Resistance change over time\n",
    "## 1. Specify all parameters to be varied\n"
   ]
  },
  {
   "cell_type": "code",
   "execution_count": 1,
   "id": "6ecf4858-ab67-4cb0-8021-b5a19869f98d",
   "metadata": {},
   "outputs": [
    {
     "name": "stdout",
     "output_type": "stream",
     "text": [
      "hey! don't forget that your specific conditions count needs to consider that there could be non-crossed conditions in interaction???\n",
      "This experiment will require fabricating 8 unique objects.\n",
      "8 total measurements will be recorded.\n"
     ]
    },
    {
     "data": {
      "text/plain": [
       "('circwood3.csv', 'circwood3_key.csv')"
      ]
     },
     "execution_count": 1,
     "metadata": {},
     "output_type": "execute_result"
    }
   ],
   "source": [
    "from fedt import *\n",
    "import numpy as np\n",
    "import fedt_2D_geom\n",
    "\n",
    "experiment = FEDTExperiment()\n",
    "experiment.configure_for_drawsvg()\n",
    "experiment.configure_for_lasercutting()\n",
    "experiment.label_gen_function = hash_labels\n",
    "\n",
    "experiment.post_process_variables = [{\n",
    "        NAME : 'material',\n",
    "        DATA_TYPE : 'categorical',\n",
    "        TEST_VALUES : [\"nothing\", \"varnish\"],\n",
    "        INSTRUCTION : 'coat the material with {}'\n",
    "    }]\n",
    "experiment.post_process_repetitions = 4\n",
    "\n",
    "experiment.time_variables = [{\n",
    "        NAME : 'months passed',\n",
    "        DATA_TYPE : 'ratio',\n",
    "        TEST_VALUES : list(np.arange(0,7,1))\n",
    "    }]\n",
    "\n",
    "experiment.measurement_variables = [{\n",
    "        NAME : 'conductivity',\n",
    "        DATA_TYPE : 'ratio'\n",
    "    }\n",
    "]\n",
    "experiment.measurement_repetitions = 1\n",
    "\n",
    "###########\n",
    "\n",
    "experiment.experiment_size()\n",
    "\n",
    "experiment.create_experiment_csv(experiment_csv=\"circwood3.csv\")"
   ]
  },
  {
   "cell_type": "markdown",
   "id": "0157e533-acda-4f7b-bee1-b8022bd47e3d",
   "metadata": {},
   "source": [
    "## 2. CAM"
   ]
  },
  {
   "cell_type": "code",
   "execution_count": 2,
   "id": "bfadf102-b24f-4482-b575-c5bab02e3b10",
   "metadata": {},
   "outputs": [
    {
     "name": "stdout",
     "output_type": "stream",
     "text": [
      "please open Visicut and Options > Import Settings > fedt_generated.vcsettings\n"
     ]
    }
   ],
   "source": [
    "experiment.prep_cam()"
   ]
  },
  {
   "cell_type": "markdown",
   "id": "e06b658e-cd8e-4a6e-8e45-5e0422b719d9",
   "metadata": {},
   "source": [
    "## 3. CAD"
   ]
  },
  {
   "cell_type": "code",
   "execution_count": 3,
   "id": "cf89775a-20c3-4e42-bacf-90f6b974cf66",
   "metadata": {},
   "outputs": [],
   "source": [
    "# nothing to do\n",
    "experiment.geometry_function = fedt_2D_geom.drawcircle\n",
    "experiment.label_function = fedt_2D_geom.labelcentre"
   ]
  },
  {
   "cell_type": "markdown",
   "id": "45b9cc98-51b2-45bc-b32b-035f621b88b4",
   "metadata": {},
   "source": [
    "## 4. Fabrication\n"
   ]
  },
  {
   "cell_type": "code",
   "execution_count": 4,
   "id": "eb34e8a1-6886-42ec-8c12-c60fe21647fb",
   "metadata": {},
   "outputs": [
    {
     "name": "stderr",
     "output_type": "stream",
     "text": [
      "openjdk version \"17.0.6\" 2023-01-17\n",
      "OpenJDK Runtime Environment Temurin-17.0.6+10 (build 17.0.6+10)\n",
      "OpenJDK 64-Bit Server VM Temurin-17.0.6+10 (build 17.0.6+10, mixed mode)\n",
      "Unknown command line option: --laserdevice Epilog Helix\n",
      "Use -h or --help for help\n"
     ]
    },
    {
     "ename": "CalledProcessError",
     "evalue": "Command '['/Users/vwn277/projects/fedtlike/visicut/VisiCut.MacOS', '--laserdevice Epilog Helix', '--execute', 'spam.plf']' returned non-zero exit status 1.",
     "output_type": "error",
     "traceback": [
      "\u001b[0;31m---------------------------------------------------------------------------\u001b[0m",
      "\u001b[0;31mCalledProcessError\u001b[0m                        Traceback (most recent call last)",
      "Cell \u001b[0;32mIn[4], line 1\u001b[0m\n\u001b[0;32m----> 1\u001b[0m \u001b[43mexperiment\u001b[49m\u001b[38;5;241;43m.\u001b[39;49m\u001b[43mfabricate\u001b[49m\u001b[43m(\u001b[49m\u001b[43m)\u001b[49m\n",
      "File \u001b[0;32m~/projects/fedtlike/FEDT/fedt.py:265\u001b[0m, in \u001b[0;36mFEDTExperiment.fabricate\u001b[0;34m(self)\u001b[0m\n\u001b[1;32m    263\u001b[0m \u001b[38;5;28mself\u001b[39m\u001b[38;5;241m.\u001b[39mCAM_paths \u001b[38;5;241m=\u001b[39m CAM_paths\n\u001b[1;32m    264\u001b[0m \u001b[38;5;28;01mfor\u001b[39;00m path \u001b[38;5;129;01min\u001b[39;00m CAM_paths:\n\u001b[0;32m--> 265\u001b[0m     \u001b[38;5;28;43mself\u001b[39;49m\u001b[38;5;241;43m.\u001b[39;49m\u001b[43mfabricate_executor\u001b[49m\u001b[38;5;241;43m.\u001b[39;49m\u001b[43mfabricate\u001b[49m\u001b[43m(\u001b[49m\u001b[43mpath\u001b[49m\u001b[43m)\u001b[49m\n\u001b[1;32m    267\u001b[0m \u001b[38;5;28mself\u001b[39m\u001b[38;5;241m.\u001b[39mexecutor_order\u001b[38;5;241m.\u001b[39mextend([\u001b[38;5;28mself\u001b[39m\u001b[38;5;241m.\u001b[39mcad_executor, \u001b[38;5;28mself\u001b[39m\u001b[38;5;241m.\u001b[39mcam_executor, \u001b[38;5;28mself\u001b[39m\u001b[38;5;241m.\u001b[39mfabricate_executor])\n",
      "File \u001b[0;32m~/projects/fedtlike/FEDT/fedt_laser.py:117\u001b[0m, in \u001b[0;36mFEDTLaser.fabricate\u001b[0;34m(self, cut_file, mapping_file)\u001b[0m\n\u001b[1;32m    112\u001b[0m os\u001b[38;5;241m.\u001b[39mrename(temp_zf, temp_plf)\n\u001b[1;32m    113\u001b[0m cut_command \u001b[38;5;241m=\u001b[39m [VISICUT_LOCATION,\n\u001b[1;32m    114\u001b[0m             \u001b[38;5;124m'\u001b[39m\u001b[38;5;124m--laserdevice \u001b[39m\u001b[38;5;124m'\u001b[39m \u001b[38;5;241m+\u001b[39m \u001b[38;5;28mself\u001b[39m\u001b[38;5;241m.\u001b[39mlaserdevice,\n\u001b[1;32m    115\u001b[0m             \u001b[38;5;124m'\u001b[39m\u001b[38;5;124m--execute\u001b[39m\u001b[38;5;124m'\u001b[39m,\n\u001b[1;32m    116\u001b[0m             temp_plf]\n\u001b[0;32m--> 117\u001b[0m results \u001b[38;5;241m=\u001b[39m \u001b[43msubprocess\u001b[49m\u001b[38;5;241;43m.\u001b[39;49m\u001b[43mcheck_output\u001b[49m\u001b[43m(\u001b[49m\u001b[43mcut_command\u001b[49m\u001b[43m)\u001b[49m\n\u001b[1;32m    118\u001b[0m os\u001b[38;5;241m.\u001b[39mremove(temp_plf)\n\u001b[1;32m    119\u001b[0m \u001b[38;5;28;01mreturn\u001b[39;00m results\n",
      "File \u001b[0;32m~/miniforge3/envs/jupyfab/lib/python3.11/subprocess.py:466\u001b[0m, in \u001b[0;36mcheck_output\u001b[0;34m(timeout, *popenargs, **kwargs)\u001b[0m\n\u001b[1;32m    463\u001b[0m         empty \u001b[38;5;241m=\u001b[39m \u001b[38;5;124mb\u001b[39m\u001b[38;5;124m'\u001b[39m\u001b[38;5;124m'\u001b[39m\n\u001b[1;32m    464\u001b[0m     kwargs[\u001b[38;5;124m'\u001b[39m\u001b[38;5;124minput\u001b[39m\u001b[38;5;124m'\u001b[39m] \u001b[38;5;241m=\u001b[39m empty\n\u001b[0;32m--> 466\u001b[0m \u001b[38;5;28;01mreturn\u001b[39;00m \u001b[43mrun\u001b[49m\u001b[43m(\u001b[49m\u001b[38;5;241;43m*\u001b[39;49m\u001b[43mpopenargs\u001b[49m\u001b[43m,\u001b[49m\u001b[43m \u001b[49m\u001b[43mstdout\u001b[49m\u001b[38;5;241;43m=\u001b[39;49m\u001b[43mPIPE\u001b[49m\u001b[43m,\u001b[49m\u001b[43m \u001b[49m\u001b[43mtimeout\u001b[49m\u001b[38;5;241;43m=\u001b[39;49m\u001b[43mtimeout\u001b[49m\u001b[43m,\u001b[49m\u001b[43m \u001b[49m\u001b[43mcheck\u001b[49m\u001b[38;5;241;43m=\u001b[39;49m\u001b[38;5;28;43;01mTrue\u001b[39;49;00m\u001b[43m,\u001b[49m\n\u001b[1;32m    467\u001b[0m \u001b[43m           \u001b[49m\u001b[38;5;241;43m*\u001b[39;49m\u001b[38;5;241;43m*\u001b[39;49m\u001b[43mkwargs\u001b[49m\u001b[43m)\u001b[49m\u001b[38;5;241m.\u001b[39mstdout\n",
      "File \u001b[0;32m~/miniforge3/envs/jupyfab/lib/python3.11/subprocess.py:571\u001b[0m, in \u001b[0;36mrun\u001b[0;34m(input, capture_output, timeout, check, *popenargs, **kwargs)\u001b[0m\n\u001b[1;32m    569\u001b[0m     retcode \u001b[38;5;241m=\u001b[39m process\u001b[38;5;241m.\u001b[39mpoll()\n\u001b[1;32m    570\u001b[0m     \u001b[38;5;28;01mif\u001b[39;00m check \u001b[38;5;129;01mand\u001b[39;00m retcode:\n\u001b[0;32m--> 571\u001b[0m         \u001b[38;5;28;01mraise\u001b[39;00m CalledProcessError(retcode, process\u001b[38;5;241m.\u001b[39margs,\n\u001b[1;32m    572\u001b[0m                                  output\u001b[38;5;241m=\u001b[39mstdout, stderr\u001b[38;5;241m=\u001b[39mstderr)\n\u001b[1;32m    573\u001b[0m \u001b[38;5;28;01mreturn\u001b[39;00m CompletedProcess(process\u001b[38;5;241m.\u001b[39margs, retcode, stdout, stderr)\n",
      "\u001b[0;31mCalledProcessError\u001b[0m: Command '['/Users/vwn277/projects/fedtlike/visicut/VisiCut.MacOS', '--laserdevice Epilog Helix', '--execute', 'spam.plf']' returned non-zero exit status 1."
     ]
    }
   ],
   "source": [
    "experiment.fabricate()"
   ]
  },
  {
   "cell_type": "markdown",
   "id": "415b40bf-bbd5-4ff7-9f57-f2abbbbf86b9",
   "metadata": {},
   "source": [
    "## 5. Post-Processing"
   ]
  },
  {
   "cell_type": "code",
   "execution_count": 5,
   "id": "60184dba-04ae-49d7-8394-6b9fb5e84b47",
   "metadata": {},
   "outputs": [
    {
     "name": "stdout",
     "output_type": "stream",
     "text": [
      "for object L5323568405842933912, coat the material with nothing\n",
      "for object L8544621615708321161, coat the material with nothing\n",
      "for object L7216484686965976692, coat the material with nothing\n",
      "for object L-590112734033106110, coat the material with nothing\n",
      "for object L-3615132421241226120, coat the material with nothing\n",
      "for object L-1007631606588331394, coat the material with nothing\n",
      "for object L-6859740157693400901, coat the material with nothing\n",
      "for object L-1299942318177591570, coat the material with nothing\n",
      "for object L3074311855756908549, coat the material with nothing\n",
      "for object L5584929670937832048, coat the material with nothing\n",
      "for object L-6424352112554506767, coat the material with nothing\n",
      "for object L737997952779551773, coat the material with nothing\n",
      "for object L-312654193440839910, coat the material with nothing\n",
      "for object L6221246472427980992, coat the material with nothing\n",
      "for object L4778997215598585804, coat the material with nothing\n",
      "for object L-8060331902343294676, coat the material with nothing\n",
      "for object L3394340320017041935, coat the material with nothing\n",
      "for object L-309153206337581836, coat the material with nothing\n",
      "for object L-2530004499980973266, coat the material with nothing\n",
      "for object L-5149436129151648005, coat the material with nothing\n",
      "for object L-4397817547001337888, coat the material with nothing\n",
      "for object L-5504593102691363139, coat the material with nothing\n",
      "for object L6197095507319882551, coat the material with nothing\n",
      "for object L868687612742858209, coat the material with nothing\n",
      "for object L-3863284907072497410, coat the material with nothing\n",
      "for object L4005560430098206416, coat the material with nothing\n",
      "for object L6642833741601382908, coat the material with nothing\n",
      "for object L8902302501906583712, coat the material with nothing\n",
      "for object L6366256727563991579, coat the material with nothing\n",
      "for object L-2297118130028882067, coat the material with nothing\n",
      "for object L2000108101428868181, coat the material with nothing\n",
      "for object L-306033769726906637, coat the material with nothing\n",
      "for object L1582214093987576653, coat the material with nothing\n",
      "for object L-3335824333181191187, coat the material with nothing\n",
      "for object L4419827163285915816, coat the material with nothing\n",
      "for object L4003233851487266585, coat the material with nothing\n",
      "for object L-1008518809244393428, coat the material with nothing\n",
      "for object L-2276140977995639212, coat the material with nothing\n",
      "for object L-7059817641705651423, coat the material with nothing\n",
      "for object L-3248004848804035533, coat the material with nothing\n",
      "for object L744064923154729827, coat the material with nothing\n",
      "for object L-4810761912194842580, coat the material with nothing\n",
      "for object L4793649011186304302, coat the material with nothing\n",
      "for object L1479072909054146944, coat the material with nothing\n",
      "for object L3053787815767546394, coat the material with nothing\n",
      "for object L8179643836657169390, coat the material with nothing\n",
      "for object L-6498074726997455455, coat the material with nothing\n",
      "for object L-4875450899313534821, coat the material with nothing\n",
      "for object L-5924488923027527032, coat the material with nothing\n",
      "for object L3118202159999697873, coat the material with nothing\n",
      "for object L-3712314033245188243, coat the material with nothing\n",
      "for object L1374675177641772873, coat the material with nothing\n",
      "for object L-4910981505648177021, coat the material with nothing\n",
      "for object L8797114165645339960, coat the material with nothing\n",
      "for object L3404977699116040413, coat the material with nothing\n",
      "for object L5300248006702525777, coat the material with nothing\n",
      "for object L-6898682562937496345, coat the material with varnish\n",
      "for object L-467786887267685635, coat the material with varnish\n",
      "for object L7074512790525196982, coat the material with varnish\n",
      "for object L2996405148494959500, coat the material with varnish\n",
      "for object L8863669273088412214, coat the material with varnish\n",
      "for object L1222508800893382491, coat the material with varnish\n",
      "for object L-7938615796486664679, coat the material with varnish\n",
      "for object L6419544790028193775, coat the material with varnish\n",
      "for object L-1398369824444242499, coat the material with varnish\n",
      "for object L5848895247049841995, coat the material with varnish\n",
      "for object L-2966624622824226462, coat the material with varnish\n",
      "for object L4941219713297765877, coat the material with varnish\n",
      "for object L7284831287136835873, coat the material with varnish\n",
      "for object L7283709485496030158, coat the material with varnish\n",
      "for object L-1731263736940097551, coat the material with varnish\n",
      "for object L1826711204758023688, coat the material with varnish\n",
      "for object L1365936712192455996, coat the material with varnish\n",
      "for object L-8587965677686717746, coat the material with varnish\n",
      "for object L8105658451310154022, coat the material with varnish\n",
      "for object L-1161559893696712065, coat the material with varnish\n",
      "for object L-7976863154841544429, coat the material with varnish\n",
      "for object L-782366733343641807, coat the material with varnish\n",
      "for object L7062450259462195891, coat the material with varnish\n",
      "for object L7775915483084787562, coat the material with varnish\n",
      "for object L2755947642723946405, coat the material with varnish\n",
      "for object L-4552747409351524540, coat the material with varnish\n",
      "for object L7791085171539407599, coat the material with varnish\n",
      "for object L1771285171092741363, coat the material with varnish\n",
      "for object L878075676080751215, coat the material with varnish\n",
      "for object L-2114880891768857862, coat the material with varnish\n",
      "for object L-5825076284306562493, coat the material with varnish\n",
      "for object L5864654318096988791, coat the material with varnish\n",
      "for object L5179130330945602205, coat the material with varnish\n",
      "for object L3279997712682546894, coat the material with varnish\n",
      "for object L-7644531095661763496, coat the material with varnish\n",
      "for object L6081433173863046295, coat the material with varnish\n",
      "for object L9170490729385698474, coat the material with varnish\n",
      "for object L3203436721316307003, coat the material with varnish\n",
      "for object L6803252512254625693, coat the material with varnish\n",
      "for object L4175325167811807060, coat the material with varnish\n",
      "for object L-1757721772360591125, coat the material with varnish\n",
      "for object L8388101220016180783, coat the material with varnish\n",
      "for object L-5439123982644584362, coat the material with varnish\n",
      "for object L-251654140668533133, coat the material with varnish\n",
      "for object L5698736925534970320, coat the material with varnish\n",
      "for object L-2749764382169287920, coat the material with varnish\n",
      "for object L-3209383804769888346, coat the material with varnish\n",
      "for object L3724198633424127353, coat the material with varnish\n",
      "for object L1810740559252751187, coat the material with varnish\n",
      "for object L-7331428862402482676, coat the material with varnish\n",
      "for object L1272360354957057258, coat the material with varnish\n",
      "for object L-1479173841002520812, coat the material with varnish\n",
      "for object L6390828240501734917, coat the material with varnish\n",
      "for object L-7652088926564950028, coat the material with varnish\n",
      "for object L-591083457766844720, coat the material with varnish\n",
      "for object L-8659654646716722839, coat the material with varnish\n"
     ]
    }
   ],
   "source": [
    "experiment.post_process()"
   ]
  },
  {
   "cell_type": "markdown",
   "id": "359518ab-5540-4038-95b8-1939740f9803",
   "metadata": {},
   "source": [
    "## 6. Create measurement framework / user interaction"
   ]
  },
  {
   "cell_type": "code",
   "execution_count": 6,
   "id": "b02c78d8-d567-41b4-8769-3c4f5bb9756e",
   "metadata": {},
   "outputs": [
    {
     "name": "stdout",
     "output_type": "stream",
     "text": [
      "for object L5323568405842933912, wait wait 0 months passed time\n",
      "for object L8544621615708321161, wait wait 1 months passed time\n",
      "for object L7216484686965976692, wait wait 2 months passed time\n",
      "for object L-590112734033106110, wait wait 3 months passed time\n",
      "for object L-3615132421241226120, wait wait 4 months passed time\n",
      "for object L-1007631606588331394, wait wait 5 months passed time\n",
      "for object L-6859740157693400901, wait wait 6 months passed time\n",
      "for object L-1299942318177591570, wait wait 0 months passed time\n",
      "for object L3074311855756908549, wait wait 1 months passed time\n",
      "for object L5584929670937832048, wait wait 2 months passed time\n",
      "for object L-6424352112554506767, wait wait 3 months passed time\n",
      "for object L737997952779551773, wait wait 4 months passed time\n",
      "for object L-312654193440839910, wait wait 5 months passed time\n",
      "for object L6221246472427980992, wait wait 6 months passed time\n",
      "for object L4778997215598585804, wait wait 0 months passed time\n",
      "for object L-8060331902343294676, wait wait 1 months passed time\n",
      "for object L3394340320017041935, wait wait 2 months passed time\n",
      "for object L-309153206337581836, wait wait 3 months passed time\n",
      "for object L-2530004499980973266, wait wait 4 months passed time\n",
      "for object L-5149436129151648005, wait wait 5 months passed time\n",
      "for object L-4397817547001337888, wait wait 6 months passed time\n",
      "for object L-5504593102691363139, wait wait 0 months passed time\n",
      "for object L6197095507319882551, wait wait 1 months passed time\n",
      "for object L868687612742858209, wait wait 2 months passed time\n",
      "for object L-3863284907072497410, wait wait 3 months passed time\n",
      "for object L4005560430098206416, wait wait 4 months passed time\n",
      "for object L6642833741601382908, wait wait 5 months passed time\n",
      "for object L8902302501906583712, wait wait 6 months passed time\n",
      "for object L6366256727563991579, wait wait 0 months passed time\n",
      "for object L-2297118130028882067, wait wait 1 months passed time\n",
      "for object L2000108101428868181, wait wait 2 months passed time\n",
      "for object L-306033769726906637, wait wait 3 months passed time\n",
      "for object L1582214093987576653, wait wait 4 months passed time\n",
      "for object L-3335824333181191187, wait wait 5 months passed time\n",
      "for object L4419827163285915816, wait wait 6 months passed time\n",
      "for object L4003233851487266585, wait wait 0 months passed time\n",
      "for object L-1008518809244393428, wait wait 1 months passed time\n",
      "for object L-2276140977995639212, wait wait 2 months passed time\n",
      "for object L-7059817641705651423, wait wait 3 months passed time\n",
      "for object L-3248004848804035533, wait wait 4 months passed time\n",
      "for object L744064923154729827, wait wait 5 months passed time\n",
      "for object L-4810761912194842580, wait wait 6 months passed time\n",
      "for object L4793649011186304302, wait wait 0 months passed time\n",
      "for object L1479072909054146944, wait wait 1 months passed time\n",
      "for object L3053787815767546394, wait wait 2 months passed time\n",
      "for object L8179643836657169390, wait wait 3 months passed time\n",
      "for object L-6498074726997455455, wait wait 4 months passed time\n",
      "for object L-4875450899313534821, wait wait 5 months passed time\n",
      "for object L-5924488923027527032, wait wait 6 months passed time\n",
      "for object L3118202159999697873, wait wait 0 months passed time\n",
      "for object L-3712314033245188243, wait wait 1 months passed time\n",
      "for object L1374675177641772873, wait wait 2 months passed time\n",
      "for object L-4910981505648177021, wait wait 3 months passed time\n",
      "for object L8797114165645339960, wait wait 4 months passed time\n",
      "for object L3404977699116040413, wait wait 5 months passed time\n",
      "for object L5300248006702525777, wait wait 6 months passed time\n",
      "for object L-6898682562937496345, wait wait 0 months passed time\n",
      "for object L-467786887267685635, wait wait 1 months passed time\n",
      "for object L7074512790525196982, wait wait 2 months passed time\n",
      "for object L2996405148494959500, wait wait 3 months passed time\n",
      "for object L8863669273088412214, wait wait 4 months passed time\n",
      "for object L1222508800893382491, wait wait 5 months passed time\n",
      "for object L-7938615796486664679, wait wait 6 months passed time\n",
      "for object L6419544790028193775, wait wait 0 months passed time\n",
      "for object L-1398369824444242499, wait wait 1 months passed time\n",
      "for object L5848895247049841995, wait wait 2 months passed time\n",
      "for object L-2966624622824226462, wait wait 3 months passed time\n",
      "for object L4941219713297765877, wait wait 4 months passed time\n",
      "for object L7284831287136835873, wait wait 5 months passed time\n",
      "for object L7283709485496030158, wait wait 6 months passed time\n",
      "for object L-1731263736940097551, wait wait 0 months passed time\n",
      "for object L1826711204758023688, wait wait 1 months passed time\n",
      "for object L1365936712192455996, wait wait 2 months passed time\n",
      "for object L-8587965677686717746, wait wait 3 months passed time\n",
      "for object L8105658451310154022, wait wait 4 months passed time\n",
      "for object L-1161559893696712065, wait wait 5 months passed time\n",
      "for object L-7976863154841544429, wait wait 6 months passed time\n",
      "for object L-782366733343641807, wait wait 0 months passed time\n",
      "for object L7062450259462195891, wait wait 1 months passed time\n",
      "for object L7775915483084787562, wait wait 2 months passed time\n",
      "for object L2755947642723946405, wait wait 3 months passed time\n",
      "for object L-4552747409351524540, wait wait 4 months passed time\n",
      "for object L7791085171539407599, wait wait 5 months passed time\n",
      "for object L1771285171092741363, wait wait 6 months passed time\n",
      "for object L878075676080751215, wait wait 0 months passed time\n",
      "for object L-2114880891768857862, wait wait 1 months passed time\n",
      "for object L-5825076284306562493, wait wait 2 months passed time\n",
      "for object L5864654318096988791, wait wait 3 months passed time\n",
      "for object L5179130330945602205, wait wait 4 months passed time\n",
      "for object L3279997712682546894, wait wait 5 months passed time\n",
      "for object L-7644531095661763496, wait wait 6 months passed time\n",
      "for object L6081433173863046295, wait wait 0 months passed time\n",
      "for object L9170490729385698474, wait wait 1 months passed time\n",
      "for object L3203436721316307003, wait wait 2 months passed time\n",
      "for object L6803252512254625693, wait wait 3 months passed time\n",
      "for object L4175325167811807060, wait wait 4 months passed time\n",
      "for object L-1757721772360591125, wait wait 5 months passed time\n",
      "for object L8388101220016180783, wait wait 6 months passed time\n",
      "for object L-5439123982644584362, wait wait 0 months passed time\n",
      "for object L-251654140668533133, wait wait 1 months passed time\n",
      "for object L5698736925534970320, wait wait 2 months passed time\n",
      "for object L-2749764382169287920, wait wait 3 months passed time\n",
      "for object L-3209383804769888346, wait wait 4 months passed time\n",
      "for object L3724198633424127353, wait wait 5 months passed time\n",
      "for object L1810740559252751187, wait wait 6 months passed time\n",
      "for object L-7331428862402482676, wait wait 0 months passed time\n",
      "for object L1272360354957057258, wait wait 1 months passed time\n",
      "for object L-1479173841002520812, wait wait 2 months passed time\n",
      "for object L6390828240501734917, wait wait 3 months passed time\n",
      "for object L-7652088926564950028, wait wait 4 months passed time\n",
      "for object L-591083457766844720, wait wait 5 months passed time\n",
      "for object L-8659654646716722839, wait wait 6 months passed time\n",
      "now please fill circwood3.csv with data\n"
     ]
    }
   ],
   "source": [
    "experiment.pass_time()\n",
    "\n",
    "experiment.measure()"
   ]
  },
  {
   "cell_type": "markdown",
   "id": "d7e91ff4-043c-48bb-bdc5-6f18ab739bcd",
   "metadata": {},
   "source": [
    "## 8. Tea-based hypothesis testing"
   ]
  },
  {
   "cell_type": "code",
   "execution_count": null,
   "id": "fd858eee-03e2-4df3-adb2-3f40e4396b85",
   "metadata": {},
   "outputs": [],
   "source": [
    "#from fedt_tea import do_experiment\n",
    "\n",
    "# tea_results = do_experiment(measurement_variables,\n",
    "#                             tea_hypothesis,\n",
    "#                             experiment_csv,\n",
    "#                             CAD_variables,\n",
    "#                             CAM_variables,\n",
    "#                             post_process_variables,\n",
    "#                             interaction_variables)"
   ]
  },
  {
   "cell_type": "markdown",
   "id": "ca988613-100e-47d1-9bad-d38e03f5fec2",
   "metadata": {},
   "source": [
    "## 9. Reporting"
   ]
  },
  {
   "cell_type": "code",
   "execution_count": 7,
   "id": "71f653c0-d99b-4c29-a2d6-5c6335ac6abe",
   "metadata": {},
   "outputs": [
    {
     "name": "stdout",
     "output_type": "stream",
     "text": [
      "We manually post-processed the objects. After fabrication, we post-processed 4 objects. We used the following processes: material (values ['nothing', 'varnish']).  We allowed different amounts of time to pass: months passed (values [0, 1, 2, 3, 4, 5, 6]).We manually measured the objects using a <TOOL>. We recorded 1 measurements 1 times for each object (8 total measurements) We measured the following:  conductivity.conductivity ranged from nan--nan UNIT (mean nan UNIT, std nan UNIT) across all samples. ...\n",
      "\n"
     ]
    }
   ],
   "source": [
    "print(experiment.report_latex())"
   ]
  },
  {
   "cell_type": "code",
   "execution_count": null,
   "id": "829d5b88-95c7-4b81-93eb-1a91b4a9c358",
   "metadata": {},
   "outputs": [],
   "source": []
  }
 ],
 "metadata": {
  "kernelspec": {
   "display_name": "Python 3 (ipykernel)",
   "language": "python",
   "name": "python3"
  },
  "language_info": {
   "codemirror_mode": {
    "name": "ipython",
    "version": 3
   },
   "file_extension": ".py",
   "mimetype": "text/x-python",
   "name": "python",
   "nbconvert_exporter": "python",
   "pygments_lexer": "ipython3",
   "version": "3.11.3"
  }
 },
 "nbformat": 4,
 "nbformat_minor": 5
}
