{
 "cells": [
  {
   "cell_type": "markdown",
   "id": "6fb81635-0ae7-4357-ab9f-7305cd617d93",
   "metadata": {},
   "source": [
    "[CircWood paper: technical evaluation section](https://dl.acm.org/doi/fullHtml/10.1145/3490149.3501317#sec-18)\n",
    "\n",
    "![experiment 1: materials](img/circwood1.png)\n",
    "\n",
    "![experiment 2: settings](img/circwood2.png)\n",
    "\n",
    "![experiment 3: grain direction](img/circwood3.png)\n",
    "\n",
    "![experiment 4: time](img/circwood4.png)"
   ]
  },
  {
   "cell_type": "markdown",
   "id": "70bd7c4c-16b9-4fc0-9a08-ae7b0b25412f",
   "metadata": {},
   "source": [
    "# 1. Specify all parameters to be varied\n"
   ]
  },
  {
   "cell_type": "code",
   "execution_count": 6,
   "id": "cff05206-308c-4ffe-a980-06fb48753c68",
   "metadata": {},
   "outputs": [
    {
     "name": "stdout",
     "output_type": "stream",
     "text": [
      "This experiment will require fabricating 18 unique objects.\n",
      "Users will perform 18 interactions.\n",
      "18 total measurements will be recorded.\n"
     ]
    }
   ],
   "source": [
    "from fedt import *\n",
    "\n",
    "CAD_variables = []\n",
    "CAM_variables = [{\n",
    "        'name' : 'material',\n",
    "        'data type' : 'categorical',\n",
    "        'test_values' : [\"lauan solid wood\", \"lauan plywood\", \"Japanese cypress\",\n",
    "                         \"paulownia\", \"Magnolia obovata\", \"Japanese cedar\", \"basswood\",\n",
    "                         \"beech\", \"oak\", \"walnut\"],\n",
    "        'argname' : 'material'\n",
    "    },\n",
    "    {\n",
    "        'name' : 'treatment',\n",
    "        'data type' : 'categorical',\n",
    "        'test_values' : [\"none\", \"fire retardant\"],\n",
    "        'argname' : 'material'\n",
    "    }]\n",
    "fab_repetitions = 1\n",
    "\n",
    "post_process_variables = []\n",
    "post_process_repetitions = 1\n",
    "\n",
    "interaction_variables = []\n",
    "\n",
    "measurement_variables = [{\n",
    "        'name' : 'conductivity',\n",
    "        'data type' : 'binary'\n",
    "    }\n",
    "]\n",
    "measurement_repetitions = 1\n",
    "\n",
    "tea_hypothesis = (['material', 'conductivity' ], ['treatment:fire retardant > none'])\n",
    "\n",
    "###########\n",
    "\n",
    "experiment_size(CAD_variables, CAM_variables, fab_repetitions,\n",
    "                post_process_variables, post_process_repetitions,\n",
    "                interaction_variables,\n",
    "                measurement_variables, measurement_repetitions)\n",
    "\n",
    "vars_to_labels = label_all_conditions(CAD_variables, CAM_variables, fab_repetitions,\n",
    "                                      post_process_variables, post_process_repetitions,\n",
    "                                      label_gen_function=raw_labels)\n",
    "\n",
    "experiment_csv, key_csv = create_experiment_csv(vars_to_labels, interaction_variables, measurement_variables, measurement_repetitions,\n",
    "                                                experiment_csv=\"circwood1.csv\")"
   ]
  },
  {
   "cell_type": "markdown",
   "id": "313fabb6",
   "metadata": {},
   "source": [
    "# 2. CAD"
   ]
  },
  {
   "cell_type": "code",
   "execution_count": 2,
   "id": "b69a74fb",
   "metadata": {},
   "outputs": [],
   "source": [
    "from fedt_laser import build_geometry\n",
    "\n",
    "# draw a circle in svg\n",
    "def geometry_function(draw, d, radius=30):\n",
    "    d.append(draw.Circle(-40, -10, radius,\n",
    "                fill='none', stroke_width=1, stroke='red'))\n",
    "\n",
    "def label_function(draw, d, label_string=\"L0\"):\n",
    "    d.append(draw.Text(x=20, y=-10, fill='blue', text=label_string, font_size=10))"
   ]
  },
  {
   "cell_type": "markdown",
   "id": "30d1417e",
   "metadata": {},
   "source": [
    "# 3. CAM"
   ]
  },
  {
   "cell_type": "code",
   "execution_count": 3,
   "id": "18959d5c",
   "metadata": {},
   "outputs": [
    {
     "name": "stdout",
     "output_type": "stream",
     "text": [
      "please open Visicut and Options > Import Settings > fedt_generated.vcsettings\n"
     ]
    },
    {
     "name": "stderr",
     "output_type": "stream",
     "text": [
      "/Users/vwn277/miniforge3/envs/jupyfab/lib/python3.11/zipfile.py:1549: UserWarning: Duplicate name: 'profiles/fedt_generated_20240312-155337f.xml'\n",
      "  return self._open_to_write(zinfo, force_zip64=force_zip64)\n",
      "/Users/vwn277/miniforge3/envs/jupyfab/lib/python3.11/zipfile.py:1549: UserWarning: Duplicate name: 'laserprofiles/Epilog_32_Helix/Acrylic/3.0mm/fedt_generated_20240312-155337f.xml'\n",
      "  return self._open_to_write(zinfo, force_zip64=force_zip64)\n"
     ]
    }
   ],
   "source": [
    "from fedt_laser import prep_cam, do_cam\n",
    "\n",
    "prep_cam(CAM_variables)"
   ]
  },
  {
   "cell_type": "markdown",
   "id": "9ae8ed63",
   "metadata": {},
   "source": [
    "# 4. Fabrication\n"
   ]
  },
  {
   "cell_type": "code",
   "execution_count": 4,
   "id": "cc047332",
   "metadata": {},
   "outputs": [
    {
     "name": "stderr",
     "output_type": "stream",
     "text": [
      "openjdk version \"17.0.6\" 2023-01-17\n",
      "OpenJDK Runtime Environment Temurin-17.0.6+10 (build 17.0.6+10)\n",
      "OpenJDK 64-Bit Server VM Temurin-17.0.6+10 (build 17.0.6+10, mixed mode)\n",
      "Unknown command line option: --laserdevice Epilog Helix\n",
      "Use -h or --help for help\n"
     ]
    },
    {
     "ename": "CalledProcessError",
     "evalue": "Command '['/Users/vwn277/projects/fedtlike/visicut/VisiCut.MacOS', '--laserdevice Epilog Helix', '--execute', 'spam.plf']' returned non-zero exit status 1.",
     "output_type": "error",
     "traceback": [
      "\u001b[0;31m---------------------------------------------------------------------------\u001b[0m",
      "\u001b[0;31mCalledProcessError\u001b[0m                        Traceback (most recent call last)",
      "Cell \u001b[0;32mIn[4], line 6\u001b[0m\n\u001b[1;32m      3\u001b[0m CAM_paths \u001b[38;5;241m=\u001b[39m prep_all_for_fab(vars_to_labels, geometry_function, label_function)\n\u001b[1;32m      5\u001b[0m \u001b[38;5;28;01mfor\u001b[39;00m CAM_path \u001b[38;5;129;01min\u001b[39;00m CAM_paths:\n\u001b[0;32m----> 6\u001b[0m     \u001b[43mfabricate\u001b[49m\u001b[43m(\u001b[49m\u001b[43mCAM_path\u001b[49m\u001b[43m)\u001b[49m\n",
      "File \u001b[0;32m~/projects/fedtlike/FEDT/fedt_laser.py:140\u001b[0m, in \u001b[0;36mfabricate\u001b[0;34m(cut_file, laserdevice, mapping_file)\u001b[0m\n\u001b[1;32m    135\u001b[0m os\u001b[38;5;241m.\u001b[39mrename(temp_zf, temp_plf)\n\u001b[1;32m    136\u001b[0m cut_command \u001b[38;5;241m=\u001b[39m [VISICUT_LOCATION,\n\u001b[1;32m    137\u001b[0m                \u001b[38;5;124m'\u001b[39m\u001b[38;5;124m--laserdevice \u001b[39m\u001b[38;5;124m'\u001b[39m \u001b[38;5;241m+\u001b[39m laserdevice,\n\u001b[1;32m    138\u001b[0m                \u001b[38;5;124m'\u001b[39m\u001b[38;5;124m--execute\u001b[39m\u001b[38;5;124m'\u001b[39m,\n\u001b[1;32m    139\u001b[0m                temp_plf]\n\u001b[0;32m--> 140\u001b[0m results \u001b[38;5;241m=\u001b[39m \u001b[43msubprocess\u001b[49m\u001b[38;5;241;43m.\u001b[39;49m\u001b[43mcheck_output\u001b[49m\u001b[43m(\u001b[49m\u001b[43mcut_command\u001b[49m\u001b[43m)\u001b[49m\n\u001b[1;32m    141\u001b[0m os\u001b[38;5;241m.\u001b[39mremove(temp_plf)\n\u001b[1;32m    142\u001b[0m \u001b[38;5;28;01mreturn\u001b[39;00m results\n",
      "File \u001b[0;32m~/miniforge3/envs/jupyfab/lib/python3.11/subprocess.py:466\u001b[0m, in \u001b[0;36mcheck_output\u001b[0;34m(timeout, *popenargs, **kwargs)\u001b[0m\n\u001b[1;32m    463\u001b[0m         empty \u001b[38;5;241m=\u001b[39m \u001b[38;5;124mb\u001b[39m\u001b[38;5;124m'\u001b[39m\u001b[38;5;124m'\u001b[39m\n\u001b[1;32m    464\u001b[0m     kwargs[\u001b[38;5;124m'\u001b[39m\u001b[38;5;124minput\u001b[39m\u001b[38;5;124m'\u001b[39m] \u001b[38;5;241m=\u001b[39m empty\n\u001b[0;32m--> 466\u001b[0m \u001b[38;5;28;01mreturn\u001b[39;00m \u001b[43mrun\u001b[49m\u001b[43m(\u001b[49m\u001b[38;5;241;43m*\u001b[39;49m\u001b[43mpopenargs\u001b[49m\u001b[43m,\u001b[49m\u001b[43m \u001b[49m\u001b[43mstdout\u001b[49m\u001b[38;5;241;43m=\u001b[39;49m\u001b[43mPIPE\u001b[49m\u001b[43m,\u001b[49m\u001b[43m \u001b[49m\u001b[43mtimeout\u001b[49m\u001b[38;5;241;43m=\u001b[39;49m\u001b[43mtimeout\u001b[49m\u001b[43m,\u001b[49m\u001b[43m \u001b[49m\u001b[43mcheck\u001b[49m\u001b[38;5;241;43m=\u001b[39;49m\u001b[38;5;28;43;01mTrue\u001b[39;49;00m\u001b[43m,\u001b[49m\n\u001b[1;32m    467\u001b[0m \u001b[43m           \u001b[49m\u001b[38;5;241;43m*\u001b[39;49m\u001b[38;5;241;43m*\u001b[39;49m\u001b[43mkwargs\u001b[49m\u001b[43m)\u001b[49m\u001b[38;5;241m.\u001b[39mstdout\n",
      "File \u001b[0;32m~/miniforge3/envs/jupyfab/lib/python3.11/subprocess.py:571\u001b[0m, in \u001b[0;36mrun\u001b[0;34m(input, capture_output, timeout, check, *popenargs, **kwargs)\u001b[0m\n\u001b[1;32m    569\u001b[0m     retcode \u001b[38;5;241m=\u001b[39m process\u001b[38;5;241m.\u001b[39mpoll()\n\u001b[1;32m    570\u001b[0m     \u001b[38;5;28;01mif\u001b[39;00m check \u001b[38;5;129;01mand\u001b[39;00m retcode:\n\u001b[0;32m--> 571\u001b[0m         \u001b[38;5;28;01mraise\u001b[39;00m CalledProcessError(retcode, process\u001b[38;5;241m.\u001b[39margs,\n\u001b[1;32m    572\u001b[0m                                  output\u001b[38;5;241m=\u001b[39mstdout, stderr\u001b[38;5;241m=\u001b[39mstderr)\n\u001b[1;32m    573\u001b[0m \u001b[38;5;28;01mreturn\u001b[39;00m CompletedProcess(process\u001b[38;5;241m.\u001b[39margs, retcode, stdout, stderr)\n",
      "\u001b[0;31mCalledProcessError\u001b[0m: Command '['/Users/vwn277/projects/fedtlike/visicut/VisiCut.MacOS', '--laserdevice Epilog Helix', '--execute', 'spam.plf']' returned non-zero exit status 1."
     ]
    }
   ],
   "source": [
    "from fedt_laser import prep_all_for_fab, fabricate\n",
    "\n",
    "CAM_paths = prep_all_for_fab(vars_to_labels, geometry_function, label_function)\n",
    "\n",
    "for CAM_path in CAM_paths:\n",
    "    fabricate(CAM_path)"
   ]
  },
  {
   "cell_type": "markdown",
   "id": "cceb6233",
   "metadata": {},
   "source": [
    "# 5. Post-Processing"
   ]
  },
  {
   "cell_type": "code",
   "execution_count": null,
   "id": "526ab9f4-7cb4-4b04-bf4d-a3fbedf96302",
   "metadata": {},
   "outputs": [],
   "source": [
    "request_postprocess(vars_to_labels)"
   ]
  },
  {
   "cell_type": "markdown",
   "id": "df4d4114-67c7-440b-b8a6-f7a8ef472934",
   "metadata": {},
   "source": [
    "# 6. Create measurement framework / user interaction"
   ]
  },
  {
   "cell_type": "code",
   "execution_count": 5,
   "id": "1470c445-e646-42c8-8b21-3c2f2aab38f8",
   "metadata": {},
   "outputs": [
    {
     "ename": "TypeError",
     "evalue": "create_experiment_csv() takes 3 positional arguments but 4 were given",
     "output_type": "error",
     "traceback": [
      "\u001b[0;31m---------------------------------------------------------------------------\u001b[0m",
      "\u001b[0;31mTypeError\u001b[0m                                 Traceback (most recent call last)",
      "Cell \u001b[0;32mIn[5], line 2\u001b[0m\n\u001b[1;32m      1\u001b[0m \u001b[38;5;28;01mfrom\u001b[39;00m \u001b[38;5;21;01mfedt_measure\u001b[39;00m \u001b[38;5;28;01mimport\u001b[39;00m create_experiment_csv\n\u001b[0;32m----> 2\u001b[0m experiment_csv \u001b[38;5;241m=\u001b[39m \u001b[43mcreate_experiment_csv\u001b[49m\u001b[43m(\u001b[49m\u001b[43mvars_to_labels\u001b[49m\u001b[43m,\u001b[49m\u001b[43m \u001b[49m\u001b[43minteraction_variables\u001b[49m\u001b[43m,\u001b[49m\u001b[43m \u001b[49m\u001b[43mmeasurement_variables\u001b[49m\u001b[43m,\u001b[49m\u001b[43m \u001b[49m\u001b[43mmeasurement_repetitions\u001b[49m\u001b[43m)\u001b[49m\n\u001b[1;32m      4\u001b[0m \u001b[38;5;28mprint\u001b[39m(\u001b[38;5;124m\"\u001b[39m\u001b[38;5;124mnow please fill \u001b[39m\u001b[38;5;124m\"\u001b[39m \u001b[38;5;241m+\u001b[39m experiment_csv \u001b[38;5;241m+\u001b[39m \u001b[38;5;124m\"\u001b[39m\u001b[38;5;124m with data\u001b[39m\u001b[38;5;124m\"\u001b[39m)\n",
      "\u001b[0;31mTypeError\u001b[0m: create_experiment_csv() takes 3 positional arguments but 4 were given"
     ]
    }
   ],
   "source": [
    "print(\"now please fill \" + experiment_csv + \" with data\")"
   ]
  },
  {
   "cell_type": "markdown",
   "id": "e77a238c",
   "metadata": {},
   "source": [
    "# 8. Tea-based hypothesis testing"
   ]
  },
  {
   "cell_type": "code",
   "execution_count": null,
   "id": "4de71f72",
   "metadata": {},
   "outputs": [],
   "source": [
    "from fedt_tea import do_experiment\n",
    "\n",
    "tea_results = do_experiment(measurement_variables,\n",
    "                            tea_hypothesis,\n",
    "                            experiment_csv,\n",
    "                            CAD_variables,\n",
    "                            CAM_variables,\n",
    "                            post_process_variables,\n",
    "                            interaction_variables)"
   ]
  },
  {
   "cell_type": "markdown",
   "id": "35e75c90-48bd-4f1a-86cc-e1d342195516",
   "metadata": {},
   "source": [
    "# 9. Reporting"
   ]
  },
  {
   "cell_type": "code",
   "execution_count": 3,
   "id": "f381b27f-23b7-4d2f-9d45-c4be076bf042",
   "metadata": {},
   "outputs": [
    {
     "ename": "IndexError",
     "evalue": "Replacement index 10 out of range for positional args tuple",
     "output_type": "error",
     "traceback": [
      "\u001b[0;31m---------------------------------------------------------------------------\u001b[0m",
      "\u001b[0;31mIndexError\u001b[0m                                Traceback (most recent call last)",
      "Cell \u001b[0;32mIn[3], line 3\u001b[0m\n\u001b[1;32m      1\u001b[0m \u001b[38;5;28;01mfrom\u001b[39;00m \u001b[38;5;21;01mfedt_report\u001b[39;00m \u001b[38;5;28;01mimport\u001b[39;00m latex\n\u001b[0;32m----> 3\u001b[0m \u001b[43mlatex\u001b[49m\u001b[43m(\u001b[49m\u001b[43mCAD_variables\u001b[49m\u001b[43m,\u001b[49m\n\u001b[1;32m      4\u001b[0m \u001b[43m      \u001b[49m\u001b[43mCAM_variables\u001b[49m\u001b[43m,\u001b[49m\n\u001b[1;32m      5\u001b[0m \u001b[43m      \u001b[49m\u001b[43mfab_repetitions\u001b[49m\u001b[43m,\u001b[49m\n\u001b[1;32m      6\u001b[0m \u001b[43m      \u001b[49m\u001b[43mpost_process_variables\u001b[49m\u001b[43m,\u001b[49m\n\u001b[1;32m      7\u001b[0m \u001b[43m      \u001b[49m\u001b[43mpost_process_repetitions\u001b[49m\u001b[43m,\u001b[49m\n\u001b[1;32m      8\u001b[0m \u001b[43m      \u001b[49m\u001b[43minteraction_variables\u001b[49m\u001b[43m,\u001b[49m\n\u001b[1;32m      9\u001b[0m \u001b[43m      \u001b[49m\u001b[43mmeasurement_variables\u001b[49m\u001b[43m,\u001b[49m\n\u001b[1;32m     10\u001b[0m \u001b[43m      \u001b[49m\u001b[43mmeasurement_repetitions\u001b[49m\u001b[43m,\u001b[49m\n\u001b[1;32m     11\u001b[0m \u001b[43m      \u001b[49m\u001b[43mtea_results\u001b[49m\u001b[38;5;241;43m=\u001b[39;49m\u001b[38;5;124;43m\"\u001b[39;49m\u001b[38;5;124;43mbeef\u001b[39;49m\u001b[38;5;124;43m\"\u001b[39;49m\u001b[43m,\u001b[49m\n\u001b[1;32m     12\u001b[0m \u001b[43m      \u001b[49m\u001b[43mtea_hypothesis\u001b[49m\u001b[38;5;241;43m=\u001b[39;49m\u001b[38;5;124;43m\"\u001b[39;49m\u001b[38;5;124;43mbeer>wine\u001b[39;49m\u001b[38;5;124;43m\"\u001b[39;49m\u001b[43m)\u001b[49m\n",
      "File \u001b[0;32m~/projects/fedtlike/FEDT/fedt_report.py:16\u001b[0m, in \u001b[0;36mlatex\u001b[0;34m(CAD_variables, CAM_variables, fab_repetitions, post_process_variables, post_process_repetitions, interaction_variables, measurement_variables, measurement_repetitions, tea_results, tea_hypothesis)\u001b[0m\n\u001b[1;32m      3\u001b[0m \u001b[38;5;28;01mdef\u001b[39;00m \u001b[38;5;21mlatex\u001b[39m(CAD_variables\u001b[38;5;241m=\u001b[39m[],\n\u001b[1;32m      4\u001b[0m             CAM_variables\u001b[38;5;241m=\u001b[39m[],\n\u001b[1;32m      5\u001b[0m             fab_repetitions\u001b[38;5;241m=\u001b[39m\u001b[38;5;241m1\u001b[39m,\n\u001b[0;32m   (...)\u001b[0m\n\u001b[1;32m     13\u001b[0m     \n\u001b[1;32m     14\u001b[0m     \u001b[38;5;66;03m# uh oh, do we need state variables to track what kind of printing and stuff we called?\u001b[39;00m\n\u001b[0;32m---> 16\u001b[0m     \u001b[38;5;28;01mreturn\u001b[39;00m \u001b[38;5;124;43m'''\u001b[39;49m\u001b[38;5;132;43;01m{}\u001b[39;49;00m\u001b[38;5;124;43m was the outcome of \u001b[39;49m\u001b[38;5;132;43;01m{}\u001b[39;49;00m\u001b[38;5;124;43m and \u001b[39;49m\u001b[38;5;132;43;01m{}\u001b[39;49;00m\u001b[38;5;124;43m and also \u001b[39;49m\u001b[38;5;132;43;01m{}\u001b[39;49;00m\u001b[38;5;124;43m we did \u001b[39;49m\u001b[38;5;132;43;01m{}\u001b[39;49;00m\u001b[38;5;124;43m with our \u001b[39;49m\u001b[38;5;132;43;01m{}\u001b[39;49;00m\u001b[38;5;124;43m and \u001b[39;49m\u001b[38;5;132;43;01m{}\u001b[39;49;00m\u001b[38;5;124;43m \u001b[39;49m\u001b[38;5;132;43;01m{}\u001b[39;49;00m\u001b[38;5;124;43m \u001b[39;49m\u001b[38;5;132;43;01m{}\u001b[39;49;00m\u001b[38;5;124;43m \u001b[39;49m\u001b[38;5;132;43;01m{}\u001b[39;49;00m\u001b[38;5;124;43m \u001b[39;49m\u001b[38;5;132;43;01m{}\u001b[39;49;00m\u001b[38;5;124;43m'''\u001b[39;49m\u001b[38;5;241;43m.\u001b[39;49m\u001b[43mformat\u001b[49m\u001b[43m(\u001b[49m\n\u001b[1;32m     17\u001b[0m \u001b[43m            \u001b[49m\u001b[38;5;28;43mstr\u001b[39;49m\u001b[43m(\u001b[49m\u001b[43mtea_results\u001b[49m\u001b[43m)\u001b[49m\u001b[43m,\u001b[49m\n\u001b[1;32m     18\u001b[0m \u001b[43m            \u001b[49m\u001b[38;5;28;43mstr\u001b[39;49m\u001b[43m(\u001b[49m\u001b[43mtea_hypothesis\u001b[49m\u001b[43m)\u001b[49m\u001b[43m,\u001b[49m\n\u001b[1;32m     19\u001b[0m \u001b[43m            \u001b[49m\u001b[38;5;28;43mstr\u001b[39;49m\u001b[43m(\u001b[49m\u001b[43mCAD_variables\u001b[49m\u001b[43m)\u001b[49m\u001b[43m,\u001b[49m\n\u001b[1;32m     20\u001b[0m \u001b[43m            \u001b[49m\u001b[38;5;28;43mstr\u001b[39;49m\u001b[43m(\u001b[49m\u001b[43mCAM_variables\u001b[49m\u001b[43m)\u001b[49m\u001b[43m,\u001b[49m\n\u001b[1;32m     21\u001b[0m \u001b[43m            \u001b[49m\u001b[38;5;28;43mstr\u001b[39;49m\u001b[43m(\u001b[49m\u001b[43mfab_repetitions\u001b[49m\u001b[43m)\u001b[49m\u001b[43m,\u001b[49m\n\u001b[1;32m     22\u001b[0m \u001b[43m            \u001b[49m\u001b[38;5;28;43mstr\u001b[39;49m\u001b[43m(\u001b[49m\u001b[43mpost_process_variables\u001b[49m\u001b[43m)\u001b[49m\u001b[43m,\u001b[49m\n\u001b[1;32m     23\u001b[0m \u001b[43m            \u001b[49m\u001b[38;5;28;43mstr\u001b[39;49m\u001b[43m(\u001b[49m\u001b[43mpost_process_repetitions\u001b[49m\u001b[43m)\u001b[49m\u001b[43m,\u001b[49m\n\u001b[1;32m     24\u001b[0m \u001b[43m            \u001b[49m\u001b[38;5;28;43mstr\u001b[39;49m\u001b[43m(\u001b[49m\u001b[43minteraction_variables\u001b[49m\u001b[43m)\u001b[49m\u001b[43m,\u001b[49m\n\u001b[1;32m     25\u001b[0m \u001b[43m            \u001b[49m\u001b[38;5;28;43mstr\u001b[39;49m\u001b[43m(\u001b[49m\u001b[43mmeasurement_variables\u001b[49m\u001b[43m)\u001b[49m\u001b[43m,\u001b[49m\n\u001b[1;32m     26\u001b[0m \u001b[43m            \u001b[49m\u001b[38;5;28;43mstr\u001b[39;49m\u001b[43m(\u001b[49m\u001b[43mmeasurement_repetitions\u001b[49m\u001b[43m)\u001b[49m\u001b[43m)\u001b[49m\n",
      "\u001b[0;31mIndexError\u001b[0m: Replacement index 10 out of range for positional args tuple"
     ]
    }
   ],
   "source": [
    "from fedt_report import latex\n",
    "\n",
    "latex(CAD_variables,\n",
    "      CAM_variables,\n",
    "      fab_repetitions,\n",
    "      post_process_variables,\n",
    "      post_process_repetitions,\n",
    "      interaction_variables,\n",
    "      measurement_variables,\n",
    "      measurement_repetitions,\n",
    "      tea_results=\"beef\",\n",
    "      tea_hypothesis=\"beer>wine\")"
   ]
  }
 ],
 "metadata": {
  "kernelspec": {
   "display_name": "Python 3 (ipykernel)",
   "language": "python",
   "name": "python3"
  },
  "language_info": {
   "codemirror_mode": {
    "name": "ipython",
    "version": 3
   },
   "file_extension": ".py",
   "mimetype": "text/x-python",
   "name": "python",
   "nbconvert_exporter": "python",
   "pygments_lexer": "ipython3",
   "version": "3.11.3"
  }
 },
 "nbformat": 4,
 "nbformat_minor": 5
}
