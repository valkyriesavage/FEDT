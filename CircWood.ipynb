{
 "cells": [
  {
   "cell_type": "markdown",
   "id": "6fb81635-0ae7-4357-ab9f-7305cd617d93",
   "metadata": {},
   "source": [
    "[CircWood paper: technical evaluation section](https://dl.acm.org/doi/fullHtml/10.1145/3490149.3501317#sec-18)\n",
    "\n",
    "![experiment 1: materials](img/circwood1.png)\n",
    "\n",
    "![experiment 2: settings](img/circwood2.png)\n",
    "\n",
    "![experiment 3: grain direction](img/circwood3.png)\n",
    "\n",
    "![experiment 4: time](img/circwood4.png)"
   ]
  },
  {
   "cell_type": "markdown",
   "id": "70bd7c4c-16b9-4fc0-9a08-ae7b0b25412f",
   "metadata": {
    "jp-MarkdownHeadingCollapsed": true
   },
   "source": [
    "# Experiment 1a : materials\n",
    "## 1. Specify all parameters to be varied\n"
   ]
  },
  {
   "cell_type": "code",
   "execution_count": 9,
   "id": "cff05206-308c-4ffe-a980-06fb48753c68",
   "metadata": {},
   "outputs": [
    {
     "name": "stdout",
     "output_type": "stream",
     "text": [
      "This experiment will require fabricating 20 unique objects.\n",
      "20 total measurements will be recorded.\n"
     ]
    },
    {
     "data": {
      "text/plain": [
       "('circwood1a.csv', 'circwood1a_key.csv')"
      ]
     },
     "execution_count": 9,
     "metadata": {},
     "output_type": "execute_result"
    }
   ],
   "source": [
    "from fedt import *\n",
    "import fedt_2D_geom\n",
    "import numpy as np\n",
    "\n",
    "experiment = FEDTExperiment()\n",
    "experiment.configure_for_drawsvg()\n",
    "experiment.configure_for_lasercutting()\n",
    "\n",
    "experiment.CAM_variables = [{\n",
    "        NAME : 'material',\n",
    "        DATA_TYPE : 'categorical',\n",
    "        TEST_VALUES : [\"lauan solid wood\", \"lauan plywood\", \"Japanese cypress\",\n",
    "                         \"paulownia\", \"Magnolia obovata\", \"Japanese cedar\", \"basswood\",\n",
    "                         \"beech\", \"oak\", \"walnut\"],\n",
    "        ARGNAME : 'material'\n",
    "    },\n",
    "    {\n",
    "        NAME : 'treatment',\n",
    "        DATA_TYPE : 'categorical',\n",
    "        TEST_VALUES : [\"none\", \"fire retardant\"],\n",
    "        ARGNAME : 'material'\n",
    "    }]\n",
    "experiment.fab_repetitions = 1\n",
    "\n",
    "experiment.measurement_variables = [{\n",
    "        NAME : 'conductivity',\n",
    "        DATA_TYPE : 'ratio'\n",
    "    }\n",
    "]\n",
    "experiment.measurement_repetitions = 1\n",
    "\n",
    "###########\n",
    "\n",
    "experiment.experiment_size()\n",
    "\n",
    "experiment.create_experiment_csv(experiment_csv=\"circwood1a.csv\")"
   ]
  },
  {
   "cell_type": "markdown",
   "id": "313fabb6",
   "metadata": {},
   "source": [
    "## 2. CAM"
   ]
  },
  {
   "cell_type": "code",
   "execution_count": 2,
   "id": "b69a74fb",
   "metadata": {},
   "outputs": [
    {
     "name": "stdout",
     "output_type": "stream",
     "text": [
      "please open Visicut and Options > Import Settings > fedt_generated.vcsettings\n"
     ]
    }
   ],
   "source": [
    "experiment.prep_cam()"
   ]
  },
  {
   "cell_type": "markdown",
   "id": "30d1417e",
   "metadata": {},
   "source": [
    "## 3. CAD"
   ]
  },
  {
   "cell_type": "code",
   "execution_count": 3,
   "id": "18959d5c",
   "metadata": {},
   "outputs": [],
   "source": [
    "# nothing to do\n",
    "experiment.geometry_function = fedt_2D_geom.drawcircle"
   ]
  },
  {
   "cell_type": "markdown",
   "id": "9ae8ed63",
   "metadata": {},
   "source": [
    "## 4. Fabrication\n"
   ]
  },
  {
   "cell_type": "code",
   "execution_count": 4,
   "id": "cc047332",
   "metadata": {},
   "outputs": [
    {
     "name": "stderr",
     "output_type": "stream",
     "text": [
      "openjdk version \"17.0.6\" 2023-01-17\n",
      "OpenJDK Runtime Environment Temurin-17.0.6+10 (build 17.0.6+10)\n",
      "OpenJDK 64-Bit Server VM Temurin-17.0.6+10 (build 17.0.6+10, mixed mode)\n",
      "Unknown command line option: --laserdevice Epilog Helix\n",
      "Use -h or --help for help\n"
     ]
    },
    {
     "ename": "CalledProcessError",
     "evalue": "Command '['/Users/vwn277/projects/fedtlike/visicut/VisiCut.MacOS', '--laserdevice Epilog Helix', '--execute', 'spam.plf']' returned non-zero exit status 1.",
     "output_type": "error",
     "traceback": [
      "\u001b[0;31m---------------------------------------------------------------------------\u001b[0m",
      "\u001b[0;31mCalledProcessError\u001b[0m                        Traceback (most recent call last)",
      "Cell \u001b[0;32mIn[4], line 1\u001b[0m\n\u001b[0;32m----> 1\u001b[0m \u001b[43mexperiment\u001b[49m\u001b[38;5;241;43m.\u001b[39;49m\u001b[43mfabricate\u001b[49m\u001b[43m(\u001b[49m\u001b[43m)\u001b[49m\n",
      "File \u001b[0;32m~/projects/fedtlike/FEDT/fedt.py:205\u001b[0m, in \u001b[0;36mFEDTExperiment.fabricate\u001b[0;34m(self)\u001b[0m\n\u001b[1;32m    203\u001b[0m \u001b[38;5;28mself\u001b[39m\u001b[38;5;241m.\u001b[39mCAM_paths \u001b[38;5;241m=\u001b[39m CAM_paths\n\u001b[1;32m    204\u001b[0m \u001b[38;5;28;01mfor\u001b[39;00m path \u001b[38;5;129;01min\u001b[39;00m CAM_paths:\n\u001b[0;32m--> 205\u001b[0m     \u001b[38;5;28;43mself\u001b[39;49m\u001b[38;5;241;43m.\u001b[39;49m\u001b[43mfabricate_executor\u001b[49m\u001b[38;5;241;43m.\u001b[39;49m\u001b[43mfabricate\u001b[49m\u001b[43m(\u001b[49m\u001b[43mpath\u001b[49m\u001b[43m)\u001b[49m\n",
      "File \u001b[0;32m~/projects/fedtlike/FEDT/fedt_laser.py:117\u001b[0m, in \u001b[0;36mFEDTLaser.fabricate\u001b[0;34m(self, cut_file, mapping_file)\u001b[0m\n\u001b[1;32m    112\u001b[0m os\u001b[38;5;241m.\u001b[39mrename(temp_zf, temp_plf)\n\u001b[1;32m    113\u001b[0m cut_command \u001b[38;5;241m=\u001b[39m [VISICUT_LOCATION,\n\u001b[1;32m    114\u001b[0m             \u001b[38;5;124m'\u001b[39m\u001b[38;5;124m--laserdevice \u001b[39m\u001b[38;5;124m'\u001b[39m \u001b[38;5;241m+\u001b[39m \u001b[38;5;28mself\u001b[39m\u001b[38;5;241m.\u001b[39mlaserdevice,\n\u001b[1;32m    115\u001b[0m             \u001b[38;5;124m'\u001b[39m\u001b[38;5;124m--execute\u001b[39m\u001b[38;5;124m'\u001b[39m,\n\u001b[1;32m    116\u001b[0m             temp_plf]\n\u001b[0;32m--> 117\u001b[0m results \u001b[38;5;241m=\u001b[39m \u001b[43msubprocess\u001b[49m\u001b[38;5;241;43m.\u001b[39;49m\u001b[43mcheck_output\u001b[49m\u001b[43m(\u001b[49m\u001b[43mcut_command\u001b[49m\u001b[43m)\u001b[49m\n\u001b[1;32m    118\u001b[0m os\u001b[38;5;241m.\u001b[39mremove(temp_plf)\n\u001b[1;32m    119\u001b[0m \u001b[38;5;28;01mreturn\u001b[39;00m results\n",
      "File \u001b[0;32m~/miniforge3/envs/jupyfab/lib/python3.11/subprocess.py:466\u001b[0m, in \u001b[0;36mcheck_output\u001b[0;34m(timeout, *popenargs, **kwargs)\u001b[0m\n\u001b[1;32m    463\u001b[0m         empty \u001b[38;5;241m=\u001b[39m \u001b[38;5;124mb\u001b[39m\u001b[38;5;124m'\u001b[39m\u001b[38;5;124m'\u001b[39m\n\u001b[1;32m    464\u001b[0m     kwargs[\u001b[38;5;124m'\u001b[39m\u001b[38;5;124minput\u001b[39m\u001b[38;5;124m'\u001b[39m] \u001b[38;5;241m=\u001b[39m empty\n\u001b[0;32m--> 466\u001b[0m \u001b[38;5;28;01mreturn\u001b[39;00m \u001b[43mrun\u001b[49m\u001b[43m(\u001b[49m\u001b[38;5;241;43m*\u001b[39;49m\u001b[43mpopenargs\u001b[49m\u001b[43m,\u001b[49m\u001b[43m \u001b[49m\u001b[43mstdout\u001b[49m\u001b[38;5;241;43m=\u001b[39;49m\u001b[43mPIPE\u001b[49m\u001b[43m,\u001b[49m\u001b[43m \u001b[49m\u001b[43mtimeout\u001b[49m\u001b[38;5;241;43m=\u001b[39;49m\u001b[43mtimeout\u001b[49m\u001b[43m,\u001b[49m\u001b[43m \u001b[49m\u001b[43mcheck\u001b[49m\u001b[38;5;241;43m=\u001b[39;49m\u001b[38;5;28;43;01mTrue\u001b[39;49;00m\u001b[43m,\u001b[49m\n\u001b[1;32m    467\u001b[0m \u001b[43m           \u001b[49m\u001b[38;5;241;43m*\u001b[39;49m\u001b[38;5;241;43m*\u001b[39;49m\u001b[43mkwargs\u001b[49m\u001b[43m)\u001b[49m\u001b[38;5;241m.\u001b[39mstdout\n",
      "File \u001b[0;32m~/miniforge3/envs/jupyfab/lib/python3.11/subprocess.py:571\u001b[0m, in \u001b[0;36mrun\u001b[0;34m(input, capture_output, timeout, check, *popenargs, **kwargs)\u001b[0m\n\u001b[1;32m    569\u001b[0m     retcode \u001b[38;5;241m=\u001b[39m process\u001b[38;5;241m.\u001b[39mpoll()\n\u001b[1;32m    570\u001b[0m     \u001b[38;5;28;01mif\u001b[39;00m check \u001b[38;5;129;01mand\u001b[39;00m retcode:\n\u001b[0;32m--> 571\u001b[0m         \u001b[38;5;28;01mraise\u001b[39;00m CalledProcessError(retcode, process\u001b[38;5;241m.\u001b[39margs,\n\u001b[1;32m    572\u001b[0m                                  output\u001b[38;5;241m=\u001b[39mstdout, stderr\u001b[38;5;241m=\u001b[39mstderr)\n\u001b[1;32m    573\u001b[0m \u001b[38;5;28;01mreturn\u001b[39;00m CompletedProcess(process\u001b[38;5;241m.\u001b[39margs, retcode, stdout, stderr)\n",
      "\u001b[0;31mCalledProcessError\u001b[0m: Command '['/Users/vwn277/projects/fedtlike/visicut/VisiCut.MacOS', '--laserdevice Epilog Helix', '--execute', 'spam.plf']' returned non-zero exit status 1."
     ]
    }
   ],
   "source": [
    "experiment.fabricate()"
   ]
  },
  {
   "cell_type": "markdown",
   "id": "cceb6233",
   "metadata": {},
   "source": [
    "## 5. Post-Processing"
   ]
  },
  {
   "cell_type": "code",
   "execution_count": null,
   "id": "526ab9f4-7cb4-4b04-bf4d-a3fbedf96302",
   "metadata": {},
   "outputs": [],
   "source": [
    "experiment.post_process()"
   ]
  },
  {
   "cell_type": "markdown",
   "id": "df4d4114-67c7-440b-b8a6-f7a8ef472934",
   "metadata": {},
   "source": [
    "## 6. Create measurement framework / user interaction"
   ]
  },
  {
   "cell_type": "code",
   "execution_count": null,
   "id": "1470c445-e646-42c8-8b21-3c2f2aab38f8",
   "metadata": {},
   "outputs": [],
   "source": [
    "experiment.interact()\n",
    "\n",
    "experiment.measure()"
   ]
  },
  {
   "cell_type": "markdown",
   "id": "e77a238c",
   "metadata": {},
   "source": [
    "## 8. Tea-based hypothesis testing"
   ]
  },
  {
   "cell_type": "code",
   "execution_count": null,
   "id": "4de71f72",
   "metadata": {},
   "outputs": [],
   "source": [
    "#from fedt_tea import do_experiment\n",
    "\n",
    "# tea_results = do_experiment(measurement_variables,\n",
    "#                             tea_hypothesis,\n",
    "#                             experiment_csv,\n",
    "#                             CAD_variables,\n",
    "#                             CAM_variables,\n",
    "#                             post_process_variables,\n",
    "#                             interaction_variables)"
   ]
  },
  {
   "cell_type": "markdown",
   "id": "35e75c90-48bd-4f1a-86cc-e1d342195516",
   "metadata": {},
   "source": [
    "## 9. Reporting"
   ]
  },
  {
   "cell_type": "code",
   "execution_count": 5,
   "id": "f381b27f-23b7-4d2f-9d45-c4be076bf042",
   "metadata": {},
   "outputs": [
    {
     "name": "stdout",
     "output_type": "stream",
     "text": [
      "We used drawsvg to create our geometries. \n",
      "        We used a Epilog Helix with bed size {'width': 609.6, 'height': 457.2} and Visicut. Our default settings were cut power:100, speed:100, frequency:5000, material:Acrylic, thickness:3.0mm. We generated different CAM settings:material (values ['lauan solid wood', 'lauan plywood', 'Japanese cypress', 'paulownia', 'Magnolia obovata', 'Japanese cedar', 'basswood', 'beech', 'oak', 'walnut'])treatment (values ['none', 'fire retardant']).\n",
      "        We fabricated objects of each configuration 1 times. We used a Epilog Helix with bed size {'width': 609.6, 'height': 457.2} and Visicut. Our default settings were cut power:100, speed:100, frequency:5000, material:Acrylic, thickness:3.0mm.\n",
      "        In all, we fabricated 20 objects.\n",
      "        \n",
      "        \n",
      "         We recorded  conductivity. 1 times for each object (20 total measurements).\n",
      "conductivity ranged from 21--216897612 UNIT (mean 21704650.1 UNIT, std 66753500.58241343 UNIT) across all samples. ...\n",
      "\n"
     ]
    }
   ],
   "source": [
    "print(experiment.report_latex())"
   ]
  },
  {
   "cell_type": "markdown",
   "id": "9cfd7182-1ff9-4aec-b867-091ab2bf394f",
   "metadata": {
    "jp-MarkdownHeadingCollapsed": true
   },
   "source": [
    "# Experiment 1b : speed and power\n",
    "## 1. Specify all parameters to be varied\n"
   ]
  },
  {
   "cell_type": "code",
   "execution_count": 11,
   "id": "22ff32f4-1e1a-4dc4-880a-47bcbf5b3911",
   "metadata": {},
   "outputs": [
    {
     "name": "stdout",
     "output_type": "stream",
     "text": [
      "This experiment will require fabricating 63 unique objects.\n",
      "63 total measurements will be recorded.\n"
     ]
    },
    {
     "data": {
      "text/plain": [
       "('circwood1b.csv', 'circwood1b_key.csv')"
      ]
     },
     "execution_count": 11,
     "metadata": {},
     "output_type": "execute_result"
    }
   ],
   "source": [
    "experiment = FEDTExperiment()\n",
    "experiment.configure_for_drawsvg()\n",
    "experiment.configure_for_lasercutting()\n",
    "\n",
    "experiment.CAM_variables = [{\n",
    "        NAME : 'speed',\n",
    "        DATA_TYPE : 'ratio',\n",
    "        TEST_VALUES : list(np.arange(20,81,10)),\n",
    "        ARGNAME : 'speed'\n",
    "    },\n",
    "    {\n",
    "        NAME : 'power',\n",
    "        DATA_TYPE : 'ratio',\n",
    "        TEST_VALUES : list(np.arange(10,51,5)),\n",
    "        ARGNAME : 'power'\n",
    "    }]\n",
    "\n",
    "experiment.measurement_variables = [{\n",
    "        NAME : 'conductivity',\n",
    "        DATA_TYPE : 'ratio'\n",
    "    }\n",
    "]\n",
    "experiment.measurement_repetitions = 1\n",
    "\n",
    "###########\n",
    "\n",
    "experiment.experiment_size()\n",
    "\n",
    "experiment.create_experiment_csv(experiment_csv=\"circwood1b.csv\")"
   ]
  },
  {
   "cell_type": "markdown",
   "id": "db8c2286-8b57-4b08-a896-00e08ce3ff12",
   "metadata": {},
   "source": [
    "## 2. CAM"
   ]
  },
  {
   "cell_type": "code",
   "execution_count": 2,
   "id": "48fa2ac3-9f63-4bf4-8d75-abdb2ba0dd79",
   "metadata": {},
   "outputs": [
    {
     "name": "stdout",
     "output_type": "stream",
     "text": [
      "please open Visicut and Options > Import Settings > fedt_generated.vcsettings\n"
     ]
    }
   ],
   "source": [
    "experiment.prep_cam()"
   ]
  },
  {
   "cell_type": "markdown",
   "id": "9443a0f2-a972-4a9a-b924-a1576ce43ce2",
   "metadata": {},
   "source": [
    "## 3. CAD"
   ]
  },
  {
   "cell_type": "code",
   "execution_count": 3,
   "id": "a133bb53-1576-43b2-85ba-4e2e7ba8aae5",
   "metadata": {},
   "outputs": [],
   "source": [
    "# nothing to do\n",
    "experiment.geometry_function = fedt_2D_geom.drawcircle"
   ]
  },
  {
   "cell_type": "markdown",
   "id": "519ee6c2-8605-46f4-b722-37ebb2c896ef",
   "metadata": {},
   "source": [
    "## 4. Fabrication\n"
   ]
  },
  {
   "cell_type": "code",
   "execution_count": 4,
   "id": "27629616-2346-4ef6-9836-2b0ebc3f167b",
   "metadata": {},
   "outputs": [
    {
     "name": "stderr",
     "output_type": "stream",
     "text": [
      "openjdk version \"17.0.6\" 2023-01-17\n",
      "OpenJDK Runtime Environment Temurin-17.0.6+10 (build 17.0.6+10)\n",
      "OpenJDK 64-Bit Server VM Temurin-17.0.6+10 (build 17.0.6+10, mixed mode)\n",
      "Unknown command line option: --laserdevice Epilog Helix\n",
      "Use -h or --help for help\n"
     ]
    },
    {
     "ename": "CalledProcessError",
     "evalue": "Command '['/Users/vwn277/projects/fedtlike/visicut/VisiCut.MacOS', '--laserdevice Epilog Helix', '--execute', 'spam.plf']' returned non-zero exit status 1.",
     "output_type": "error",
     "traceback": [
      "\u001b[0;31m---------------------------------------------------------------------------\u001b[0m",
      "\u001b[0;31mCalledProcessError\u001b[0m                        Traceback (most recent call last)",
      "Cell \u001b[0;32mIn[4], line 1\u001b[0m\n\u001b[0;32m----> 1\u001b[0m \u001b[43mexperiment\u001b[49m\u001b[38;5;241;43m.\u001b[39;49m\u001b[43mfabricate\u001b[49m\u001b[43m(\u001b[49m\u001b[43m)\u001b[49m\n",
      "File \u001b[0;32m~/projects/fedtlike/FEDT/fedt.py:205\u001b[0m, in \u001b[0;36mFEDTExperiment.fabricate\u001b[0;34m(self)\u001b[0m\n\u001b[1;32m    203\u001b[0m \u001b[38;5;28mself\u001b[39m\u001b[38;5;241m.\u001b[39mCAM_paths \u001b[38;5;241m=\u001b[39m CAM_paths\n\u001b[1;32m    204\u001b[0m \u001b[38;5;28;01mfor\u001b[39;00m path \u001b[38;5;129;01min\u001b[39;00m CAM_paths:\n\u001b[0;32m--> 205\u001b[0m     \u001b[38;5;28;43mself\u001b[39;49m\u001b[38;5;241;43m.\u001b[39;49m\u001b[43mfabricate_executor\u001b[49m\u001b[38;5;241;43m.\u001b[39;49m\u001b[43mfabricate\u001b[49m\u001b[43m(\u001b[49m\u001b[43mpath\u001b[49m\u001b[43m)\u001b[49m\n",
      "File \u001b[0;32m~/projects/fedtlike/FEDT/fedt_laser.py:117\u001b[0m, in \u001b[0;36mFEDTLaser.fabricate\u001b[0;34m(self, cut_file, mapping_file)\u001b[0m\n\u001b[1;32m    112\u001b[0m os\u001b[38;5;241m.\u001b[39mrename(temp_zf, temp_plf)\n\u001b[1;32m    113\u001b[0m cut_command \u001b[38;5;241m=\u001b[39m [VISICUT_LOCATION,\n\u001b[1;32m    114\u001b[0m             \u001b[38;5;124m'\u001b[39m\u001b[38;5;124m--laserdevice \u001b[39m\u001b[38;5;124m'\u001b[39m \u001b[38;5;241m+\u001b[39m \u001b[38;5;28mself\u001b[39m\u001b[38;5;241m.\u001b[39mlaserdevice,\n\u001b[1;32m    115\u001b[0m             \u001b[38;5;124m'\u001b[39m\u001b[38;5;124m--execute\u001b[39m\u001b[38;5;124m'\u001b[39m,\n\u001b[1;32m    116\u001b[0m             temp_plf]\n\u001b[0;32m--> 117\u001b[0m results \u001b[38;5;241m=\u001b[39m \u001b[43msubprocess\u001b[49m\u001b[38;5;241;43m.\u001b[39;49m\u001b[43mcheck_output\u001b[49m\u001b[43m(\u001b[49m\u001b[43mcut_command\u001b[49m\u001b[43m)\u001b[49m\n\u001b[1;32m    118\u001b[0m os\u001b[38;5;241m.\u001b[39mremove(temp_plf)\n\u001b[1;32m    119\u001b[0m \u001b[38;5;28;01mreturn\u001b[39;00m results\n",
      "File \u001b[0;32m~/miniforge3/envs/jupyfab/lib/python3.11/subprocess.py:466\u001b[0m, in \u001b[0;36mcheck_output\u001b[0;34m(timeout, *popenargs, **kwargs)\u001b[0m\n\u001b[1;32m    463\u001b[0m         empty \u001b[38;5;241m=\u001b[39m \u001b[38;5;124mb\u001b[39m\u001b[38;5;124m'\u001b[39m\u001b[38;5;124m'\u001b[39m\n\u001b[1;32m    464\u001b[0m     kwargs[\u001b[38;5;124m'\u001b[39m\u001b[38;5;124minput\u001b[39m\u001b[38;5;124m'\u001b[39m] \u001b[38;5;241m=\u001b[39m empty\n\u001b[0;32m--> 466\u001b[0m \u001b[38;5;28;01mreturn\u001b[39;00m \u001b[43mrun\u001b[49m\u001b[43m(\u001b[49m\u001b[38;5;241;43m*\u001b[39;49m\u001b[43mpopenargs\u001b[49m\u001b[43m,\u001b[49m\u001b[43m \u001b[49m\u001b[43mstdout\u001b[49m\u001b[38;5;241;43m=\u001b[39;49m\u001b[43mPIPE\u001b[49m\u001b[43m,\u001b[49m\u001b[43m \u001b[49m\u001b[43mtimeout\u001b[49m\u001b[38;5;241;43m=\u001b[39;49m\u001b[43mtimeout\u001b[49m\u001b[43m,\u001b[49m\u001b[43m \u001b[49m\u001b[43mcheck\u001b[49m\u001b[38;5;241;43m=\u001b[39;49m\u001b[38;5;28;43;01mTrue\u001b[39;49;00m\u001b[43m,\u001b[49m\n\u001b[1;32m    467\u001b[0m \u001b[43m           \u001b[49m\u001b[38;5;241;43m*\u001b[39;49m\u001b[38;5;241;43m*\u001b[39;49m\u001b[43mkwargs\u001b[49m\u001b[43m)\u001b[49m\u001b[38;5;241m.\u001b[39mstdout\n",
      "File \u001b[0;32m~/miniforge3/envs/jupyfab/lib/python3.11/subprocess.py:571\u001b[0m, in \u001b[0;36mrun\u001b[0;34m(input, capture_output, timeout, check, *popenargs, **kwargs)\u001b[0m\n\u001b[1;32m    569\u001b[0m     retcode \u001b[38;5;241m=\u001b[39m process\u001b[38;5;241m.\u001b[39mpoll()\n\u001b[1;32m    570\u001b[0m     \u001b[38;5;28;01mif\u001b[39;00m check \u001b[38;5;129;01mand\u001b[39;00m retcode:\n\u001b[0;32m--> 571\u001b[0m         \u001b[38;5;28;01mraise\u001b[39;00m CalledProcessError(retcode, process\u001b[38;5;241m.\u001b[39margs,\n\u001b[1;32m    572\u001b[0m                                  output\u001b[38;5;241m=\u001b[39mstdout, stderr\u001b[38;5;241m=\u001b[39mstderr)\n\u001b[1;32m    573\u001b[0m \u001b[38;5;28;01mreturn\u001b[39;00m CompletedProcess(process\u001b[38;5;241m.\u001b[39margs, retcode, stdout, stderr)\n",
      "\u001b[0;31mCalledProcessError\u001b[0m: Command '['/Users/vwn277/projects/fedtlike/visicut/VisiCut.MacOS', '--laserdevice Epilog Helix', '--execute', 'spam.plf']' returned non-zero exit status 1."
     ]
    }
   ],
   "source": [
    "experiment.fabricate()"
   ]
  },
  {
   "cell_type": "markdown",
   "id": "f72ef661-df74-45ab-8b84-22cb88c0d612",
   "metadata": {},
   "source": [
    "## 5. Post-Processing"
   ]
  },
  {
   "cell_type": "code",
   "execution_count": null,
   "id": "b1ab95a1-2016-4461-b4d2-6c050bdff75b",
   "metadata": {},
   "outputs": [],
   "source": [
    "experiment.post_process()"
   ]
  },
  {
   "cell_type": "markdown",
   "id": "3a35aceb-e93a-4d6a-902a-19704fced32a",
   "metadata": {},
   "source": [
    "## 6. Create measurement framework / user interaction"
   ]
  },
  {
   "cell_type": "code",
   "execution_count": null,
   "id": "93c5a949-0b63-4a7c-b22c-5e88fb7f5ee7",
   "metadata": {},
   "outputs": [],
   "source": [
    "experiment.interact()\n",
    "\n",
    "experiment.measure()"
   ]
  },
  {
   "cell_type": "markdown",
   "id": "0bab0ec6-74de-4e5e-80ee-38dd8fd58164",
   "metadata": {},
   "source": [
    "## 8. Tea-based hypothesis testing"
   ]
  },
  {
   "cell_type": "code",
   "execution_count": null,
   "id": "a2c85a21-543a-4b21-a179-2f032394bfd4",
   "metadata": {},
   "outputs": [],
   "source": [
    "#from fedt_tea import do_experiment\n",
    "\n",
    "# tea_results = do_experiment(measurement_variables,\n",
    "#                             tea_hypothesis,\n",
    "#                             experiment_csv,\n",
    "#                             CAD_variables,\n",
    "#                             CAM_variables,\n",
    "#                             post_process_variables,\n",
    "#                             interaction_variables)"
   ]
  },
  {
   "cell_type": "markdown",
   "id": "1f3d41d4-4af6-4cf2-9cc8-4035f107789c",
   "metadata": {},
   "source": [
    "## 9. Reporting"
   ]
  },
  {
   "cell_type": "code",
   "execution_count": 5,
   "id": "c0b2be75-0363-4f49-9e7a-18c3ba24ddf6",
   "metadata": {},
   "outputs": [
    {
     "name": "stdout",
     "output_type": "stream",
     "text": [
      "We used drawsvg to create our geometries. \n",
      "        We used a Epilog Helix with bed size {'width': 609.6, 'height': 457.2} and Visicut. Our default settings were cut power:100, speed:100, frequency:5000, material:Acrylic, thickness:3.0mm. We generated different CAM settings:material (values ['lauan solid wood', 'lauan plywood', 'Japanese cypress', 'paulownia', 'Magnolia obovata', 'Japanese cedar', 'basswood', 'beech', 'oak', 'walnut'])treatment (values ['none', 'fire retardant']).\n",
      "        We fabricated objects of each configuration 1 times. We used a Epilog Helix with bed size {'width': 609.6, 'height': 457.2} and Visicut. Our default settings were cut power:100, speed:100, frequency:5000, material:Acrylic, thickness:3.0mm.\n",
      "        In all, we fabricated 20 objects.\n",
      "        \n",
      "        \n",
      "         We recorded  conductivity. 1 times for each object (20 total measurements).\n",
      "conductivity ranged from 21--216897612 UNIT (mean 21704650.1 UNIT, std 66753500.58241343 UNIT) across all samples. ...\n",
      "\n"
     ]
    }
   ],
   "source": [
    "print(experiment.report_latex())"
   ]
  },
  {
   "cell_type": "markdown",
   "id": "bb19844c-13c2-4405-8122-1e43db9b537d",
   "metadata": {
    "jp-MarkdownHeadingCollapsed": true
   },
   "source": [
    "# Experiment 1c : number of laser scans\n",
    "## 1. Specify all parameters to be varied\n"
   ]
  },
  {
   "cell_type": "code",
   "execution_count": 7,
   "id": "0ec0147c-e027-4c4c-94c3-94ce75c4300e",
   "metadata": {},
   "outputs": [
    {
     "name": "stdout",
     "output_type": "stream",
     "text": [
      "The history saving thread hit an unexpected error (OperationalError('attempt to write a readonly database')).History will not be written to the database.\n"
     ]
    },
    {
     "ename": "NameError",
     "evalue": "name 'np' is not defined",
     "output_type": "error",
     "traceback": [
      "\u001b[0;31m---------------------------------------------------------------------------\u001b[0m",
      "\u001b[0;31mNameError\u001b[0m                                 Traceback (most recent call last)",
      "Cell \u001b[0;32mIn[7], line 8\u001b[0m\n\u001b[1;32m      2\u001b[0m experiment\u001b[38;5;241m.\u001b[39mconfigure_for_drawsvg()\n\u001b[1;32m      3\u001b[0m experiment\u001b[38;5;241m.\u001b[39mconfigure_for_lasercutting()\n\u001b[1;32m      5\u001b[0m experiment\u001b[38;5;241m.\u001b[39mCAD_variables \u001b[38;5;241m=\u001b[39m [{\n\u001b[1;32m      6\u001b[0m         NAME : \u001b[38;5;124m'\u001b[39m\u001b[38;5;124mnumber of overlaid lines\u001b[39m\u001b[38;5;124m'\u001b[39m,\n\u001b[1;32m      7\u001b[0m         DATA_TYPE : \u001b[38;5;124m'\u001b[39m\u001b[38;5;124mratio\u001b[39m\u001b[38;5;124m'\u001b[39m,\n\u001b[0;32m----> 8\u001b[0m         TEST_VALUES : \u001b[43mnp\u001b[49m\u001b[38;5;241m.\u001b[39marange(\u001b[38;5;241m1\u001b[39m,\u001b[38;5;241m16\u001b[39m,\u001b[38;5;241m1\u001b[39m),\n\u001b[1;32m      9\u001b[0m         ARGNAME : \u001b[38;5;124m'\u001b[39m\u001b[38;5;124mduplicates\u001b[39m\u001b[38;5;124m'\u001b[39m\n\u001b[1;32m     10\u001b[0m     }]\n\u001b[1;32m     12\u001b[0m experiment\u001b[38;5;241m.\u001b[39mmeasurement_variables \u001b[38;5;241m=\u001b[39m [{\n\u001b[1;32m     13\u001b[0m         NAME : \u001b[38;5;124m'\u001b[39m\u001b[38;5;124mconductivity\u001b[39m\u001b[38;5;124m'\u001b[39m,\n\u001b[1;32m     14\u001b[0m         DATA_TYPE : \u001b[38;5;124m'\u001b[39m\u001b[38;5;124mratio\u001b[39m\u001b[38;5;124m'\u001b[39m\n\u001b[1;32m     15\u001b[0m     }\n\u001b[1;32m     16\u001b[0m ]\n\u001b[1;32m     17\u001b[0m experiment\u001b[38;5;241m.\u001b[39mmeasurement_repetitions \u001b[38;5;241m=\u001b[39m \u001b[38;5;241m1\u001b[39m\n",
      "\u001b[0;31mNameError\u001b[0m: name 'np' is not defined"
     ]
    }
   ],
   "source": [
    "experiment = FEDTExperiment()\n",
    "experiment.configure_for_drawsvg()\n",
    "experiment.configure_for_lasercutting()\n",
    "\n",
    "experiment.CAD_variables = [{\n",
    "        NAME : 'number of overlaid lines',\n",
    "        DATA_TYPE : 'ratio',\n",
    "        TEST_VALUES : list(np.arange(1,16,1)),\n",
    "        ARGNAME : 'duplicates'\n",
    "    }]\n",
    "\n",
    "experiment.measurement_variables = [{\n",
    "        NAME : 'conductivity',\n",
    "        DATA_TYPE : 'ratio'\n",
    "    }\n",
    "]\n",
    "experiment.measurement_repetitions = 1\n",
    "\n",
    "###########\n",
    "\n",
    "experiment.experiment_size()\n",
    "\n",
    "experiment.create_experiment_csv(experiment_csv=\"circwood1c.csv\")"
   ]
  },
  {
   "cell_type": "markdown",
   "id": "ed1d4960-a76f-4b86-b503-2a915caab0e0",
   "metadata": {},
   "source": [
    "## 2. CAM"
   ]
  },
  {
   "cell_type": "code",
   "execution_count": 2,
   "id": "f15c676e-7a9d-403e-bd60-9652132fc467",
   "metadata": {},
   "outputs": [
    {
     "name": "stdout",
     "output_type": "stream",
     "text": [
      "please open Visicut and Options > Import Settings > fedt_generated.vcsettings\n"
     ]
    }
   ],
   "source": [
    "experiment.prep_cam()"
   ]
  },
  {
   "cell_type": "markdown",
   "id": "7d0fccc3-afdf-4b64-828c-5f9cb6b7aa96",
   "metadata": {},
   "source": [
    "## 3. CAD"
   ]
  },
  {
   "cell_type": "code",
   "execution_count": 12,
   "id": "e18499b9-7f60-4b74-a768-462ff8b363d2",
   "metadata": {},
   "outputs": [],
   "source": [
    "def drawnumcircles(draw, d, duplicates=1):\n",
    "    for i in range(duplicates):\n",
    "        d.append(draw.Circle(-40, -10, 30,\n",
    "                fill='none', stroke_width=1, stroke='red'))\n",
    "\n",
    "experiment.geometry_function = drawnumcircles"
   ]
  },
  {
   "cell_type": "markdown",
   "id": "1131b4d8-836e-4144-832b-daa147b1cd38",
   "metadata": {},
   "source": [
    "## 4. Fabrication\n"
   ]
  },
  {
   "cell_type": "code",
   "execution_count": 4,
   "id": "a31a23f0-ca5a-40e5-95e6-f818cad15443",
   "metadata": {},
   "outputs": [
    {
     "name": "stderr",
     "output_type": "stream",
     "text": [
      "openjdk version \"17.0.6\" 2023-01-17\n",
      "OpenJDK Runtime Environment Temurin-17.0.6+10 (build 17.0.6+10)\n",
      "OpenJDK 64-Bit Server VM Temurin-17.0.6+10 (build 17.0.6+10, mixed mode)\n",
      "Unknown command line option: --laserdevice Epilog Helix\n",
      "Use -h or --help for help\n"
     ]
    },
    {
     "ename": "CalledProcessError",
     "evalue": "Command '['/Users/vwn277/projects/fedtlike/visicut/VisiCut.MacOS', '--laserdevice Epilog Helix', '--execute', 'spam.plf']' returned non-zero exit status 1.",
     "output_type": "error",
     "traceback": [
      "\u001b[0;31m---------------------------------------------------------------------------\u001b[0m",
      "\u001b[0;31mCalledProcessError\u001b[0m                        Traceback (most recent call last)",
      "Cell \u001b[0;32mIn[4], line 1\u001b[0m\n\u001b[0;32m----> 1\u001b[0m \u001b[43mexperiment\u001b[49m\u001b[38;5;241;43m.\u001b[39;49m\u001b[43mfabricate\u001b[49m\u001b[43m(\u001b[49m\u001b[43m)\u001b[49m\n",
      "File \u001b[0;32m~/projects/fedtlike/FEDT/fedt.py:205\u001b[0m, in \u001b[0;36mFEDTExperiment.fabricate\u001b[0;34m(self)\u001b[0m\n\u001b[1;32m    203\u001b[0m \u001b[38;5;28mself\u001b[39m\u001b[38;5;241m.\u001b[39mCAM_paths \u001b[38;5;241m=\u001b[39m CAM_paths\n\u001b[1;32m    204\u001b[0m \u001b[38;5;28;01mfor\u001b[39;00m path \u001b[38;5;129;01min\u001b[39;00m CAM_paths:\n\u001b[0;32m--> 205\u001b[0m     \u001b[38;5;28;43mself\u001b[39;49m\u001b[38;5;241;43m.\u001b[39;49m\u001b[43mfabricate_executor\u001b[49m\u001b[38;5;241;43m.\u001b[39;49m\u001b[43mfabricate\u001b[49m\u001b[43m(\u001b[49m\u001b[43mpath\u001b[49m\u001b[43m)\u001b[49m\n",
      "File \u001b[0;32m~/projects/fedtlike/FEDT/fedt_laser.py:117\u001b[0m, in \u001b[0;36mFEDTLaser.fabricate\u001b[0;34m(self, cut_file, mapping_file)\u001b[0m\n\u001b[1;32m    112\u001b[0m os\u001b[38;5;241m.\u001b[39mrename(temp_zf, temp_plf)\n\u001b[1;32m    113\u001b[0m cut_command \u001b[38;5;241m=\u001b[39m [VISICUT_LOCATION,\n\u001b[1;32m    114\u001b[0m             \u001b[38;5;124m'\u001b[39m\u001b[38;5;124m--laserdevice \u001b[39m\u001b[38;5;124m'\u001b[39m \u001b[38;5;241m+\u001b[39m \u001b[38;5;28mself\u001b[39m\u001b[38;5;241m.\u001b[39mlaserdevice,\n\u001b[1;32m    115\u001b[0m             \u001b[38;5;124m'\u001b[39m\u001b[38;5;124m--execute\u001b[39m\u001b[38;5;124m'\u001b[39m,\n\u001b[1;32m    116\u001b[0m             temp_plf]\n\u001b[0;32m--> 117\u001b[0m results \u001b[38;5;241m=\u001b[39m \u001b[43msubprocess\u001b[49m\u001b[38;5;241;43m.\u001b[39;49m\u001b[43mcheck_output\u001b[49m\u001b[43m(\u001b[49m\u001b[43mcut_command\u001b[49m\u001b[43m)\u001b[49m\n\u001b[1;32m    118\u001b[0m os\u001b[38;5;241m.\u001b[39mremove(temp_plf)\n\u001b[1;32m    119\u001b[0m \u001b[38;5;28;01mreturn\u001b[39;00m results\n",
      "File \u001b[0;32m~/miniforge3/envs/jupyfab/lib/python3.11/subprocess.py:466\u001b[0m, in \u001b[0;36mcheck_output\u001b[0;34m(timeout, *popenargs, **kwargs)\u001b[0m\n\u001b[1;32m    463\u001b[0m         empty \u001b[38;5;241m=\u001b[39m \u001b[38;5;124mb\u001b[39m\u001b[38;5;124m'\u001b[39m\u001b[38;5;124m'\u001b[39m\n\u001b[1;32m    464\u001b[0m     kwargs[\u001b[38;5;124m'\u001b[39m\u001b[38;5;124minput\u001b[39m\u001b[38;5;124m'\u001b[39m] \u001b[38;5;241m=\u001b[39m empty\n\u001b[0;32m--> 466\u001b[0m \u001b[38;5;28;01mreturn\u001b[39;00m \u001b[43mrun\u001b[49m\u001b[43m(\u001b[49m\u001b[38;5;241;43m*\u001b[39;49m\u001b[43mpopenargs\u001b[49m\u001b[43m,\u001b[49m\u001b[43m \u001b[49m\u001b[43mstdout\u001b[49m\u001b[38;5;241;43m=\u001b[39;49m\u001b[43mPIPE\u001b[49m\u001b[43m,\u001b[49m\u001b[43m \u001b[49m\u001b[43mtimeout\u001b[49m\u001b[38;5;241;43m=\u001b[39;49m\u001b[43mtimeout\u001b[49m\u001b[43m,\u001b[49m\u001b[43m \u001b[49m\u001b[43mcheck\u001b[49m\u001b[38;5;241;43m=\u001b[39;49m\u001b[38;5;28;43;01mTrue\u001b[39;49;00m\u001b[43m,\u001b[49m\n\u001b[1;32m    467\u001b[0m \u001b[43m           \u001b[49m\u001b[38;5;241;43m*\u001b[39;49m\u001b[38;5;241;43m*\u001b[39;49m\u001b[43mkwargs\u001b[49m\u001b[43m)\u001b[49m\u001b[38;5;241m.\u001b[39mstdout\n",
      "File \u001b[0;32m~/miniforge3/envs/jupyfab/lib/python3.11/subprocess.py:571\u001b[0m, in \u001b[0;36mrun\u001b[0;34m(input, capture_output, timeout, check, *popenargs, **kwargs)\u001b[0m\n\u001b[1;32m    569\u001b[0m     retcode \u001b[38;5;241m=\u001b[39m process\u001b[38;5;241m.\u001b[39mpoll()\n\u001b[1;32m    570\u001b[0m     \u001b[38;5;28;01mif\u001b[39;00m check \u001b[38;5;129;01mand\u001b[39;00m retcode:\n\u001b[0;32m--> 571\u001b[0m         \u001b[38;5;28;01mraise\u001b[39;00m CalledProcessError(retcode, process\u001b[38;5;241m.\u001b[39margs,\n\u001b[1;32m    572\u001b[0m                                  output\u001b[38;5;241m=\u001b[39mstdout, stderr\u001b[38;5;241m=\u001b[39mstderr)\n\u001b[1;32m    573\u001b[0m \u001b[38;5;28;01mreturn\u001b[39;00m CompletedProcess(process\u001b[38;5;241m.\u001b[39margs, retcode, stdout, stderr)\n",
      "\u001b[0;31mCalledProcessError\u001b[0m: Command '['/Users/vwn277/projects/fedtlike/visicut/VisiCut.MacOS', '--laserdevice Epilog Helix', '--execute', 'spam.plf']' returned non-zero exit status 1."
     ]
    }
   ],
   "source": [
    "experiment.fabricate()"
   ]
  },
  {
   "cell_type": "markdown",
   "id": "55160b31-c7d7-4a5e-9db3-851b3be24bd4",
   "metadata": {},
   "source": [
    "## 5. Post-Processing"
   ]
  },
  {
   "cell_type": "code",
   "execution_count": null,
   "id": "bd759409-3d11-4055-bfb7-18c2fe63964b",
   "metadata": {},
   "outputs": [],
   "source": [
    "experiment.post_process()"
   ]
  },
  {
   "cell_type": "markdown",
   "id": "64cd2be0-e9f0-4368-94f3-942f9b711656",
   "metadata": {},
   "source": [
    "## 6. Create measurement framework / user interaction"
   ]
  },
  {
   "cell_type": "code",
   "execution_count": null,
   "id": "e970d1e3-7159-4f60-a9a8-453885c6a488",
   "metadata": {},
   "outputs": [],
   "source": [
    "experiment.interact()\n",
    "\n",
    "experiment.measure()"
   ]
  },
  {
   "cell_type": "markdown",
   "id": "d22c36f5-a92b-420f-a0e1-16144db75fc9",
   "metadata": {},
   "source": [
    "## 8. Tea-based hypothesis testing"
   ]
  },
  {
   "cell_type": "code",
   "execution_count": null,
   "id": "8f82cdb1-b44c-491f-ac28-b173351dbb5a",
   "metadata": {},
   "outputs": [],
   "source": [
    "#from fedt_tea import do_experiment\n",
    "\n",
    "# tea_results = do_experiment(measurement_variables,\n",
    "#                             tea_hypothesis,\n",
    "#                             experiment_csv,\n",
    "#                             CAD_variables,\n",
    "#                             CAM_variables,\n",
    "#                             post_process_variables,\n",
    "#                             interaction_variables)"
   ]
  },
  {
   "cell_type": "markdown",
   "id": "d001c939-c06c-4a19-ab85-59779f019607",
   "metadata": {},
   "source": [
    "## 9. Reporting"
   ]
  },
  {
   "cell_type": "code",
   "execution_count": 5,
   "id": "e3f936e4-403a-4fb6-b313-5552f94cfdfb",
   "metadata": {},
   "outputs": [
    {
     "name": "stdout",
     "output_type": "stream",
     "text": [
      "We used drawsvg to create our geometries. \n",
      "        We used a Epilog Helix with bed size {'width': 609.6, 'height': 457.2} and Visicut. Our default settings were cut power:100, speed:100, frequency:5000, material:Acrylic, thickness:3.0mm. We generated different CAM settings:material (values ['lauan solid wood', 'lauan plywood', 'Japanese cypress', 'paulownia', 'Magnolia obovata', 'Japanese cedar', 'basswood', 'beech', 'oak', 'walnut'])treatment (values ['none', 'fire retardant']).\n",
      "        We fabricated objects of each configuration 1 times. We used a Epilog Helix with bed size {'width': 609.6, 'height': 457.2} and Visicut. Our default settings were cut power:100, speed:100, frequency:5000, material:Acrylic, thickness:3.0mm.\n",
      "        In all, we fabricated 20 objects.\n",
      "        \n",
      "        \n",
      "         We recorded  conductivity. 1 times for each object (20 total measurements).\n",
      "conductivity ranged from 21--216897612 UNIT (mean 21704650.1 UNIT, std 66753500.58241343 UNIT) across all samples. ...\n",
      "\n"
     ]
    }
   ],
   "source": [
    "print(experiment.report_latex())"
   ]
  },
  {
   "cell_type": "markdown",
   "id": "99315830-a4e8-43c6-89c2-899a75216cf7",
   "metadata": {
    "jp-MarkdownHeadingCollapsed": true
   },
   "source": [
    "# Experiment 2: Effect of grain direction\n",
    "## 1. Specify all parameters to be varied"
   ]
  },
  {
   "cell_type": "code",
   "execution_count": 10,
   "id": "ff14b70a-2639-4e73-baff-436459b3a49e",
   "metadata": {},
   "outputs": [
    {
     "name": "stdout",
     "output_type": "stream",
     "text": [
      "This experiment will require fabricating 2 unique objects.\n",
      "2 total measurements will be recorded.\n"
     ]
    },
    {
     "data": {
      "text/plain": [
       "('circwood2.csv', 'circwood2_key.csv')"
      ]
     },
     "execution_count": 10,
     "metadata": {},
     "output_type": "execute_result"
    }
   ],
   "source": [
    "experiment = FEDTExperiment()\n",
    "experiment.configure_for_drawsvg()\n",
    "experiment.configure_for_lasercutting()\n",
    "\n",
    "experiment.CAD_variables = [{\n",
    "        NAME : 'number of parallel paths',\n",
    "        DATA_TYPE : 'ratio',\n",
    "        TEST_VALUES : list(np.arange(1,5,1)),\n",
    "        ARGNAME : 'nested'\n",
    "    }]\n",
    "\n",
    "experiment.CAM_variables = [{\n",
    "        NAME : 'grain orientation',\n",
    "        DATA_TYPE : 'categorical',\n",
    "        TEST_VALUES : [\"parallel\", \"orthogonal\"],\n",
    "        ARGNAME : 'material'\n",
    "    }]\n",
    "experiment.fab_repetitions = 1\n",
    "\n",
    "experiment.measurement_variables = [{\n",
    "        NAME : 'conductivity',\n",
    "        DATA_TYPE : 'ratio'\n",
    "    }\n",
    "]\n",
    "experiment.measurement_repetitions = 1\n",
    "\n",
    "###########\n",
    "\n",
    "experiment.experiment_size()\n",
    "\n",
    "experiment.create_experiment_csv(experiment_csv=\"circwood2.csv\")"
   ]
  },
  {
   "cell_type": "markdown",
   "id": "8b2cfc0f-6fa1-44c2-88ab-d714eb576cf9",
   "metadata": {},
   "source": [
    "## 2. CAM"
   ]
  },
  {
   "cell_type": "code",
   "execution_count": 2,
   "id": "d30383f8-3670-4db8-9cac-65342ee248a5",
   "metadata": {},
   "outputs": [
    {
     "name": "stdout",
     "output_type": "stream",
     "text": [
      "please open Visicut and Options > Import Settings > fedt_generated.vcsettings\n"
     ]
    }
   ],
   "source": [
    "experiment.prep_cam()"
   ]
  },
  {
   "cell_type": "markdown",
   "id": "be1af344-916f-43ff-ac81-fcf5d8439b5a",
   "metadata": {},
   "source": [
    "## 3. CAD"
   ]
  },
  {
   "cell_type": "code",
   "execution_count": 13,
   "id": "2ebb6789-bcb2-45a9-8b99-f6c8335f4b18",
   "metadata": {},
   "outputs": [],
   "source": [
    "def drawnestedcircles(draw, d, nested=1):\n",
    "    for i in range(nested):\n",
    "        d.append(draw.Circle(-40, -10, 30-nested,\n",
    "                fill='none', stroke_width=1, stroke='red'))\n",
    "\n",
    "experiment.geometry_function = drawnestedcircles"
   ]
  },
  {
   "cell_type": "markdown",
   "id": "4f34e6a6-1d17-4524-9774-28db1fbe4c4d",
   "metadata": {},
   "source": [
    "## 4. Fabrication\n"
   ]
  },
  {
   "cell_type": "code",
   "execution_count": 4,
   "id": "3cab2166-d660-49bf-8adc-f253cb1436e8",
   "metadata": {},
   "outputs": [
    {
     "name": "stderr",
     "output_type": "stream",
     "text": [
      "openjdk version \"17.0.6\" 2023-01-17\n",
      "OpenJDK Runtime Environment Temurin-17.0.6+10 (build 17.0.6+10)\n",
      "OpenJDK 64-Bit Server VM Temurin-17.0.6+10 (build 17.0.6+10, mixed mode)\n",
      "Unknown command line option: --laserdevice Epilog Helix\n",
      "Use -h or --help for help\n"
     ]
    },
    {
     "ename": "CalledProcessError",
     "evalue": "Command '['/Users/vwn277/projects/fedtlike/visicut/VisiCut.MacOS', '--laserdevice Epilog Helix', '--execute', 'spam.plf']' returned non-zero exit status 1.",
     "output_type": "error",
     "traceback": [
      "\u001b[0;31m---------------------------------------------------------------------------\u001b[0m",
      "\u001b[0;31mCalledProcessError\u001b[0m                        Traceback (most recent call last)",
      "Cell \u001b[0;32mIn[4], line 1\u001b[0m\n\u001b[0;32m----> 1\u001b[0m \u001b[43mexperiment\u001b[49m\u001b[38;5;241;43m.\u001b[39;49m\u001b[43mfabricate\u001b[49m\u001b[43m(\u001b[49m\u001b[43m)\u001b[49m\n",
      "File \u001b[0;32m~/projects/fedtlike/FEDT/fedt.py:205\u001b[0m, in \u001b[0;36mFEDTExperiment.fabricate\u001b[0;34m(self)\u001b[0m\n\u001b[1;32m    203\u001b[0m \u001b[38;5;28mself\u001b[39m\u001b[38;5;241m.\u001b[39mCAM_paths \u001b[38;5;241m=\u001b[39m CAM_paths\n\u001b[1;32m    204\u001b[0m \u001b[38;5;28;01mfor\u001b[39;00m path \u001b[38;5;129;01min\u001b[39;00m CAM_paths:\n\u001b[0;32m--> 205\u001b[0m     \u001b[38;5;28;43mself\u001b[39;49m\u001b[38;5;241;43m.\u001b[39;49m\u001b[43mfabricate_executor\u001b[49m\u001b[38;5;241;43m.\u001b[39;49m\u001b[43mfabricate\u001b[49m\u001b[43m(\u001b[49m\u001b[43mpath\u001b[49m\u001b[43m)\u001b[49m\n",
      "File \u001b[0;32m~/projects/fedtlike/FEDT/fedt_laser.py:117\u001b[0m, in \u001b[0;36mFEDTLaser.fabricate\u001b[0;34m(self, cut_file, mapping_file)\u001b[0m\n\u001b[1;32m    112\u001b[0m os\u001b[38;5;241m.\u001b[39mrename(temp_zf, temp_plf)\n\u001b[1;32m    113\u001b[0m cut_command \u001b[38;5;241m=\u001b[39m [VISICUT_LOCATION,\n\u001b[1;32m    114\u001b[0m             \u001b[38;5;124m'\u001b[39m\u001b[38;5;124m--laserdevice \u001b[39m\u001b[38;5;124m'\u001b[39m \u001b[38;5;241m+\u001b[39m \u001b[38;5;28mself\u001b[39m\u001b[38;5;241m.\u001b[39mlaserdevice,\n\u001b[1;32m    115\u001b[0m             \u001b[38;5;124m'\u001b[39m\u001b[38;5;124m--execute\u001b[39m\u001b[38;5;124m'\u001b[39m,\n\u001b[1;32m    116\u001b[0m             temp_plf]\n\u001b[0;32m--> 117\u001b[0m results \u001b[38;5;241m=\u001b[39m \u001b[43msubprocess\u001b[49m\u001b[38;5;241;43m.\u001b[39;49m\u001b[43mcheck_output\u001b[49m\u001b[43m(\u001b[49m\u001b[43mcut_command\u001b[49m\u001b[43m)\u001b[49m\n\u001b[1;32m    118\u001b[0m os\u001b[38;5;241m.\u001b[39mremove(temp_plf)\n\u001b[1;32m    119\u001b[0m \u001b[38;5;28;01mreturn\u001b[39;00m results\n",
      "File \u001b[0;32m~/miniforge3/envs/jupyfab/lib/python3.11/subprocess.py:466\u001b[0m, in \u001b[0;36mcheck_output\u001b[0;34m(timeout, *popenargs, **kwargs)\u001b[0m\n\u001b[1;32m    463\u001b[0m         empty \u001b[38;5;241m=\u001b[39m \u001b[38;5;124mb\u001b[39m\u001b[38;5;124m'\u001b[39m\u001b[38;5;124m'\u001b[39m\n\u001b[1;32m    464\u001b[0m     kwargs[\u001b[38;5;124m'\u001b[39m\u001b[38;5;124minput\u001b[39m\u001b[38;5;124m'\u001b[39m] \u001b[38;5;241m=\u001b[39m empty\n\u001b[0;32m--> 466\u001b[0m \u001b[38;5;28;01mreturn\u001b[39;00m \u001b[43mrun\u001b[49m\u001b[43m(\u001b[49m\u001b[38;5;241;43m*\u001b[39;49m\u001b[43mpopenargs\u001b[49m\u001b[43m,\u001b[49m\u001b[43m \u001b[49m\u001b[43mstdout\u001b[49m\u001b[38;5;241;43m=\u001b[39;49m\u001b[43mPIPE\u001b[49m\u001b[43m,\u001b[49m\u001b[43m \u001b[49m\u001b[43mtimeout\u001b[49m\u001b[38;5;241;43m=\u001b[39;49m\u001b[43mtimeout\u001b[49m\u001b[43m,\u001b[49m\u001b[43m \u001b[49m\u001b[43mcheck\u001b[49m\u001b[38;5;241;43m=\u001b[39;49m\u001b[38;5;28;43;01mTrue\u001b[39;49;00m\u001b[43m,\u001b[49m\n\u001b[1;32m    467\u001b[0m \u001b[43m           \u001b[49m\u001b[38;5;241;43m*\u001b[39;49m\u001b[38;5;241;43m*\u001b[39;49m\u001b[43mkwargs\u001b[49m\u001b[43m)\u001b[49m\u001b[38;5;241m.\u001b[39mstdout\n",
      "File \u001b[0;32m~/miniforge3/envs/jupyfab/lib/python3.11/subprocess.py:571\u001b[0m, in \u001b[0;36mrun\u001b[0;34m(input, capture_output, timeout, check, *popenargs, **kwargs)\u001b[0m\n\u001b[1;32m    569\u001b[0m     retcode \u001b[38;5;241m=\u001b[39m process\u001b[38;5;241m.\u001b[39mpoll()\n\u001b[1;32m    570\u001b[0m     \u001b[38;5;28;01mif\u001b[39;00m check \u001b[38;5;129;01mand\u001b[39;00m retcode:\n\u001b[0;32m--> 571\u001b[0m         \u001b[38;5;28;01mraise\u001b[39;00m CalledProcessError(retcode, process\u001b[38;5;241m.\u001b[39margs,\n\u001b[1;32m    572\u001b[0m                                  output\u001b[38;5;241m=\u001b[39mstdout, stderr\u001b[38;5;241m=\u001b[39mstderr)\n\u001b[1;32m    573\u001b[0m \u001b[38;5;28;01mreturn\u001b[39;00m CompletedProcess(process\u001b[38;5;241m.\u001b[39margs, retcode, stdout, stderr)\n",
      "\u001b[0;31mCalledProcessError\u001b[0m: Command '['/Users/vwn277/projects/fedtlike/visicut/VisiCut.MacOS', '--laserdevice Epilog Helix', '--execute', 'spam.plf']' returned non-zero exit status 1."
     ]
    }
   ],
   "source": [
    "experiment.fabricate()"
   ]
  },
  {
   "cell_type": "markdown",
   "id": "c582de0f-1e1a-4244-8f27-97e60a1e4d64",
   "metadata": {},
   "source": [
    "## 5. Post-Processing"
   ]
  },
  {
   "cell_type": "code",
   "execution_count": null,
   "id": "13ad32fe-8a37-4bb7-93a8-0a80f03800de",
   "metadata": {},
   "outputs": [],
   "source": [
    "experiment.post_process()"
   ]
  },
  {
   "cell_type": "markdown",
   "id": "f39af2ec-57b6-494a-86de-e3a93b803bad",
   "metadata": {},
   "source": [
    "## 6. Create measurement framework / user interaction"
   ]
  },
  {
   "cell_type": "code",
   "execution_count": null,
   "id": "3414b2e7-e475-4f37-be57-2eb09599d104",
   "metadata": {},
   "outputs": [],
   "source": [
    "experiment.interact()\n",
    "\n",
    "experiment.measure()"
   ]
  },
  {
   "cell_type": "markdown",
   "id": "eb5fe735-ed5a-4963-b875-cf311a75794a",
   "metadata": {},
   "source": [
    "## 8. Tea-based hypothesis testing"
   ]
  },
  {
   "cell_type": "code",
   "execution_count": null,
   "id": "f729f98a-e539-438e-820e-11f340be7c54",
   "metadata": {},
   "outputs": [],
   "source": [
    "#from fedt_tea import do_experiment\n",
    "\n",
    "# tea_results = do_experiment(measurement_variables,\n",
    "#                             tea_hypothesis,\n",
    "#                             experiment_csv,\n",
    "#                             CAD_variables,\n",
    "#                             CAM_variables,\n",
    "#                             post_process_variables,\n",
    "#                             interaction_variables)"
   ]
  },
  {
   "cell_type": "markdown",
   "id": "6649dc5e-64cf-4e78-80e3-ba12fffc05e3",
   "metadata": {},
   "source": [
    "## 9. Reporting"
   ]
  },
  {
   "cell_type": "code",
   "execution_count": 5,
   "id": "7360f2b8-638b-4df9-bf06-323fa3e824bc",
   "metadata": {},
   "outputs": [
    {
     "name": "stdout",
     "output_type": "stream",
     "text": [
      "We used drawsvg to create our geometries. \n",
      "        We used a Epilog Helix with bed size {'width': 609.6, 'height': 457.2} and Visicut. Our default settings were cut power:100, speed:100, frequency:5000, material:Acrylic, thickness:3.0mm. We generated different CAM settings:material (values ['lauan solid wood', 'lauan plywood', 'Japanese cypress', 'paulownia', 'Magnolia obovata', 'Japanese cedar', 'basswood', 'beech', 'oak', 'walnut'])treatment (values ['none', 'fire retardant']).\n",
      "        We fabricated objects of each configuration 1 times. We used a Epilog Helix with bed size {'width': 609.6, 'height': 457.2} and Visicut. Our default settings were cut power:100, speed:100, frequency:5000, material:Acrylic, thickness:3.0mm.\n",
      "        In all, we fabricated 20 objects.\n",
      "        \n",
      "        \n",
      "         We recorded  conductivity. 1 times for each object (20 total measurements).\n",
      "conductivity ranged from 21--216897612 UNIT (mean 21704650.1 UNIT, std 66753500.58241343 UNIT) across all samples. ...\n",
      "\n"
     ]
    }
   ],
   "source": [
    "print(experiment.report_latex())"
   ]
  },
  {
   "cell_type": "markdown",
   "id": "7c4ef3a7-4b4f-40de-b05e-7eaf7e8758ca",
   "metadata": {
    "jp-MarkdownHeadingCollapsed": true
   },
   "source": [
    "# Experiment 3 : Resistance change over time\n",
    "## 1. Specify all parameters to be varied\n"
   ]
  },
  {
   "cell_type": "code",
   "execution_count": 1,
   "id": "6ecf4858-ab67-4cb0-8021-b5a19869f98d",
   "metadata": {},
   "outputs": [
    {
     "name": "stdout",
     "output_type": "stream",
     "text": [
      "This experiment will require fabricating 20 unique objects.\n",
      "20 total measurements will be recorded.\n"
     ]
    },
    {
     "data": {
      "text/plain": [
       "('circwood1.csv', 'circwood1_key.csv')"
      ]
     },
     "execution_count": 1,
     "metadata": {},
     "output_type": "execute_result"
    }
   ],
   "source": [
    "from fedt import *\n",
    "import fedt_2D_geom\n",
    "\n",
    "experiment = FEDTExperiment()\n",
    "experiment.configure_for_drawsvg()\n",
    "experiment.configure_for_lasercutting()\n",
    "\n",
    "experiment.post_process_variables = [{\n",
    "        NAME : 'material',\n",
    "        DATA_TYPE : 'categorical',\n",
    "        TEST_VALUES : [\"nothing\", \"varnish\"],\n",
    "        INSTRUCTION : 'coat the material with {}'\n",
    "    }]\n",
    "experiment.post_process_repetitions = 4\n",
    "\n",
    "#### here's something that doesn't fit well into the paradigm: the passage of time\n",
    "experiment.interaction_variables = [{\n",
    "        NAME : 'time passed',\n",
    "        DATA_TYPE : 'ratio',\n",
    "        TEST_VALUES : list(np.arange(0,7,1)),\n",
    "        INSTRUCTION : 'allow {} months to pass'\n",
    "    }]\n",
    "\n",
    "experiment.measurement_variables = [{\n",
    "        NAME : 'conductivity',\n",
    "        DATA_TYPE : 'ratio'\n",
    "    }\n",
    "]\n",
    "experiment.measurement_repetitions = 1\n",
    "\n",
    "###########\n",
    "\n",
    "experiment.experiment_size()\n",
    "\n",
    "experiment.create_experiment_csv(experiment_csv=\"circwood3.csv\")"
   ]
  },
  {
   "cell_type": "markdown",
   "id": "0157e533-acda-4f7b-bee1-b8022bd47e3d",
   "metadata": {},
   "source": [
    "## 2. CAM"
   ]
  },
  {
   "cell_type": "code",
   "execution_count": 2,
   "id": "bfadf102-b24f-4482-b575-c5bab02e3b10",
   "metadata": {},
   "outputs": [
    {
     "name": "stdout",
     "output_type": "stream",
     "text": [
      "please open Visicut and Options > Import Settings > fedt_generated.vcsettings\n"
     ]
    }
   ],
   "source": [
    "experiment.prep_cam()"
   ]
  },
  {
   "cell_type": "markdown",
   "id": "e06b658e-cd8e-4a6e-8e45-5e0422b719d9",
   "metadata": {},
   "source": [
    "## 3. CAD"
   ]
  },
  {
   "cell_type": "code",
   "execution_count": 3,
   "id": "cf89775a-20c3-4e42-bacf-90f6b974cf66",
   "metadata": {},
   "outputs": [],
   "source": [
    "# nothing to do\n",
    "experiment.geometry_function = fedt_2D_geom.drawcircle"
   ]
  },
  {
   "cell_type": "markdown",
   "id": "45b9cc98-51b2-45bc-b32b-035f621b88b4",
   "metadata": {},
   "source": [
    "## 4. Fabrication\n"
   ]
  },
  {
   "cell_type": "code",
   "execution_count": 4,
   "id": "eb34e8a1-6886-42ec-8c12-c60fe21647fb",
   "metadata": {},
   "outputs": [
    {
     "name": "stderr",
     "output_type": "stream",
     "text": [
      "openjdk version \"17.0.6\" 2023-01-17\n",
      "OpenJDK Runtime Environment Temurin-17.0.6+10 (build 17.0.6+10)\n",
      "OpenJDK 64-Bit Server VM Temurin-17.0.6+10 (build 17.0.6+10, mixed mode)\n",
      "Unknown command line option: --laserdevice Epilog Helix\n",
      "Use -h or --help for help\n"
     ]
    },
    {
     "ename": "CalledProcessError",
     "evalue": "Command '['/Users/vwn277/projects/fedtlike/visicut/VisiCut.MacOS', '--laserdevice Epilog Helix', '--execute', 'spam.plf']' returned non-zero exit status 1.",
     "output_type": "error",
     "traceback": [
      "\u001b[0;31m---------------------------------------------------------------------------\u001b[0m",
      "\u001b[0;31mCalledProcessError\u001b[0m                        Traceback (most recent call last)",
      "Cell \u001b[0;32mIn[4], line 1\u001b[0m\n\u001b[0;32m----> 1\u001b[0m \u001b[43mexperiment\u001b[49m\u001b[38;5;241;43m.\u001b[39;49m\u001b[43mfabricate\u001b[49m\u001b[43m(\u001b[49m\u001b[43m)\u001b[49m\n",
      "File \u001b[0;32m~/projects/fedtlike/FEDT/fedt.py:205\u001b[0m, in \u001b[0;36mFEDTExperiment.fabricate\u001b[0;34m(self)\u001b[0m\n\u001b[1;32m    203\u001b[0m \u001b[38;5;28mself\u001b[39m\u001b[38;5;241m.\u001b[39mCAM_paths \u001b[38;5;241m=\u001b[39m CAM_paths\n\u001b[1;32m    204\u001b[0m \u001b[38;5;28;01mfor\u001b[39;00m path \u001b[38;5;129;01min\u001b[39;00m CAM_paths:\n\u001b[0;32m--> 205\u001b[0m     \u001b[38;5;28;43mself\u001b[39;49m\u001b[38;5;241;43m.\u001b[39;49m\u001b[43mfabricate_executor\u001b[49m\u001b[38;5;241;43m.\u001b[39;49m\u001b[43mfabricate\u001b[49m\u001b[43m(\u001b[49m\u001b[43mpath\u001b[49m\u001b[43m)\u001b[49m\n",
      "File \u001b[0;32m~/projects/fedtlike/FEDT/fedt_laser.py:117\u001b[0m, in \u001b[0;36mFEDTLaser.fabricate\u001b[0;34m(self, cut_file, mapping_file)\u001b[0m\n\u001b[1;32m    112\u001b[0m os\u001b[38;5;241m.\u001b[39mrename(temp_zf, temp_plf)\n\u001b[1;32m    113\u001b[0m cut_command \u001b[38;5;241m=\u001b[39m [VISICUT_LOCATION,\n\u001b[1;32m    114\u001b[0m             \u001b[38;5;124m'\u001b[39m\u001b[38;5;124m--laserdevice \u001b[39m\u001b[38;5;124m'\u001b[39m \u001b[38;5;241m+\u001b[39m \u001b[38;5;28mself\u001b[39m\u001b[38;5;241m.\u001b[39mlaserdevice,\n\u001b[1;32m    115\u001b[0m             \u001b[38;5;124m'\u001b[39m\u001b[38;5;124m--execute\u001b[39m\u001b[38;5;124m'\u001b[39m,\n\u001b[1;32m    116\u001b[0m             temp_plf]\n\u001b[0;32m--> 117\u001b[0m results \u001b[38;5;241m=\u001b[39m \u001b[43msubprocess\u001b[49m\u001b[38;5;241;43m.\u001b[39;49m\u001b[43mcheck_output\u001b[49m\u001b[43m(\u001b[49m\u001b[43mcut_command\u001b[49m\u001b[43m)\u001b[49m\n\u001b[1;32m    118\u001b[0m os\u001b[38;5;241m.\u001b[39mremove(temp_plf)\n\u001b[1;32m    119\u001b[0m \u001b[38;5;28;01mreturn\u001b[39;00m results\n",
      "File \u001b[0;32m~/miniforge3/envs/jupyfab/lib/python3.11/subprocess.py:466\u001b[0m, in \u001b[0;36mcheck_output\u001b[0;34m(timeout, *popenargs, **kwargs)\u001b[0m\n\u001b[1;32m    463\u001b[0m         empty \u001b[38;5;241m=\u001b[39m \u001b[38;5;124mb\u001b[39m\u001b[38;5;124m'\u001b[39m\u001b[38;5;124m'\u001b[39m\n\u001b[1;32m    464\u001b[0m     kwargs[\u001b[38;5;124m'\u001b[39m\u001b[38;5;124minput\u001b[39m\u001b[38;5;124m'\u001b[39m] \u001b[38;5;241m=\u001b[39m empty\n\u001b[0;32m--> 466\u001b[0m \u001b[38;5;28;01mreturn\u001b[39;00m \u001b[43mrun\u001b[49m\u001b[43m(\u001b[49m\u001b[38;5;241;43m*\u001b[39;49m\u001b[43mpopenargs\u001b[49m\u001b[43m,\u001b[49m\u001b[43m \u001b[49m\u001b[43mstdout\u001b[49m\u001b[38;5;241;43m=\u001b[39;49m\u001b[43mPIPE\u001b[49m\u001b[43m,\u001b[49m\u001b[43m \u001b[49m\u001b[43mtimeout\u001b[49m\u001b[38;5;241;43m=\u001b[39;49m\u001b[43mtimeout\u001b[49m\u001b[43m,\u001b[49m\u001b[43m \u001b[49m\u001b[43mcheck\u001b[49m\u001b[38;5;241;43m=\u001b[39;49m\u001b[38;5;28;43;01mTrue\u001b[39;49;00m\u001b[43m,\u001b[49m\n\u001b[1;32m    467\u001b[0m \u001b[43m           \u001b[49m\u001b[38;5;241;43m*\u001b[39;49m\u001b[38;5;241;43m*\u001b[39;49m\u001b[43mkwargs\u001b[49m\u001b[43m)\u001b[49m\u001b[38;5;241m.\u001b[39mstdout\n",
      "File \u001b[0;32m~/miniforge3/envs/jupyfab/lib/python3.11/subprocess.py:571\u001b[0m, in \u001b[0;36mrun\u001b[0;34m(input, capture_output, timeout, check, *popenargs, **kwargs)\u001b[0m\n\u001b[1;32m    569\u001b[0m     retcode \u001b[38;5;241m=\u001b[39m process\u001b[38;5;241m.\u001b[39mpoll()\n\u001b[1;32m    570\u001b[0m     \u001b[38;5;28;01mif\u001b[39;00m check \u001b[38;5;129;01mand\u001b[39;00m retcode:\n\u001b[0;32m--> 571\u001b[0m         \u001b[38;5;28;01mraise\u001b[39;00m CalledProcessError(retcode, process\u001b[38;5;241m.\u001b[39margs,\n\u001b[1;32m    572\u001b[0m                                  output\u001b[38;5;241m=\u001b[39mstdout, stderr\u001b[38;5;241m=\u001b[39mstderr)\n\u001b[1;32m    573\u001b[0m \u001b[38;5;28;01mreturn\u001b[39;00m CompletedProcess(process\u001b[38;5;241m.\u001b[39margs, retcode, stdout, stderr)\n",
      "\u001b[0;31mCalledProcessError\u001b[0m: Command '['/Users/vwn277/projects/fedtlike/visicut/VisiCut.MacOS', '--laserdevice Epilog Helix', '--execute', 'spam.plf']' returned non-zero exit status 1."
     ]
    }
   ],
   "source": [
    "experiment.fabricate()"
   ]
  },
  {
   "cell_type": "markdown",
   "id": "415b40bf-bbd5-4ff7-9f57-f2abbbbf86b9",
   "metadata": {},
   "source": [
    "## 5. Post-Processing"
   ]
  },
  {
   "cell_type": "code",
   "execution_count": null,
   "id": "60184dba-04ae-49d7-8394-6b9fb5e84b47",
   "metadata": {},
   "outputs": [],
   "source": [
    "experiment.post_process()"
   ]
  },
  {
   "cell_type": "markdown",
   "id": "359518ab-5540-4038-95b8-1939740f9803",
   "metadata": {},
   "source": [
    "## 6. Create measurement framework / user interaction"
   ]
  },
  {
   "cell_type": "code",
   "execution_count": null,
   "id": "b02c78d8-d567-41b4-8769-3c4f5bb9756e",
   "metadata": {},
   "outputs": [],
   "source": [
    "experiment.interact()\n",
    "\n",
    "experiment.measure()"
   ]
  },
  {
   "cell_type": "markdown",
   "id": "d7e91ff4-043c-48bb-bdc5-6f18ab739bcd",
   "metadata": {},
   "source": [
    "## 8. Tea-based hypothesis testing"
   ]
  },
  {
   "cell_type": "code",
   "execution_count": null,
   "id": "fd858eee-03e2-4df3-adb2-3f40e4396b85",
   "metadata": {},
   "outputs": [],
   "source": [
    "#from fedt_tea import do_experiment\n",
    "\n",
    "# tea_results = do_experiment(measurement_variables,\n",
    "#                             tea_hypothesis,\n",
    "#                             experiment_csv,\n",
    "#                             CAD_variables,\n",
    "#                             CAM_variables,\n",
    "#                             post_process_variables,\n",
    "#                             interaction_variables)"
   ]
  },
  {
   "cell_type": "markdown",
   "id": "ca988613-100e-47d1-9bad-d38e03f5fec2",
   "metadata": {},
   "source": [
    "## 9. Reporting"
   ]
  },
  {
   "cell_type": "code",
   "execution_count": 5,
   "id": "71f653c0-d99b-4c29-a2d6-5c6335ac6abe",
   "metadata": {},
   "outputs": [
    {
     "name": "stdout",
     "output_type": "stream",
     "text": [
      "We used drawsvg to create our geometries. \n",
      "        We used a Epilog Helix with bed size {'width': 609.6, 'height': 457.2} and Visicut. Our default settings were cut power:100, speed:100, frequency:5000, material:Acrylic, thickness:3.0mm. We generated different CAM settings:material (values ['lauan solid wood', 'lauan plywood', 'Japanese cypress', 'paulownia', 'Magnolia obovata', 'Japanese cedar', 'basswood', 'beech', 'oak', 'walnut'])treatment (values ['none', 'fire retardant']).\n",
      "        We fabricated objects of each configuration 1 times. We used a Epilog Helix with bed size {'width': 609.6, 'height': 457.2} and Visicut. Our default settings were cut power:100, speed:100, frequency:5000, material:Acrylic, thickness:3.0mm.\n",
      "        In all, we fabricated 20 objects.\n",
      "        \n",
      "        \n",
      "         We recorded  conductivity. 1 times for each object (20 total measurements).\n",
      "conductivity ranged from 21--216897612 UNIT (mean 21704650.1 UNIT, std 66753500.58241343 UNIT) across all samples. ...\n",
      "\n"
     ]
    }
   ],
   "source": [
    "print(experiment.report_latex())"
   ]
  }
 ],
 "metadata": {
  "kernelspec": {
   "display_name": "Python 3 (ipykernel)",
   "language": "python",
   "name": "python3"
  },
  "language_info": {
   "codemirror_mode": {
    "name": "ipython",
    "version": 3
   },
   "file_extension": ".py",
   "mimetype": "text/x-python",
   "name": "python",
   "nbconvert_exporter": "python",
   "pygments_lexer": "ipython3",
   "version": "3.11.3"
  }
 },
 "nbformat": 4,
 "nbformat_minor": 5
}
