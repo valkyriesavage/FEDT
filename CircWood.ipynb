{
 "cells": [
  {
   "cell_type": "markdown",
   "id": "6fb81635-0ae7-4357-ab9f-7305cd617d93",
   "metadata": {},
   "source": [
    "[CircWood paper: technical evaluation section](https://dl.acm.org/doi/fullHtml/10.1145/3490149.3501317#sec-18)\n",
    "\n",
    "![experiment 1: materials](img/circwood1.png)\n",
    "\n",
    "![experiment 2: settings](img/circwood2.png)\n",
    "\n",
    "![experiment 3: grain direction](img/circwood3.png)\n",
    "\n",
    "![experiment 4: time](img/circwood4.png)"
   ]
  },
  {
   "cell_type": "markdown",
   "id": "70bd7c4c-16b9-4fc0-9a08-ae7b0b25412f",
   "metadata": {},
   "source": [
    "# Experiment 1 : materials\n",
    "## 1. Specify all parameters to be varied\n"
   ]
  },
  {
   "cell_type": "code",
   "execution_count": 4,
   "id": "cff05206-308c-4ffe-a980-06fb48753c68",
   "metadata": {},
   "outputs": [
    {
     "name": "stdout",
     "output_type": "stream",
     "text": [
      "This experiment will require fabricating 20 unique objects.\n",
      "20 total measurements will be recorded.\n"
     ]
    },
    {
     "data": {
      "text/plain": [
       "('circwood1.csv', 'circwood1_key.csv')"
      ]
     },
     "execution_count": 4,
     "metadata": {},
     "output_type": "execute_result"
    }
   ],
   "source": [
    "from fedt import *\n",
    "import fedt_2D_geom\n",
    "\n",
    "experiment = FEDTExperiment()\n",
    "experiment.configure_for_drawsvg()\n",
    "experiment.configure_for_lasercutting()\n",
    "\n",
    "experiment.CAD_variables = []\n",
    "experiment.CAM_variables = [{\n",
    "        'name' : 'material',\n",
    "        'data type' : 'categorical',\n",
    "        'test_values' : [\"lauan solid wood\", \"lauan plywood\", \"Japanese cypress\",\n",
    "                         \"paulownia\", \"Magnolia obovata\", \"Japanese cedar\", \"basswood\",\n",
    "                         \"beech\", \"oak\", \"walnut\"],\n",
    "        'argname' : 'material'\n",
    "    },\n",
    "    {\n",
    "        'name' : 'treatment',\n",
    "        'data type' : 'categorical',\n",
    "        'test_values' : [\"none\", \"fire retardant\"],\n",
    "        'argname' : 'material'\n",
    "    }]\n",
    "experiment.fab_repetitions = 1\n",
    "\n",
    "experiment.post_process_variables = []\n",
    "experiment.post_process_repetitions = 1\n",
    "\n",
    "experiment.interaction_variables = []\n",
    "\n",
    "experiment.measurement_variables = [{\n",
    "        'name' : 'conductivity',\n",
    "        'data type' : 'binary'\n",
    "    }\n",
    "]\n",
    "experiment.measurement_repetitions = 1\n",
    "\n",
    "experiment.tea_hypothesis = (['material', 'conductivity' ], ['treatment:fire retardant > none'])\n",
    "\n",
    "###########\n",
    "\n",
    "experiment.experiment_size()\n",
    "\n",
    "experiment.create_experiment_csv(experiment_csv=\"circwood1.csv\")"
   ]
  },
  {
   "cell_type": "markdown",
   "id": "313fabb6",
   "metadata": {},
   "source": [
    "## 2. CAM"
   ]
  },
  {
   "cell_type": "code",
   "execution_count": 5,
   "id": "b69a74fb",
   "metadata": {},
   "outputs": [
    {
     "name": "stdout",
     "output_type": "stream",
     "text": [
      "please open Visicut and Options > Import Settings > fedt_generated.vcsettings\n"
     ]
    }
   ],
   "source": [
    "experiment.prep_cam()"
   ]
  },
  {
   "cell_type": "markdown",
   "id": "30d1417e",
   "metadata": {},
   "source": [
    "## 3. CAD"
   ]
  },
  {
   "cell_type": "code",
   "execution_count": 7,
   "id": "18959d5c",
   "metadata": {},
   "outputs": [],
   "source": [
    "# nothing to do\n",
    "experiment.geometry_function = fedt_2D_geom.drawcircle"
   ]
  },
  {
   "cell_type": "markdown",
   "id": "9ae8ed63",
   "metadata": {},
   "source": [
    "## 4. Fabrication\n"
   ]
  },
  {
   "cell_type": "code",
   "execution_count": 8,
   "id": "cc047332",
   "metadata": {},
   "outputs": [
    {
     "name": "stderr",
     "output_type": "stream",
     "text": [
      "openjdk version \"17.0.6\" 2023-01-17\n",
      "OpenJDK Runtime Environment Temurin-17.0.6+10 (build 17.0.6+10)\n",
      "OpenJDK 64-Bit Server VM Temurin-17.0.6+10 (build 17.0.6+10, mixed mode)\n",
      "Unknown command line option: --laserdevice Epilog Helix\n",
      "Use -h or --help for help\n"
     ]
    },
    {
     "ename": "CalledProcessError",
     "evalue": "Command '['/Users/vwn277/projects/fedtlike/visicut/VisiCut.MacOS', '--laserdevice Epilog Helix', '--execute', 'spam.plf']' returned non-zero exit status 1.",
     "output_type": "error",
     "traceback": [
      "\u001b[0;31m---------------------------------------------------------------------------\u001b[0m",
      "\u001b[0;31mCalledProcessError\u001b[0m                        Traceback (most recent call last)",
      "Cell \u001b[0;32mIn[8], line 1\u001b[0m\n\u001b[0;32m----> 1\u001b[0m \u001b[43mexperiment\u001b[49m\u001b[38;5;241;43m.\u001b[39;49m\u001b[43mfabricate\u001b[49m\u001b[43m(\u001b[49m\u001b[43m)\u001b[49m\n",
      "File \u001b[0;32m~/projects/fedtlike/FEDT/fedt.py:201\u001b[0m, in \u001b[0;36mFEDTExperiment.fabricate\u001b[0;34m(self)\u001b[0m\n\u001b[1;32m    199\u001b[0m \u001b[38;5;28mself\u001b[39m\u001b[38;5;241m.\u001b[39mCAM_paths \u001b[38;5;241m=\u001b[39m CAM_paths\n\u001b[1;32m    200\u001b[0m \u001b[38;5;28;01mfor\u001b[39;00m path \u001b[38;5;129;01min\u001b[39;00m CAM_paths:\n\u001b[0;32m--> 201\u001b[0m     \u001b[38;5;28;43mself\u001b[39;49m\u001b[38;5;241;43m.\u001b[39;49m\u001b[43mfabricate_executor\u001b[49m\u001b[38;5;241;43m.\u001b[39;49m\u001b[43mfabricate\u001b[49m\u001b[43m(\u001b[49m\u001b[43mpath\u001b[49m\u001b[43m)\u001b[49m\n",
      "File \u001b[0;32m~/projects/fedtlike/FEDT/fedt_laser.py:117\u001b[0m, in \u001b[0;36mFEDTLaser.fabricate\u001b[0;34m(self, cut_file, mapping_file)\u001b[0m\n\u001b[1;32m    112\u001b[0m os\u001b[38;5;241m.\u001b[39mrename(temp_zf, temp_plf)\n\u001b[1;32m    113\u001b[0m cut_command \u001b[38;5;241m=\u001b[39m [VISICUT_LOCATION,\n\u001b[1;32m    114\u001b[0m             \u001b[38;5;124m'\u001b[39m\u001b[38;5;124m--laserdevice \u001b[39m\u001b[38;5;124m'\u001b[39m \u001b[38;5;241m+\u001b[39m \u001b[38;5;28mself\u001b[39m\u001b[38;5;241m.\u001b[39mlaserdevice,\n\u001b[1;32m    115\u001b[0m             \u001b[38;5;124m'\u001b[39m\u001b[38;5;124m--execute\u001b[39m\u001b[38;5;124m'\u001b[39m,\n\u001b[1;32m    116\u001b[0m             temp_plf]\n\u001b[0;32m--> 117\u001b[0m results \u001b[38;5;241m=\u001b[39m \u001b[43msubprocess\u001b[49m\u001b[38;5;241;43m.\u001b[39;49m\u001b[43mcheck_output\u001b[49m\u001b[43m(\u001b[49m\u001b[43mcut_command\u001b[49m\u001b[43m)\u001b[49m\n\u001b[1;32m    118\u001b[0m os\u001b[38;5;241m.\u001b[39mremove(temp_plf)\n\u001b[1;32m    119\u001b[0m \u001b[38;5;28;01mreturn\u001b[39;00m results\n",
      "File \u001b[0;32m~/miniforge3/envs/jupyfab/lib/python3.11/subprocess.py:466\u001b[0m, in \u001b[0;36mcheck_output\u001b[0;34m(timeout, *popenargs, **kwargs)\u001b[0m\n\u001b[1;32m    463\u001b[0m         empty \u001b[38;5;241m=\u001b[39m \u001b[38;5;124mb\u001b[39m\u001b[38;5;124m'\u001b[39m\u001b[38;5;124m'\u001b[39m\n\u001b[1;32m    464\u001b[0m     kwargs[\u001b[38;5;124m'\u001b[39m\u001b[38;5;124minput\u001b[39m\u001b[38;5;124m'\u001b[39m] \u001b[38;5;241m=\u001b[39m empty\n\u001b[0;32m--> 466\u001b[0m \u001b[38;5;28;01mreturn\u001b[39;00m \u001b[43mrun\u001b[49m\u001b[43m(\u001b[49m\u001b[38;5;241;43m*\u001b[39;49m\u001b[43mpopenargs\u001b[49m\u001b[43m,\u001b[49m\u001b[43m \u001b[49m\u001b[43mstdout\u001b[49m\u001b[38;5;241;43m=\u001b[39;49m\u001b[43mPIPE\u001b[49m\u001b[43m,\u001b[49m\u001b[43m \u001b[49m\u001b[43mtimeout\u001b[49m\u001b[38;5;241;43m=\u001b[39;49m\u001b[43mtimeout\u001b[49m\u001b[43m,\u001b[49m\u001b[43m \u001b[49m\u001b[43mcheck\u001b[49m\u001b[38;5;241;43m=\u001b[39;49m\u001b[38;5;28;43;01mTrue\u001b[39;49;00m\u001b[43m,\u001b[49m\n\u001b[1;32m    467\u001b[0m \u001b[43m           \u001b[49m\u001b[38;5;241;43m*\u001b[39;49m\u001b[38;5;241;43m*\u001b[39;49m\u001b[43mkwargs\u001b[49m\u001b[43m)\u001b[49m\u001b[38;5;241m.\u001b[39mstdout\n",
      "File \u001b[0;32m~/miniforge3/envs/jupyfab/lib/python3.11/subprocess.py:571\u001b[0m, in \u001b[0;36mrun\u001b[0;34m(input, capture_output, timeout, check, *popenargs, **kwargs)\u001b[0m\n\u001b[1;32m    569\u001b[0m     retcode \u001b[38;5;241m=\u001b[39m process\u001b[38;5;241m.\u001b[39mpoll()\n\u001b[1;32m    570\u001b[0m     \u001b[38;5;28;01mif\u001b[39;00m check \u001b[38;5;129;01mand\u001b[39;00m retcode:\n\u001b[0;32m--> 571\u001b[0m         \u001b[38;5;28;01mraise\u001b[39;00m CalledProcessError(retcode, process\u001b[38;5;241m.\u001b[39margs,\n\u001b[1;32m    572\u001b[0m                                  output\u001b[38;5;241m=\u001b[39mstdout, stderr\u001b[38;5;241m=\u001b[39mstderr)\n\u001b[1;32m    573\u001b[0m \u001b[38;5;28;01mreturn\u001b[39;00m CompletedProcess(process\u001b[38;5;241m.\u001b[39margs, retcode, stdout, stderr)\n",
      "\u001b[0;31mCalledProcessError\u001b[0m: Command '['/Users/vwn277/projects/fedtlike/visicut/VisiCut.MacOS', '--laserdevice Epilog Helix', '--execute', 'spam.plf']' returned non-zero exit status 1."
     ]
    }
   ],
   "source": [
    "experiment.fabricate()"
   ]
  },
  {
   "cell_type": "markdown",
   "id": "cceb6233",
   "metadata": {},
   "source": [
    "## 5. Post-Processing"
   ]
  },
  {
   "cell_type": "code",
   "execution_count": 9,
   "id": "526ab9f4-7cb4-4b04-bf4d-a3fbedf96302",
   "metadata": {},
   "outputs": [],
   "source": [
    "experiment.post_process()"
   ]
  },
  {
   "cell_type": "markdown",
   "id": "df4d4114-67c7-440b-b8a6-f7a8ef472934",
   "metadata": {},
   "source": [
    "## 6. Create measurement framework / user interaction"
   ]
  },
  {
   "cell_type": "code",
   "execution_count": 10,
   "id": "1470c445-e646-42c8-8b21-3c2f2aab38f8",
   "metadata": {},
   "outputs": [
    {
     "name": "stdout",
     "output_type": "stream",
     "text": [
      "now please fill circwood1.csv with data\n"
     ]
    }
   ],
   "source": [
    "experiment.interact()\n",
    "\n",
    "experiment.measure()"
   ]
  },
  {
   "cell_type": "markdown",
   "id": "e77a238c",
   "metadata": {},
   "source": [
    "## 8. Tea-based hypothesis testing"
   ]
  },
  {
   "cell_type": "code",
   "execution_count": 11,
   "id": "4de71f72",
   "metadata": {},
   "outputs": [
    {
     "ename": "NameError",
     "evalue": "name 'measurement_variables' is not defined",
     "output_type": "error",
     "traceback": [
      "\u001b[0;31m---------------------------------------------------------------------------\u001b[0m",
      "\u001b[0;31mNameError\u001b[0m                                 Traceback (most recent call last)",
      "Cell \u001b[0;32mIn[11], line 3\u001b[0m\n\u001b[1;32m      1\u001b[0m \u001b[38;5;28;01mfrom\u001b[39;00m \u001b[38;5;21;01mfedt_tea\u001b[39;00m \u001b[38;5;28;01mimport\u001b[39;00m do_experiment\n\u001b[0;32m----> 3\u001b[0m tea_results \u001b[38;5;241m=\u001b[39m do_experiment(\u001b[43mmeasurement_variables\u001b[49m,\n\u001b[1;32m      4\u001b[0m                             tea_hypothesis,\n\u001b[1;32m      5\u001b[0m                             experiment_csv,\n\u001b[1;32m      6\u001b[0m                             CAD_variables,\n\u001b[1;32m      7\u001b[0m                             CAM_variables,\n\u001b[1;32m      8\u001b[0m                             post_process_variables,\n\u001b[1;32m      9\u001b[0m                             interaction_variables)\n",
      "\u001b[0;31mNameError\u001b[0m: name 'measurement_variables' is not defined"
     ]
    }
   ],
   "source": [
    "from fedt_tea import do_experiment\n",
    "\n",
    "tea_results = do_experiment(measurement_variables,\n",
    "                            tea_hypothesis,\n",
    "                            experiment_csv,\n",
    "                            CAD_variables,\n",
    "                            CAM_variables,\n",
    "                            post_process_variables,\n",
    "                            interaction_variables)"
   ]
  },
  {
   "cell_type": "markdown",
   "id": "35e75c90-48bd-4f1a-86cc-e1d342195516",
   "metadata": {},
   "source": [
    "## 9. Reporting"
   ]
  },
  {
   "cell_type": "code",
   "execution_count": 13,
   "id": "f381b27f-23b7-4d2f-9d45-c4be076bf042",
   "metadata": {},
   "outputs": [
    {
     "name": "stdout",
     "output_type": "stream",
     "text": [
      "We used drawsvg to create our geometries. We generated objects varying along the following dimensions: .\n",
      "        We used a Epilog Helix with bed size {'width': 609.6, 'height': 457.2} and Visicut. Our default settings were cut power:100, speed:100, frequency:5000, material:Acrylic, thickness:3.0mm.. We generated different CAM settings: material (values ['lauan solid wood', 'lauan plywood', 'Japanese cypress', 'paulownia', 'Magnolia obovata', 'Japanese cedar', 'basswood', 'beech', 'oak', 'walnut'])treatment (values ['none', 'fire retardant']).\n",
      "        We fabricated objects of each configuration 1 times. We used a Epilog Helix with bed size {'width': 609.6, 'height': 457.2} and Visicut. Our default settings were cut power:100, speed:100, frequency:5000, material:Acrylic, thickness:3.0mm.\n",
      "        In all, we fabricated 20 objects.\n",
      "        After fabrication, we post-processed 1 objects with each of the following values: . We manually post-processed the objects.\n",
      "        We manually interacted with the objects. Users did  1 times on every object (20 total interactions).\n",
      "        We manually measured the objects. We recorded  conductivity for each (20 total measurements).\n"
     ]
    }
   ],
   "source": [
    "print(experiment.report_latex())"
   ]
  },
  {
   "cell_type": "code",
   "execution_count": null,
   "id": "94a6b4c7-dc6f-473f-98a3-fa10c8bda6ac",
   "metadata": {},
   "outputs": [],
   "source": []
  }
 ],
 "metadata": {
  "kernelspec": {
   "display_name": "Python 3 (ipykernel)",
   "language": "python",
   "name": "python3"
  },
  "language_info": {
   "codemirror_mode": {
    "name": "ipython",
    "version": 3
   },
   "file_extension": ".py",
   "mimetype": "text/x-python",
   "name": "python",
   "nbconvert_exporter": "python",
   "pygments_lexer": "ipython3",
   "version": "3.11.3"
  }
 },
 "nbformat": 4,
 "nbformat_minor": 5
}
