{
 "cells": [
  {
   "cell_type": "code",
   "execution_count": 6,
   "id": "5c702a15-a746-419a-b2f9-3e64feb5a978",
   "metadata": {},
   "outputs": [],
   "source": [
    "VISICUT_LOCATION = '/Users/vwn277/projects/fedtlike/visicut/VisiCut.MacOS'"
   ]
  },
  {
   "cell_type": "code",
   "execution_count": 2,
   "id": "e515ff8a-945d-4d88-a8e1-8c7bc0d6cfc2",
   "metadata": {},
   "outputs": [
    {
     "data": {
      "image/svg+xml": [
       "<?xml version=\"1.0\" encoding=\"UTF-8\"?>\n",
       "<svg xmlns=\"http://www.w3.org/2000/svg\" xmlns:xlink=\"http://www.w3.org/1999/xlink\"\n",
       "     width=\"609.6\" height=\"457.2\" viewBox=\"-304.8 -228.6 609.6 457.2\" displayInline=\"False\">\n",
       "<defs>\n",
       "</defs>\n",
       "<circle cx=\"-40\" cy=\"-10\" r=\"30\" fill=\"none\" stroke-width=\"1\" stroke=\"red\" />\n",
       "<text x=\"-40\" y=\"-20\" font-size=\"10\" fill=\"blue\">L0</text>\n",
       "</svg>"
      ],
      "text/plain": [
       "<drawsvg.drawing.Drawing at 0x104e37c50>"
      ]
     },
     "execution_count": 2,
     "metadata": {},
     "output_type": "execute_result"
    }
   ],
   "source": [
    "import drawsvg as draw\n",
    "\n",
    "laser_bed = {\n",
    "    'width': 24 * 2.54 * 10, # in mm\n",
    "    'height': 18 * 2.54 * 10 # in mm\n",
    "}\n",
    "\n",
    "def create_labelled(drawing_function, label = \"L0\", label_location = (0,0), svg_location = \"./\"):\n",
    "    d = draw.Drawing(laser_bed['width'], laser_bed['height'], origin='center', displayInline=False)\n",
    "    \n",
    "    drawing_function(d)\n",
    "\n",
    "    d.append(draw.Text(x=label_location[0], y=label_location[1], fill='blue', text=label, font_size=10))\n",
    "\n",
    "    svg_location = svg_location + label + '.svg'\n",
    "    d.save_svg(svg_location)\n",
    "    #d.savePng('example.png')\n",
    "    \n",
    "    # Display in Jupyter notebook\n",
    "    #d.rasterize()  # Display as PNG\n",
    "    return d, svg_location  # Display as SVG\n",
    "\n",
    "def drawCircle(d):\n",
    "    d.append(draw.Circle(-40, -10, 30,\n",
    "                fill='none', stroke_width=1, stroke='red'))\n",
    "\n",
    "d, svg = create_labelled(drawCircle, label_location=(-40,-20))\n",
    "d"
   ]
  },
  {
   "cell_type": "code",
   "execution_count": 8,
   "id": "407fe1cb",
   "metadata": {},
   "outputs": [
    {
     "name": "stderr",
     "output_type": "stream",
     "text": [
      "openjdk version \"17.0.6\" 2023-01-17\n",
      "OpenJDK Runtime Environment Temurin-17.0.6+10 (build 17.0.6+10)\n",
      "OpenJDK 64-Bit Server VM Temurin-17.0.6+10 (build 17.0.6+10, mixed mode)\n",
      "Unknown command line option: --laserdevice Epilog Helix\n",
      "Use -h or --help for help\n"
     ]
    },
    {
     "ename": "CalledProcessError",
     "evalue": "Command '['/Users/vwn277/projects/fedtlike/visicut/VisiCut.MacOS', '--laserdevice Epilog Helix', '--execute', 'spam.plf']' returned non-zero exit status 1.",
     "output_type": "error",
     "traceback": [
      "\u001b[0;31m---------------------------------------------------------------------------\u001b[0m",
      "\u001b[0;31mCalledProcessError\u001b[0m                        Traceback (most recent call last)",
      "Cell \u001b[0;32mIn[8], line 22\u001b[0m\n\u001b[1;32m     19\u001b[0m     os\u001b[38;5;241m.\u001b[39mremove(temp_plf)\n\u001b[1;32m     20\u001b[0m     \u001b[38;5;28;01mreturn\u001b[39;00m results\n\u001b[0;32m---> 22\u001b[0m \u001b[43mexecute_lasercut\u001b[49m\u001b[43m(\u001b[49m\u001b[43msvg\u001b[49m\u001b[43m)\u001b[49m\n",
      "Cell \u001b[0;32mIn[8], line 18\u001b[0m, in \u001b[0;36mexecute_lasercut\u001b[0;34m(cut_file, laserdevice, mapping_file)\u001b[0m\n\u001b[1;32m     13\u001b[0m os\u001b[38;5;241m.\u001b[39mrename(temp_zf, temp_plf)\n\u001b[1;32m     14\u001b[0m cut_command \u001b[38;5;241m=\u001b[39m [VISICUT_LOCATION,\n\u001b[1;32m     15\u001b[0m                \u001b[38;5;124m'\u001b[39m\u001b[38;5;124m--laserdevice \u001b[39m\u001b[38;5;124m'\u001b[39m \u001b[38;5;241m+\u001b[39m laserdevice,\n\u001b[1;32m     16\u001b[0m                \u001b[38;5;124m'\u001b[39m\u001b[38;5;124m--execute\u001b[39m\u001b[38;5;124m'\u001b[39m,\n\u001b[1;32m     17\u001b[0m                temp_plf]\n\u001b[0;32m---> 18\u001b[0m results \u001b[38;5;241m=\u001b[39m \u001b[43msubprocess\u001b[49m\u001b[38;5;241;43m.\u001b[39;49m\u001b[43mcheck_output\u001b[49m\u001b[43m(\u001b[49m\u001b[43mcut_command\u001b[49m\u001b[43m)\u001b[49m\n\u001b[1;32m     19\u001b[0m os\u001b[38;5;241m.\u001b[39mremove(temp_plf)\n\u001b[1;32m     20\u001b[0m \u001b[38;5;28;01mreturn\u001b[39;00m results\n",
      "File \u001b[0;32m~/miniforge3/envs/jupyfab/lib/python3.11/subprocess.py:466\u001b[0m, in \u001b[0;36mcheck_output\u001b[0;34m(timeout, *popenargs, **kwargs)\u001b[0m\n\u001b[1;32m    463\u001b[0m         empty \u001b[38;5;241m=\u001b[39m \u001b[38;5;124mb\u001b[39m\u001b[38;5;124m'\u001b[39m\u001b[38;5;124m'\u001b[39m\n\u001b[1;32m    464\u001b[0m     kwargs[\u001b[38;5;124m'\u001b[39m\u001b[38;5;124minput\u001b[39m\u001b[38;5;124m'\u001b[39m] \u001b[38;5;241m=\u001b[39m empty\n\u001b[0;32m--> 466\u001b[0m \u001b[38;5;28;01mreturn\u001b[39;00m \u001b[43mrun\u001b[49m\u001b[43m(\u001b[49m\u001b[38;5;241;43m*\u001b[39;49m\u001b[43mpopenargs\u001b[49m\u001b[43m,\u001b[49m\u001b[43m \u001b[49m\u001b[43mstdout\u001b[49m\u001b[38;5;241;43m=\u001b[39;49m\u001b[43mPIPE\u001b[49m\u001b[43m,\u001b[49m\u001b[43m \u001b[49m\u001b[43mtimeout\u001b[49m\u001b[38;5;241;43m=\u001b[39;49m\u001b[43mtimeout\u001b[49m\u001b[43m,\u001b[49m\u001b[43m \u001b[49m\u001b[43mcheck\u001b[49m\u001b[38;5;241;43m=\u001b[39;49m\u001b[38;5;28;43;01mTrue\u001b[39;49;00m\u001b[43m,\u001b[49m\n\u001b[1;32m    467\u001b[0m \u001b[43m           \u001b[49m\u001b[38;5;241;43m*\u001b[39;49m\u001b[38;5;241;43m*\u001b[39;49m\u001b[43mkwargs\u001b[49m\u001b[43m)\u001b[49m\u001b[38;5;241m.\u001b[39mstdout\n",
      "File \u001b[0;32m~/miniforge3/envs/jupyfab/lib/python3.11/subprocess.py:571\u001b[0m, in \u001b[0;36mrun\u001b[0;34m(input, capture_output, timeout, check, *popenargs, **kwargs)\u001b[0m\n\u001b[1;32m    569\u001b[0m     retcode \u001b[38;5;241m=\u001b[39m process\u001b[38;5;241m.\u001b[39mpoll()\n\u001b[1;32m    570\u001b[0m     \u001b[38;5;28;01mif\u001b[39;00m check \u001b[38;5;129;01mand\u001b[39;00m retcode:\n\u001b[0;32m--> 571\u001b[0m         \u001b[38;5;28;01mraise\u001b[39;00m CalledProcessError(retcode, process\u001b[38;5;241m.\u001b[39margs,\n\u001b[1;32m    572\u001b[0m                                  output\u001b[38;5;241m=\u001b[39mstdout, stderr\u001b[38;5;241m=\u001b[39mstderr)\n\u001b[1;32m    573\u001b[0m \u001b[38;5;28;01mreturn\u001b[39;00m CompletedProcess(process\u001b[38;5;241m.\u001b[39margs, retcode, stdout, stderr)\n",
      "\u001b[0;31mCalledProcessError\u001b[0m: Command '['/Users/vwn277/projects/fedtlike/visicut/VisiCut.MacOS', '--laserdevice Epilog Helix', '--execute', 'spam.plf']' returned non-zero exit status 1."
     ]
    }
   ],
   "source": [
    "import os\n",
    "import subprocess\n",
    "from zipfile import ZipFile\n",
    "\n",
    "def execute_lasercut(cut_file, laserdevice=\"Epilog Helix\", mapping_file=\"mappings.xml\"):\n",
    "    # make the svg into the .plf file that they like\n",
    "    temp_zf = 'spam.zip'\n",
    "    with ZipFile(temp_zf, 'w') as myzip:\n",
    "        myzip.write(cut_file)\n",
    "        myzip.write(mapping_file)\n",
    "        myzip.write(\"transform.xml\")\n",
    "    temp_plf = temp_zf.replace('.zip','.plf')\n",
    "    os.rename(temp_zf, temp_plf)\n",
    "    cut_command = [VISICUT_LOCATION,\n",
    "                   '--laserdevice ' + laserdevice,\n",
    "                   '--execute',\n",
    "                   temp_plf]\n",
    "    results = subprocess.check_output(cut_command)\n",
    "    os.remove(temp_plf)\n",
    "    return results\n",
    "\n",
    "execute_lasercut(svg)"
   ]
  },
  {
   "cell_type": "code",
   "execution_count": null,
   "id": "e632f8e7-6200-4d9e-bbd1-3a281d8182f3",
   "metadata": {},
   "outputs": [],
   "source": []
  }
 ],
 "metadata": {
  "kernelspec": {
   "display_name": "Python 3 (ipykernel)",
   "language": "python",
   "name": "python3"
  },
  "language_info": {
   "codemirror_mode": {
    "name": "ipython",
    "version": 3
   },
   "file_extension": ".py",
   "mimetype": "text/x-python",
   "name": "python",
   "nbconvert_exporter": "python",
   "pygments_lexer": "ipython3",
   "version": "3.11.3"
  }
 },
 "nbformat": 4,
 "nbformat_minor": 5
}
