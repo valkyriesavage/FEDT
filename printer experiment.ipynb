{
 "cells": [
  {
   "cell_type": "markdown",
   "id": "70bd7c4c-16b9-4fc0-9a08-ae7b0b25412f",
   "metadata": {},
   "source": [
    "# 1. Specify all parameters to be varied\n"
   ]
  },
  {
   "cell_type": "code",
   "execution_count": 1,
   "id": "9835c3b8-54ca-459f-88e0-855bb0f7ae7f",
   "metadata": {},
   "outputs": [],
   "source": [
    "from fedt import *"
   ]
  },
  {
   "cell_type": "code",
   "execution_count": 3,
   "id": "cff05206-308c-4ffe-a980-06fb48753c68",
   "metadata": {},
   "outputs": [
    {
     "name": "stdout",
     "output_type": "stream",
     "text": [
      "This experiment will require fabricating 24 unique objects.\n",
      "Users will perform 600 interactions.\n",
      "360 total measurements will be recorded.\n"
     ]
    },
    {
     "ename": "ModuleNotFoundError",
     "evalue": "No module named 'PySide2'",
     "output_type": "error",
     "traceback": [
      "\u001b[0;31m---------------------------------------------------------------------------\u001b[0m",
      "\u001b[0;31mModuleNotFoundError\u001b[0m                       Traceback (most recent call last)",
      "Cell \u001b[0;32mIn[3], line 66\u001b[0m\n\u001b[1;32m     61\u001b[0m experiment\u001b[38;5;241m.\u001b[39mlabel_all_conditions()\n\u001b[1;32m     63\u001b[0m \u001b[38;5;241m0\u001b[39m\n\u001b[0;32m---> 66\u001b[0m \u001b[43mexperiment\u001b[49m\u001b[38;5;241;43m.\u001b[39;49m\u001b[43mconfigure_for_freecad\u001b[49m\u001b[43m(\u001b[49m\u001b[43m)\u001b[49m\n\u001b[1;32m     67\u001b[0m experiment\u001b[38;5;241m.\u001b[39mconfigure_for_printing()\n",
      "File \u001b[0;32m~/projects/fedtlike/FEDT/fedt.py:150\u001b[0m, in \u001b[0;36mFEDTExperiment.configure_for_freecad\u001b[0;34m(self)\u001b[0m\n\u001b[1;32m    149\u001b[0m \u001b[38;5;28;01mdef\u001b[39;00m \u001b[38;5;21mconfigure_for_freecad\u001b[39m(\u001b[38;5;28mself\u001b[39m):\n\u001b[0;32m--> 150\u001b[0m     \u001b[38;5;28;01mimport\u001b[39;00m \u001b[38;5;21;01mfedt_3D_geom\u001b[39;00m\n\u001b[1;32m    151\u001b[0m     \u001b[38;5;28mself\u001b[39m\u001b[38;5;241m.\u001b[39mcad_executor \u001b[38;5;241m=\u001b[39m fedt_3D_geom\u001b[38;5;241m.\u001b[39mFEDTFreeCAD()\n",
      "File \u001b[0;32m~/projects/fedtlike/FEDT/fedt_3D_geom.py:5\u001b[0m\n\u001b[1;32m      3\u001b[0m \u001b[38;5;28;01mimport\u001b[39;00m \u001b[38;5;21;01mos\u001b[39;00m\u001b[38;5;241m,\u001b[39m \u001b[38;5;21;01msys\u001b[39;00m\u001b[38;5;241m,\u001b[39m \u001b[38;5;21;01msubprocess\u001b[39;00m\n\u001b[1;32m      4\u001b[0m sys\u001b[38;5;241m.\u001b[39mpath\u001b[38;5;241m.\u001b[39mappend(FREECAD_LOCATION)\n\u001b[0;32m----> 5\u001b[0m \u001b[38;5;28;01mimport\u001b[39;00m \u001b[38;5;21;01mFreeCAD\u001b[39;00m\u001b[38;5;241m,\u001b[39m \u001b[38;5;21;01mMesh\u001b[39;00m\u001b[38;5;241m,\u001b[39m \u001b[38;5;21;01mDraft\u001b[39;00m\n\u001b[1;32m      7\u001b[0m \u001b[38;5;28;01mclass\u001b[39;00m \u001b[38;5;21;01mFEDTFreeCAD\u001b[39;00m():\n\u001b[1;32m      8\u001b[0m     CAD_tool_path \u001b[38;5;241m=\u001b[39m \u001b[38;5;124m'\u001b[39m\u001b[38;5;124m'\u001b[39m\n",
      "File \u001b[0;32m/Applications/FreeCAD.app/Contents/Resources/Mod/Draft/Draft.py:53\u001b[0m\n\u001b[1;32m     48\u001b[0m __url__ \u001b[38;5;241m=\u001b[39m \u001b[38;5;124m\"\u001b[39m\u001b[38;5;124mhttps://www.freecad.org\u001b[39m\u001b[38;5;124m\"\u001b[39m\n\u001b[1;32m     50\u001b[0m \u001b[38;5;66;03m# ---------------------------------------------------------------------------\u001b[39;00m\n\u001b[1;32m     51\u001b[0m \u001b[38;5;66;03m# Utility functions\u001b[39;00m\n\u001b[1;32m     52\u001b[0m \u001b[38;5;66;03m# ---------------------------------------------------------------------------\u001b[39;00m\n\u001b[0;32m---> 53\u001b[0m \u001b[38;5;28;01mfrom\u001b[39;00m \u001b[38;5;21;01mdraftutils\u001b[39;00m\u001b[38;5;21;01m.\u001b[39;00m\u001b[38;5;21;01mutils\u001b[39;00m \u001b[38;5;28;01mimport\u001b[39;00m ARROW_TYPES \u001b[38;5;28;01mas\u001b[39;00m arrowtypes\n\u001b[1;32m     55\u001b[0m \u001b[38;5;28;01mfrom\u001b[39;00m \u001b[38;5;21;01mdraftutils\u001b[39;00m\u001b[38;5;21;01m.\u001b[39;00m\u001b[38;5;21;01mutils\u001b[39;00m \u001b[38;5;28;01mimport\u001b[39;00m (type_check,\n\u001b[1;32m     56\u001b[0m                               typecheck,\n\u001b[1;32m     57\u001b[0m                               get_param_type,\n\u001b[0;32m   (...)\u001b[0m\n\u001b[1;32m     64\u001b[0m                               tolerance,\n\u001b[1;32m     65\u001b[0m                               epsilon)\n\u001b[1;32m     67\u001b[0m \u001b[38;5;28;01mfrom\u001b[39;00m \u001b[38;5;21;01mdraftutils\u001b[39;00m\u001b[38;5;21;01m.\u001b[39;00m\u001b[38;5;21;01mutils\u001b[39;00m \u001b[38;5;28;01mimport\u001b[39;00m (get_real_name,\n\u001b[1;32m     68\u001b[0m                               getRealName,\n\u001b[1;32m     69\u001b[0m                               get_type,\n\u001b[0;32m   (...)\u001b[0m\n\u001b[1;32m     84\u001b[0m                               is_closed_edge,\n\u001b[1;32m     85\u001b[0m                               isClosedEdge)\n",
      "File \u001b[0;32m/Applications/FreeCAD.app/Contents/Resources/Mod/Draft/draftutils/utils.py:39\u001b[0m\n\u001b[1;32m     32\u001b[0m \u001b[38;5;66;03m## @package utils\u001b[39;00m\n\u001b[1;32m     33\u001b[0m \u001b[38;5;66;03m# \\ingroup draftutils\u001b[39;00m\n\u001b[1;32m     34\u001b[0m \u001b[38;5;66;03m# \\brief Provides general utility functions used throughout the workbench.\u001b[39;00m\n\u001b[1;32m     35\u001b[0m \n\u001b[1;32m     36\u001b[0m \u001b[38;5;66;03m## \\addtogroup draftutils\u001b[39;00m\n\u001b[1;32m     37\u001b[0m \u001b[38;5;66;03m# @{\u001b[39;00m\n\u001b[1;32m     38\u001b[0m \u001b[38;5;28;01mimport\u001b[39;00m \u001b[38;5;21;01mos\u001b[39;00m\n\u001b[0;32m---> 39\u001b[0m \u001b[38;5;28;01mimport\u001b[39;00m \u001b[38;5;21;01mPySide\u001b[39;00m\u001b[38;5;21;01m.\u001b[39;00m\u001b[38;5;21;01mQtCore\u001b[39;00m \u001b[38;5;28;01mas\u001b[39;00m \u001b[38;5;21;01mQtCore\u001b[39;00m\n\u001b[1;32m     41\u001b[0m \u001b[38;5;28;01mimport\u001b[39;00m \u001b[38;5;21;01mFreeCAD\u001b[39;00m \u001b[38;5;28;01mas\u001b[39;00m \u001b[38;5;21;01mApp\u001b[39;00m\n\u001b[1;32m     43\u001b[0m \u001b[38;5;28;01mfrom\u001b[39;00m \u001b[38;5;21;01mdraftutils\u001b[39;00m\u001b[38;5;21;01m.\u001b[39;00m\u001b[38;5;21;01mmessages\u001b[39;00m \u001b[38;5;28;01mimport\u001b[39;00m _msg, _wrn, _err, _log\n",
      "File \u001b[0;32m/Applications/FreeCAD.app/Contents/Resources/Ext/PySide/__init__.py:2\u001b[0m\n\u001b[1;32m      1\u001b[0m \u001b[38;5;66;03m# PySide wrapper\u001b[39;00m\n\u001b[0;32m----> 2\u001b[0m \u001b[38;5;28;01mfrom\u001b[39;00m \u001b[38;5;21;01mPySide2\u001b[39;00m \u001b[38;5;28;01mimport\u001b[39;00m __version__\n\u001b[1;32m      3\u001b[0m \u001b[38;5;28;01mfrom\u001b[39;00m \u001b[38;5;21;01mPySide2\u001b[39;00m \u001b[38;5;28;01mimport\u001b[39;00m __version_info__\n",
      "\u001b[0;31mModuleNotFoundError\u001b[0m: No module named 'PySide2'"
     ]
    }
   ],
   "source": [
    "experiment = FEDTExperiment()\n",
    "\n",
    "experiment.CAD_variables = [{\n",
    "        'name' : 'side length',\n",
    "        'data type' : 'ratio',\n",
    "        'test_values' : [x for x in range(10, 20, 5)],\n",
    "        'argname' : 'side length'\n",
    "    }]\n",
    "experiment.CAM_variables = [{\n",
    "        'name' : 'layer height',\n",
    "        'data type' : 'ratio',\n",
    "        'test_values' : [x / 10.0 for x in range(5, 20, 5)], # i hate this so much, but we would need numpy arange to make it better\n",
    "        'argname' : '--layer-height'\n",
    "    },\n",
    "    {\n",
    "        'name' : 'fill pattern',\n",
    "        'data type' : 'nominal',\n",
    "        'test_values' : ['triangles', 'concentric'], # I would like them all to have the same named thing so I can call it\n",
    "        'argname' : '--fill-pattern'\n",
    "    }]\n",
    "\n",
    "experiment.fab_repetitions = 2\n",
    "\n",
    "sample_post_process_variable = {\n",
    "    'name' : 'paint type',\n",
    "    'data type' : 'nominal',\n",
    "    'test_values' : ['lacquer', 'spraypaint'],\n",
    "    'description' : 'use the {} on the object'\n",
    "}\n",
    "experiment.post_process_variables = []\n",
    "experiment.post_process_repetitions = 1\n",
    "\n",
    "sample_interaction_variable = {\n",
    "    'name' : 'user push force level',\n",
    "    'data type' : 'ratio',\n",
    "    'test_values' : [x for x in range(10)],\n",
    "    'instruction' : 'push on the button with force {} / 10' \n",
    "}\n",
    "experiment.interaction_variables = [sample_interaction_variable]\n",
    "\n",
    "experiment.measurement_variables = [{\n",
    "        'name' : 'printed x-axis',\n",
    "        'data type' : 'ratio'\n",
    "    },\n",
    "    {\n",
    "        'name' : 'printed y-axis',\n",
    "        'data type' : 'ratio'\n",
    "    },\n",
    "    {\n",
    "        'name' : 'printed z-axis',\n",
    "        'data type' : 'ratio'\n",
    "    }\n",
    "]\n",
    "experiment.measurement_repetitions = 5\n",
    "\n",
    "tea_hypothesis = (['material', 'measured z-axis' ], ['fill_pattern:concentric > triangle'])\n",
    "\n",
    "###########\n",
    "\n",
    "experiment.experiment_size()\n",
    "experiment.label_all_conditions()\n",
    "\n",
    "0\n",
    "\n",
    "\n",
    "experiment.configure_for_freecad()\n",
    "experiment.configure_for_printing()"
   ]
  },
  {
   "cell_type": "markdown",
   "id": "313fabb6",
   "metadata": {},
   "source": [
    "# 2. CAD"
   ]
  },
  {
   "cell_type": "code",
   "execution_count": null,
   "id": "b69a74fb",
   "metadata": {},
   "outputs": [],
   "source": [
    "# FreeCAD create cube    \n",
    "def geometry_function(App, side_length='20 mm'):\n",
    "    App.ActiveDocument.addObject(\"Part::Box\",\"Box\")\n",
    "    App.ActiveDocument.ActiveObject.Label = \"Cube\"\n",
    "    App.ActiveDocument.recompute()\n",
    "    FreeCAD.ActiveDocument.getObject('Box').Width = side_length\n",
    "    FreeCAD.ActiveDocument.getObject('Box').Length = side_length\n",
    "    FreeCAD.ActiveDocument.getObject('Box').Height = side_length\n",
    "    App.ActiveDocument.recompute()\n",
    "\n",
    "def label_function(App, label_string=\"L0\"):\n",
    "    # https://wiki.freecad.org/Draft_ShapeString_tutorial\n",
    "    ss=Draft.make_shapestring(String=label_string, FontFile=FONT_LOCATION, Size=5.0, Tracking=0.0)\n",
    "    plm=FreeCAD.Placement()\n",
    "    plm.Base=FreeCAD.Vector(4.0, 4.0, side=20)\n",
    "    plm.Rotation.Q=(0.0, 0.0, 0, 1.0)\n",
    "    ss.Placement=plm\n",
    "    ss.Support=None\n",
    "    Draft.autogroup(ss)\n",
    "    FreeCAD.ActiveDocument.recompute()\n",
    "    \n",
    "    App.ActiveDocument.addObject('Part::Extrusion','Extrude')\n",
    "    f = App.ActiveDocument.getObject('Extrude')\n",
    "    f.Base = App.ActiveDocument.getObject('ShapeString')\n",
    "    f.DirMode = \"Normal\"\n",
    "    f.DirLink = None\n",
    "    f.LengthFwd = 5.000000000000000\n",
    "    f.LengthRev = 0.000000000000000\n",
    "    f.Solid = False\n",
    "    f.Reversed = False\n",
    "    f.Symmetric = False\n",
    "    f.TaperAngle = 0.000000000000000\n",
    "    f.TaperAngleRev = 0.000000000000000\n",
    "    App.ActiveDocument.recompute()\n",
    "    App.ActiveDocument.getObject('ShapeString').Visibility = False\n",
    "    App.ActiveDocument.recompute()\n",
    "    App.ActiveDocument.getObject('Extrude').Placement = App.Placement(App.Vector(2,2,0),App.Rotation(App.Vector(0,0,1),0))\n",
    "    App.ActiveDocument.recompute()\n",
    "    #FreeCAD.ActiveDocument.getObject('Extrude').Shape.exportStl('ext.stl')\n",
    "\n",
    "experiment.configure_for_freecad()\n",
    "experiment.label_function = label_function\n",
    "experiment.geometry_function = geometry_function"
   ]
  },
  {
   "cell_type": "markdown",
   "id": "30d1417e",
   "metadata": {},
   "source": [
    "# 3. CAM"
   ]
  },
  {
   "cell_type": "code",
   "execution_count": null,
   "id": "18959d5c",
   "metadata": {},
   "outputs": [],
   "source": [
    "experiment.configure_for_printing()"
   ]
  },
  {
   "cell_type": "markdown",
   "id": "9ae8ed63",
   "metadata": {},
   "source": [
    "# 4. Fabrication\n"
   ]
  },
  {
   "cell_type": "code",
   "execution_count": null,
   "id": "cc047332",
   "metadata": {},
   "outputs": [],
   "source": [
    "experiment.fabricate()"
   ]
  },
  {
   "cell_type": "markdown",
   "id": "cceb6233",
   "metadata": {},
   "source": [
    "# 5. Post-Processing"
   ]
  },
  {
   "cell_type": "code",
   "execution_count": null,
   "id": "526ab9f4-7cb4-4b04-bf4d-a3fbedf96302",
   "metadata": {},
   "outputs": [],
   "source": [
    "experiment.post_process()"
   ]
  },
  {
   "cell_type": "markdown",
   "id": "b1c95ea8-2b14-4247-a7bf-fa043ee9f1b2",
   "metadata": {},
   "source": [
    "# 6. User Interaction"
   ]
  },
  {
   "cell_type": "code",
   "execution_count": null,
   "id": "cfb79871-327b-4730-a3ae-d4e8096a22a4",
   "metadata": {},
   "outputs": [],
   "source": [
    "experiment.interact()"
   ]
  },
  {
   "cell_type": "markdown",
   "id": "93d996bc-5c0c-4f45-b9e4-03711b55ddab",
   "metadata": {},
   "source": [
    "# 7. Measurement"
   ]
  },
  {
   "cell_type": "code",
   "execution_count": null,
   "id": "731df5f8-84f5-48a9-a9ad-74b5418a775e",
   "metadata": {},
   "outputs": [],
   "source": [
    "experiment.measure()"
   ]
  },
  {
   "cell_type": "markdown",
   "id": "e77a238c",
   "metadata": {},
   "source": [
    "# 8. Tea-based hypothesis testing"
   ]
  },
  {
   "cell_type": "code",
   "execution_count": null,
   "id": "4de71f72",
   "metadata": {},
   "outputs": [],
   "source": [
    "#from fedt_tea import do_experiment\n",
    "\n",
    "'''tea_results = do_experiment(measurement_variables,\n",
    "                            tea_hypothesis,\n",
    "                            experiment_csv,\n",
    "                            CAD_variables,\n",
    "                            CAM_variables,\n",
    "                            post_process_variables,\n",
    "                            interaction_variables)'''"
   ]
  },
  {
   "cell_type": "markdown",
   "id": "35e75c90-48bd-4f1a-86cc-e1d342195516",
   "metadata": {},
   "source": [
    "# 9. Reporting"
   ]
  },
  {
   "cell_type": "code",
   "execution_count": 5,
   "id": "f381b27f-23b7-4d2f-9d45-c4be076bf042",
   "metadata": {},
   "outputs": [
    {
     "ename": "KeyError",
     "evalue": "'test_values'",
     "output_type": "error",
     "traceback": [
      "\u001b[0;31m---------------------------------------------------------------------------\u001b[0m",
      "\u001b[0;31mKeyError\u001b[0m                                  Traceback (most recent call last)",
      "Cell \u001b[0;32mIn[5], line 1\u001b[0m\n\u001b[0;32m----> 1\u001b[0m \u001b[43mexperiment\u001b[49m\u001b[38;5;241;43m.\u001b[39;49m\u001b[43mreport_latex\u001b[49m\u001b[43m(\u001b[49m\u001b[43m)\u001b[49m\n",
      "File \u001b[0;32m~/projects/fedtlike/FEDT/fedt.py:234\u001b[0m, in \u001b[0;36mFEDTExperiment.report_latex\u001b[0;34m(self)\u001b[0m\n\u001b[1;32m    212\u001b[0m \u001b[38;5;28;01mdef\u001b[39;00m \u001b[38;5;21mreport_latex\u001b[39m(\u001b[38;5;28mself\u001b[39m):\n\u001b[1;32m    213\u001b[0m \u001b[38;5;250m    \u001b[39m\u001b[38;5;124;03m''' render a string of LaTeX that describes what has been done on this experiment '''\u001b[39;00m\n\u001b[1;32m    215\u001b[0m     setup \u001b[38;5;241m=\u001b[39m \u001b[38;5;124m'''\u001b[39m\u001b[38;5;132;01m{CAD_executor}\u001b[39;00m\u001b[38;5;124m We generated objects varying along the following dimensions: \u001b[39m\u001b[38;5;132;01m{CAD_variables}\u001b[39;00m\u001b[38;5;124m.\u001b[39m\n\u001b[1;32m    216\u001b[0m \u001b[38;5;124m    \u001b[39m\u001b[38;5;132;01m{CAM_executor}\u001b[39;00m\u001b[38;5;124m. We generated different CAM settings: \u001b[39m\u001b[38;5;132;01m{CAM_variables}\u001b[39;00m\u001b[38;5;124m.\u001b[39m\n\u001b[1;32m    217\u001b[0m \u001b[38;5;124m    We fabricated objects of each configuration \u001b[39m\u001b[38;5;132;01m{fab_repetitions}\u001b[39;00m\u001b[38;5;124m. \u001b[39m\u001b[38;5;132;01m{fab_executor}\u001b[39;00m\n\u001b[1;32m    218\u001b[0m \u001b[38;5;124m    In all, we fabricated \u001b[39m\u001b[38;5;132;01m{num_fabbed_objects}\u001b[39;00m\u001b[38;5;124m objects.\u001b[39m\n\u001b[1;32m    219\u001b[0m \u001b[38;5;124m    After fabrication, we post-processed \u001b[39m\u001b[38;5;132;01m{post_process_repetitions}\u001b[39;00m\u001b[38;5;124m objects with each of the following values: \u001b[39m\u001b[38;5;132;01m{post_process_variables}\u001b[39;00m\u001b[38;5;124m. \u001b[39m\u001b[38;5;132;01m{post_process_executor}\u001b[39;00m\n\u001b[1;32m    220\u001b[0m \u001b[38;5;124m    \u001b[39m\u001b[38;5;132;01m{interaction_executor}\u001b[39;00m\u001b[38;5;124m Users did \u001b[39m\u001b[38;5;132;01m{interaction_variables}\u001b[39;00m\u001b[38;5;124m \u001b[39m\u001b[38;5;132;01m{measurement_repetitions}\u001b[39;00m\u001b[38;5;124m times on every object (\u001b[39m\u001b[38;5;132;01m{num_user_ixns}\u001b[39;00m\u001b[38;5;124m total interactions).\u001b[39m\n\u001b[1;32m    221\u001b[0m \u001b[38;5;124m    \u001b[39m\u001b[38;5;132;01m{measurement_executor}\u001b[39;00m\u001b[38;5;124m We recorded \u001b[39m\u001b[38;5;132;01m{measurement_variables}\u001b[39;00m\u001b[38;5;124m for each (\u001b[39m\u001b[38;5;132;01m{num_recorded_values}\u001b[39;00m\u001b[38;5;124m total measurements).\u001b[39m\u001b[38;5;124m'''\u001b[39m\u001b[38;5;241m.\u001b[39mformat(\n\u001b[1;32m    222\u001b[0m             \u001b[38;5;241m*\u001b[39m\u001b[38;5;241m*\u001b[39m{\n\u001b[1;32m    223\u001b[0m                 \u001b[38;5;124m'\u001b[39m\u001b[38;5;124mcad_tool\u001b[39m\u001b[38;5;124m'\u001b[39m: \u001b[38;5;28mstr\u001b[39m(\u001b[38;5;28mself\u001b[39m\u001b[38;5;241m.\u001b[39mcad_executor),\n\u001b[1;32m    224\u001b[0m                 \u001b[38;5;124m'\u001b[39m\u001b[38;5;124mCAD_variables\u001b[39m\u001b[38;5;124m'\u001b[39m: \u001b[38;5;28mself\u001b[39m\u001b[38;5;241m.\u001b[39mstringify_variable_list(\u001b[38;5;28mself\u001b[39m\u001b[38;5;241m.\u001b[39mCAD_variables),\n\u001b[1;32m    225\u001b[0m                 \u001b[38;5;124m'\u001b[39m\u001b[38;5;124mcam_executor\u001b[39m\u001b[38;5;124m'\u001b[39m: \u001b[38;5;28mstr\u001b[39m(\u001b[38;5;28mself\u001b[39m\u001b[38;5;241m.\u001b[39mcam_executor),\n\u001b[1;32m    226\u001b[0m                 \u001b[38;5;124m'\u001b[39m\u001b[38;5;124mCAM_variables\u001b[39m\u001b[38;5;124m'\u001b[39m: \u001b[38;5;28mself\u001b[39m\u001b[38;5;241m.\u001b[39mstringify_variable_list(\u001b[38;5;28mself\u001b[39m\u001b[38;5;241m.\u001b[39mCAM_variables),\n\u001b[1;32m    227\u001b[0m                 \u001b[38;5;124m'\u001b[39m\u001b[38;5;124mfab_repetitions\u001b[39m\u001b[38;5;124m'\u001b[39m: \u001b[38;5;28mstr\u001b[39m(\u001b[38;5;28mself\u001b[39m\u001b[38;5;241m.\u001b[39mfab_repetitions\u001b[38;5;241m*\u001b[39m\u001b[38;5;28mself\u001b[39m\u001b[38;5;241m.\u001b[39mpost_process_repetitions),\n\u001b[1;32m    228\u001b[0m                 \u001b[38;5;124m'\u001b[39m\u001b[38;5;124mfab_executor\u001b[39m\u001b[38;5;124m'\u001b[39m: \u001b[38;5;28mstr\u001b[39m(\u001b[38;5;28mself\u001b[39m\u001b[38;5;241m.\u001b[39mfabricate_executor),\n\u001b[1;32m    229\u001b[0m                 \u001b[38;5;124m'\u001b[39m\u001b[38;5;124mpost_process_variables\u001b[39m\u001b[38;5;124m'\u001b[39m: \u001b[38;5;28mself\u001b[39m\u001b[38;5;241m.\u001b[39mstringify_variable_list(\u001b[38;5;28mself\u001b[39m\u001b[38;5;241m.\u001b[39mpost_process_variables),\n\u001b[1;32m    230\u001b[0m                 \u001b[38;5;124m'\u001b[39m\u001b[38;5;124mpost_process_repetitions\u001b[39m\u001b[38;5;124m'\u001b[39m: \u001b[38;5;28mstr\u001b[39m(\u001b[38;5;28mself\u001b[39m\u001b[38;5;241m.\u001b[39mpost_process_repetitions),\n\u001b[1;32m    231\u001b[0m                 \u001b[38;5;124m'\u001b[39m\u001b[38;5;124mpost_process_executor\u001b[39m\u001b[38;5;124m'\u001b[39m: \u001b[38;5;28mstr\u001b[39m(\u001b[38;5;28mself\u001b[39m\u001b[38;5;241m.\u001b[39mpost_process_executor),\n\u001b[1;32m    232\u001b[0m                 \u001b[38;5;124m'\u001b[39m\u001b[38;5;124minteraction_variables\u001b[39m\u001b[38;5;124m'\u001b[39m: \u001b[38;5;28mself\u001b[39m\u001b[38;5;241m.\u001b[39mstringify_variable_list(\u001b[38;5;28mself\u001b[39m\u001b[38;5;241m.\u001b[39minteraction_variables),\n\u001b[1;32m    233\u001b[0m                 \u001b[38;5;124m'\u001b[39m\u001b[38;5;124minteraction_executor\u001b[39m\u001b[38;5;124m'\u001b[39m: \u001b[38;5;28mstr\u001b[39m(\u001b[38;5;28mself\u001b[39m\u001b[38;5;241m.\u001b[39minteraction_executor),\n\u001b[0;32m--> 234\u001b[0m                 \u001b[38;5;124m'\u001b[39m\u001b[38;5;124mmeasurement_variables\u001b[39m\u001b[38;5;124m'\u001b[39m: \u001b[38;5;28;43mself\u001b[39;49m\u001b[38;5;241;43m.\u001b[39;49m\u001b[43mstringify_variable_list\u001b[49m\u001b[43m(\u001b[49m\u001b[38;5;28;43mself\u001b[39;49m\u001b[38;5;241;43m.\u001b[39;49m\u001b[43mmeasurement_variables\u001b[49m\u001b[43m)\u001b[49m,\n\u001b[1;32m    235\u001b[0m                 \u001b[38;5;124m'\u001b[39m\u001b[38;5;124mmeasurement_repetitions\u001b[39m\u001b[38;5;124m'\u001b[39m: \u001b[38;5;28mstr\u001b[39m(\u001b[38;5;28mself\u001b[39m\u001b[38;5;241m.\u001b[39mmeasurement_repetitions),\n\u001b[1;32m    236\u001b[0m                 \u001b[38;5;124m'\u001b[39m\u001b[38;5;124mmeasurement_executor\u001b[39m\u001b[38;5;124m'\u001b[39m: \u001b[38;5;28mstr\u001b[39m(\u001b[38;5;28mself\u001b[39m\u001b[38;5;241m.\u001b[39mmeasure_executor),\n\u001b[1;32m    237\u001b[0m                 \u001b[38;5;124m'\u001b[39m\u001b[38;5;124mnum_fabbed_objects\u001b[39m\u001b[38;5;124m'\u001b[39m: \u001b[38;5;28mstr\u001b[39m(\u001b[38;5;28mself\u001b[39m\u001b[38;5;241m.\u001b[39mnumber_of_fabbed_objects),\n\u001b[1;32m    238\u001b[0m                 \u001b[38;5;124m'\u001b[39m\u001b[38;5;124mnum_recorded_values\u001b[39m\u001b[38;5;124m'\u001b[39m: \u001b[38;5;28mstr\u001b[39m(\u001b[38;5;28mself\u001b[39m\u001b[38;5;241m.\u001b[39mnumber_of_recorded_values),\n\u001b[1;32m    239\u001b[0m                 \u001b[38;5;124m'\u001b[39m\u001b[38;5;124mnum_user_ixns\u001b[39m\u001b[38;5;124m'\u001b[39m: \u001b[38;5;28mstr\u001b[39m(\u001b[38;5;28mself\u001b[39m\u001b[38;5;241m.\u001b[39mnumber_of_user_interactions),\n\u001b[1;32m    240\u001b[0m             })\n\u001b[1;32m    242\u001b[0m     \u001b[38;5;28;01mif\u001b[39;00m \u001b[38;5;28mself\u001b[39m\u001b[38;5;241m.\u001b[39mtea_results \u001b[38;5;129;01mis\u001b[39;00m \u001b[38;5;129;01mnot\u001b[39;00m \u001b[38;5;28;01mNone\u001b[39;00m:\n\u001b[1;32m    243\u001b[0m         setup \u001b[38;5;241m+\u001b[39m\u001b[38;5;241m=\u001b[39m \u001b[38;5;124m'''\u001b[39m\u001b[38;5;132;01m{tea_results}\u001b[39;00m\u001b[38;5;124m was the outcome of \u001b[39m\u001b[38;5;132;01m{tea_hypothesis}\u001b[39;00m\u001b[38;5;124m'''\u001b[39m\u001b[38;5;241m.\u001b[39mformat({\n\u001b[1;32m    244\u001b[0m                     \u001b[38;5;124m'\u001b[39m\u001b[38;5;124mtea_results\u001b[39m\u001b[38;5;124m'\u001b[39m: \u001b[38;5;28mstr\u001b[39m(\u001b[38;5;28mself\u001b[39m\u001b[38;5;241m.\u001b[39mtea_results),\n\u001b[1;32m    245\u001b[0m                     \u001b[38;5;124m'\u001b[39m\u001b[38;5;124mtea_hypothesis\u001b[39m\u001b[38;5;124m'\u001b[39m: \u001b[38;5;28mstr\u001b[39m(\u001b[38;5;28mself\u001b[39m\u001b[38;5;241m.\u001b[39mtea_hypothesis)\n\u001b[1;32m    246\u001b[0m                 })\n",
      "File \u001b[0;32m~/projects/fedtlike/FEDT/fedt.py:206\u001b[0m, in \u001b[0;36mFEDTExperiment.stringify_variable_list\u001b[0;34m(variable_list)\u001b[0m\n\u001b[1;32m    204\u001b[0m human_string \u001b[38;5;241m=\u001b[39m \u001b[38;5;124m\"\u001b[39m\u001b[38;5;124m\"\u001b[39m\n\u001b[1;32m    205\u001b[0m \u001b[38;5;28;01mfor\u001b[39;00m variable \u001b[38;5;129;01min\u001b[39;00m variable_list:\n\u001b[0;32m--> 206\u001b[0m     \u001b[38;5;28;01mif\u001b[39;00m \u001b[43mvariable\u001b[49m\u001b[43m[\u001b[49m\u001b[38;5;124;43m'\u001b[39;49m\u001b[38;5;124;43mtest_values\u001b[39;49m\u001b[38;5;124;43m'\u001b[39;49m\u001b[43m]\u001b[49m: \u001b[38;5;66;03m# should catch all independent variables\u001b[39;00m\n\u001b[1;32m    207\u001b[0m         human_string \u001b[38;5;241m+\u001b[39m\u001b[38;5;241m=\u001b[39m \u001b[38;5;124m\"\u001b[39m\u001b[38;5;132;01m{}\u001b[39;00m\u001b[38;5;124m (values \u001b[39m\u001b[38;5;132;01m{}\u001b[39;00m\u001b[38;5;124m)\u001b[39m\u001b[38;5;124m\"\u001b[39m\u001b[38;5;241m.\u001b[39mformat(variable[\u001b[38;5;124m'\u001b[39m\u001b[38;5;124mname\u001b[39m\u001b[38;5;124m'\u001b[39m], variable[\u001b[38;5;124m'\u001b[39m\u001b[38;5;124mtest_values\u001b[39m\u001b[38;5;124m'\u001b[39m])\n\u001b[1;32m    208\u001b[0m     \u001b[38;5;28;01melif\u001b[39;00m variable[\u001b[38;5;124m'\u001b[39m\u001b[38;5;124mname\u001b[39m\u001b[38;5;124m'\u001b[39m]: \u001b[38;5;66;03m# should catch dependent variables\u001b[39;00m\n",
      "\u001b[0;31mKeyError\u001b[0m: 'test_values'"
     ]
    }
   ],
   "source": [
    "experiment.report_latex()"
   ]
  },
  {
   "cell_type": "code",
   "execution_count": null,
   "id": "d73c635b-6c16-406e-85b8-34c7b29d0331",
   "metadata": {},
   "outputs": [],
   "source": []
  }
 ],
 "metadata": {
  "kernelspec": {
   "display_name": "Python 3 (ipykernel)",
   "language": "python",
   "name": "python3"
  },
  "language_info": {
   "codemirror_mode": {
    "name": "ipython",
    "version": 3
   },
   "file_extension": ".py",
   "mimetype": "text/x-python",
   "name": "python",
   "nbconvert_exporter": "python",
   "pygments_lexer": "ipython3",
   "version": "3.11.3"
  }
 },
 "nbformat": 4,
 "nbformat_minor": 5
}
