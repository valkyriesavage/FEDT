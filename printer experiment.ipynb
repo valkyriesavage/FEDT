{
 "cells": [
  {
   "cell_type": "markdown",
   "id": "70bd7c4c-16b9-4fc0-9a08-ae7b0b25412f",
   "metadata": {},
   "source": [
    "# 1. Specify all parameters to be varied\n"
   ]
  },
  {
   "cell_type": "code",
   "execution_count": 3,
   "id": "cff05206-308c-4ffe-a980-06fb48753c68",
   "metadata": {},
   "outputs": [
    {
     "name": "stdout",
     "output_type": "stream",
     "text": [
      "This experiment will require fabricating 48 unique objects.\n",
      "Users will perform 2400 interactions.\n",
      "7200 total measurements will be recorded.\n"
     ]
    }
   ],
   "source": [
    "from fedt import *\n",
    "\n",
    "CAD_variables = [{\n",
    "        'name' : 'side length',\n",
    "        'data type' : 'ratio',\n",
    "        'test_values' : [x for x in range(10, 20, 5)],\n",
    "        'argname' : 'side length'\n",
    "    }]\n",
    "CAM_variables = [{\n",
    "        'name' : 'layer height',\n",
    "        'data type' : 'ratio',\n",
    "        'test_values' : [x / 10.0 for x in range(5, 20, 5)], # i hate this so much, but we would need numpy arange to make it better\n",
    "        'argname' : '--layer-height'\n",
    "    },\n",
    "    {\n",
    "        'name' : 'fill pattern',\n",
    "        'data type' : 'nominal',\n",
    "        'test_values' : ['triangles', 'concentric'], # I would like them all to have the same named thing so I can call it\n",
    "        'argname' : '--fill-pattern'\n",
    "    }]\n",
    "\n",
    "fab_repetitions = 2\n",
    "\n",
    "sample_post_process_variable = {\n",
    "    'name' : 'paint type',\n",
    "    'data type' : 'nominal',\n",
    "    'test_values' : ['lacquer', 'spraypaint'],\n",
    "    'description' : 'use the {} on the object'\n",
    "}\n",
    "post_process_variables = [sample_post_process_variable]\n",
    "post_process_repetitions = 1\n",
    "\n",
    "sample_interaction_variable = {\n",
    "    'name' : 'user push force level',\n",
    "    'data type' : 'ratio',\n",
    "    'test_values' : [x for x in range(10)],\n",
    "    'instruction' : 'push on the button with force {} / 10' \n",
    "}\n",
    "interaction_variables = [sample_interaction_variable]\n",
    "\n",
    "measurement_variables = [{\n",
    "        'name' : 'printed x-axis',\n",
    "        'data type' : 'ratio'\n",
    "    },\n",
    "    {\n",
    "        'name' : 'printed y-axis',\n",
    "        'data type' : 'ratio'\n",
    "    },\n",
    "    {\n",
    "        'name' : 'printed z-axis',\n",
    "        'data type' : 'ratio'\n",
    "    }\n",
    "]\n",
    "measurement_repetitions = 5\n",
    "\n",
    "tea_hypothesis = (['material', 'measured z-axis' ], ['fill_pattern:concentric > triangle'])\n",
    "\n",
    "###########\n",
    "\n",
    "experiment_size(CAD_variables, CAM_variables, fab_repetitions,\n",
    "                post_process_variables, post_process_repetitions,\n",
    "                interaction_variables,\n",
    "                measurement_variables, measurement_repetitions)\n",
    "\n",
    "vars_to_labels = label_all_conditions(CAD_variables, CAM_variables, fab_repetitions,\n",
    "                                      post_process_variables, post_process_repetitions)"
   ]
  },
  {
   "cell_type": "markdown",
   "id": "313fabb6",
   "metadata": {},
   "source": [
    "# 2. CAD"
   ]
  },
  {
   "cell_type": "code",
   "execution_count": 4,
   "id": "b69a74fb",
   "metadata": {},
   "outputs": [
    {
     "ename": "ModuleNotFoundError",
     "evalue": "No module named 'PySide2'",
     "output_type": "error",
     "traceback": [
      "\u001b[0;31m---------------------------------------------------------------------------\u001b[0m",
      "\u001b[0;31mModuleNotFoundError\u001b[0m                       Traceback (most recent call last)",
      "Cell \u001b[0;32mIn[4], line 1\u001b[0m\n\u001b[0;32m----> 1\u001b[0m \u001b[38;5;28;01mfrom\u001b[39;00m \u001b[38;5;21;01mfedt_print\u001b[39;00m \u001b[38;5;28;01mimport\u001b[39;00m build_geometry\n\u001b[1;32m      3\u001b[0m \u001b[38;5;66;03m# FreeCAD create cube    \u001b[39;00m\n\u001b[1;32m      4\u001b[0m \u001b[38;5;28;01mdef\u001b[39;00m \u001b[38;5;21mgeometry_function\u001b[39m(App, side_length\u001b[38;5;241m=\u001b[39m\u001b[38;5;124m'\u001b[39m\u001b[38;5;124m20 mm\u001b[39m\u001b[38;5;124m'\u001b[39m):\n",
      "File \u001b[0;32m~/projects/fedtlike/FEDT/fedt_print.py:6\u001b[0m\n\u001b[1;32m      3\u001b[0m \u001b[38;5;28;01mimport\u001b[39;00m \u001b[38;5;21;01mos\u001b[39;00m\u001b[38;5;241m,\u001b[39m \u001b[38;5;21;01msys\u001b[39;00m\u001b[38;5;241m,\u001b[39m \u001b[38;5;21;01msubprocess\u001b[39;00m\n\u001b[1;32m      5\u001b[0m sys\u001b[38;5;241m.\u001b[39mpath\u001b[38;5;241m.\u001b[39mappend(FREECAD_LOCATION)\n\u001b[0;32m----> 6\u001b[0m \u001b[38;5;28;01mimport\u001b[39;00m \u001b[38;5;21;01mFreeCAD\u001b[39;00m\u001b[38;5;241m,\u001b[39m \u001b[38;5;21;01mMesh\u001b[39;00m\u001b[38;5;241m,\u001b[39m \u001b[38;5;21;01mDraft\u001b[39;00m\n\u001b[1;32m      8\u001b[0m \u001b[38;5;66;03m# Add label\u001b[39;00m\n\u001b[1;32m      9\u001b[0m \u001b[38;5;28;01mdef\u001b[39;00m \u001b[38;5;21mbuild_geometry\u001b[39m(geometry_function, label_function\u001b[38;5;241m=\u001b[39m\u001b[38;5;28;01mNone\u001b[39;00m, label_string\u001b[38;5;241m=\u001b[39m\u001b[38;5;124m\"\u001b[39m\u001b[38;5;124mL0\u001b[39m\u001b[38;5;124m\"\u001b[39m, \u001b[38;5;241m*\u001b[39mgeom_args, \u001b[38;5;241m*\u001b[39m\u001b[38;5;241m*\u001b[39mgeom_kwargs):\n",
      "File \u001b[0;32m/Applications/FreeCAD.app/Contents/Resources/Mod/Draft/Draft.py:53\u001b[0m\n\u001b[1;32m     48\u001b[0m __url__ \u001b[38;5;241m=\u001b[39m \u001b[38;5;124m\"\u001b[39m\u001b[38;5;124mhttps://www.freecad.org\u001b[39m\u001b[38;5;124m\"\u001b[39m\n\u001b[1;32m     50\u001b[0m \u001b[38;5;66;03m# ---------------------------------------------------------------------------\u001b[39;00m\n\u001b[1;32m     51\u001b[0m \u001b[38;5;66;03m# Utility functions\u001b[39;00m\n\u001b[1;32m     52\u001b[0m \u001b[38;5;66;03m# ---------------------------------------------------------------------------\u001b[39;00m\n\u001b[0;32m---> 53\u001b[0m \u001b[38;5;28;01mfrom\u001b[39;00m \u001b[38;5;21;01mdraftutils\u001b[39;00m\u001b[38;5;21;01m.\u001b[39;00m\u001b[38;5;21;01mutils\u001b[39;00m \u001b[38;5;28;01mimport\u001b[39;00m ARROW_TYPES \u001b[38;5;28;01mas\u001b[39;00m arrowtypes\n\u001b[1;32m     55\u001b[0m \u001b[38;5;28;01mfrom\u001b[39;00m \u001b[38;5;21;01mdraftutils\u001b[39;00m\u001b[38;5;21;01m.\u001b[39;00m\u001b[38;5;21;01mutils\u001b[39;00m \u001b[38;5;28;01mimport\u001b[39;00m (type_check,\n\u001b[1;32m     56\u001b[0m                               typecheck,\n\u001b[1;32m     57\u001b[0m                               get_param_type,\n\u001b[0;32m   (...)\u001b[0m\n\u001b[1;32m     64\u001b[0m                               tolerance,\n\u001b[1;32m     65\u001b[0m                               epsilon)\n\u001b[1;32m     67\u001b[0m \u001b[38;5;28;01mfrom\u001b[39;00m \u001b[38;5;21;01mdraftutils\u001b[39;00m\u001b[38;5;21;01m.\u001b[39;00m\u001b[38;5;21;01mutils\u001b[39;00m \u001b[38;5;28;01mimport\u001b[39;00m (get_real_name,\n\u001b[1;32m     68\u001b[0m                               getRealName,\n\u001b[1;32m     69\u001b[0m                               get_type,\n\u001b[0;32m   (...)\u001b[0m\n\u001b[1;32m     84\u001b[0m                               is_closed_edge,\n\u001b[1;32m     85\u001b[0m                               isClosedEdge)\n",
      "File \u001b[0;32m/Applications/FreeCAD.app/Contents/Resources/Mod/Draft/draftutils/utils.py:39\u001b[0m\n\u001b[1;32m     32\u001b[0m \u001b[38;5;66;03m## @package utils\u001b[39;00m\n\u001b[1;32m     33\u001b[0m \u001b[38;5;66;03m# \\ingroup draftutils\u001b[39;00m\n\u001b[1;32m     34\u001b[0m \u001b[38;5;66;03m# \\brief Provides general utility functions used throughout the workbench.\u001b[39;00m\n\u001b[1;32m     35\u001b[0m \n\u001b[1;32m     36\u001b[0m \u001b[38;5;66;03m## \\addtogroup draftutils\u001b[39;00m\n\u001b[1;32m     37\u001b[0m \u001b[38;5;66;03m# @{\u001b[39;00m\n\u001b[1;32m     38\u001b[0m \u001b[38;5;28;01mimport\u001b[39;00m \u001b[38;5;21;01mos\u001b[39;00m\n\u001b[0;32m---> 39\u001b[0m \u001b[38;5;28;01mimport\u001b[39;00m \u001b[38;5;21;01mPySide\u001b[39;00m\u001b[38;5;21;01m.\u001b[39;00m\u001b[38;5;21;01mQtCore\u001b[39;00m \u001b[38;5;28;01mas\u001b[39;00m \u001b[38;5;21;01mQtCore\u001b[39;00m\n\u001b[1;32m     41\u001b[0m \u001b[38;5;28;01mimport\u001b[39;00m \u001b[38;5;21;01mFreeCAD\u001b[39;00m \u001b[38;5;28;01mas\u001b[39;00m \u001b[38;5;21;01mApp\u001b[39;00m\n\u001b[1;32m     43\u001b[0m \u001b[38;5;28;01mfrom\u001b[39;00m \u001b[38;5;21;01mdraftutils\u001b[39;00m\u001b[38;5;21;01m.\u001b[39;00m\u001b[38;5;21;01mmessages\u001b[39;00m \u001b[38;5;28;01mimport\u001b[39;00m _msg, _wrn, _err, _log\n",
      "File \u001b[0;32m/Applications/FreeCAD.app/Contents/Resources/Ext/PySide/__init__.py:2\u001b[0m\n\u001b[1;32m      1\u001b[0m \u001b[38;5;66;03m# PySide wrapper\u001b[39;00m\n\u001b[0;32m----> 2\u001b[0m \u001b[38;5;28;01mfrom\u001b[39;00m \u001b[38;5;21;01mPySide2\u001b[39;00m \u001b[38;5;28;01mimport\u001b[39;00m __version__\n\u001b[1;32m      3\u001b[0m \u001b[38;5;28;01mfrom\u001b[39;00m \u001b[38;5;21;01mPySide2\u001b[39;00m \u001b[38;5;28;01mimport\u001b[39;00m __version_info__\n",
      "\u001b[0;31mModuleNotFoundError\u001b[0m: No module named 'PySide2'"
     ]
    }
   ],
   "source": [
    "from fedt_print import build_geometry\n",
    "\n",
    "# FreeCAD create cube    \n",
    "def geometry_function(App, side_length='20 mm'):\n",
    "    App.ActiveDocument.addObject(\"Part::Box\",\"Box\")\n",
    "    App.ActiveDocument.ActiveObject.Label = \"Cube\"\n",
    "    App.ActiveDocument.recompute()\n",
    "    FreeCAD.ActiveDocument.getObject('Box').Width = side_length\n",
    "    FreeCAD.ActiveDocument.getObject('Box').Length = side_length\n",
    "    FreeCAD.ActiveDocument.getObject('Box').Height = side_length\n",
    "    App.ActiveDocument.recompute()\n",
    "\n",
    "def label_function(App, label_string=\"L0\"):\n",
    "    # https://wiki.freecad.org/Draft_ShapeString_tutorial\n",
    "    ss=Draft.make_shapestring(String=label_string, FontFile=FONT_LOCATION, Size=5.0, Tracking=0.0)\n",
    "    plm=FreeCAD.Placement()\n",
    "    plm.Base=FreeCAD.Vector(4.0, 4.0, side=20)\n",
    "    plm.Rotation.Q=(0.0, 0.0, 0, 1.0)\n",
    "    ss.Placement=plm\n",
    "    ss.Support=None\n",
    "    Draft.autogroup(ss)\n",
    "    FreeCAD.ActiveDocument.recompute()\n",
    "    \n",
    "    App.ActiveDocument.addObject('Part::Extrusion','Extrude')\n",
    "    f = App.ActiveDocument.getObject('Extrude')\n",
    "    f.Base = App.ActiveDocument.getObject('ShapeString')\n",
    "    f.DirMode = \"Normal\"\n",
    "    f.DirLink = None\n",
    "    f.LengthFwd = 5.000000000000000\n",
    "    f.LengthRev = 0.000000000000000\n",
    "    f.Solid = False\n",
    "    f.Reversed = False\n",
    "    f.Symmetric = False\n",
    "    f.TaperAngle = 0.000000000000000\n",
    "    f.TaperAngleRev = 0.000000000000000\n",
    "    App.ActiveDocument.recompute()\n",
    "    App.ActiveDocument.getObject('ShapeString').Visibility = False\n",
    "    App.ActiveDocument.recompute()\n",
    "    App.ActiveDocument.getObject('Extrude').Placement = App.Placement(App.Vector(2,2,0),App.Rotation(App.Vector(0,0,1),0))\n",
    "    App.ActiveDocument.recompute()\n",
    "    #FreeCAD.ActiveDocument.getObject('Extrude').Shape.exportStl('ext.stl')"
   ]
  },
  {
   "cell_type": "markdown",
   "id": "30d1417e",
   "metadata": {},
   "source": [
    "# 3. CAM"
   ]
  },
  {
   "cell_type": "code",
   "execution_count": 5,
   "id": "18959d5c",
   "metadata": {},
   "outputs": [
    {
     "ename": "ModuleNotFoundError",
     "evalue": "No module named 'PySide2'",
     "output_type": "error",
     "traceback": [
      "\u001b[0;31m---------------------------------------------------------------------------\u001b[0m",
      "\u001b[0;31mModuleNotFoundError\u001b[0m                       Traceback (most recent call last)",
      "Cell \u001b[0;32mIn[5], line 1\u001b[0m\n\u001b[0;32m----> 1\u001b[0m \u001b[38;5;28;01mfrom\u001b[39;00m \u001b[38;5;21;01mfedt_print\u001b[39;00m \u001b[38;5;28;01mimport\u001b[39;00m prep_cam, do_cam\n\u001b[1;32m      3\u001b[0m prep_cam(CAM_variables)\n",
      "File \u001b[0;32m~/projects/fedtlike/FEDT/fedt_print.py:6\u001b[0m\n\u001b[1;32m      3\u001b[0m \u001b[38;5;28;01mimport\u001b[39;00m \u001b[38;5;21;01mos\u001b[39;00m\u001b[38;5;241m,\u001b[39m \u001b[38;5;21;01msys\u001b[39;00m\u001b[38;5;241m,\u001b[39m \u001b[38;5;21;01msubprocess\u001b[39;00m\n\u001b[1;32m      5\u001b[0m sys\u001b[38;5;241m.\u001b[39mpath\u001b[38;5;241m.\u001b[39mappend(FREECAD_LOCATION)\n\u001b[0;32m----> 6\u001b[0m \u001b[38;5;28;01mimport\u001b[39;00m \u001b[38;5;21;01mFreeCAD\u001b[39;00m\u001b[38;5;241m,\u001b[39m \u001b[38;5;21;01mMesh\u001b[39;00m\u001b[38;5;241m,\u001b[39m \u001b[38;5;21;01mDraft\u001b[39;00m\n\u001b[1;32m      8\u001b[0m \u001b[38;5;66;03m# Add label\u001b[39;00m\n\u001b[1;32m      9\u001b[0m \u001b[38;5;28;01mdef\u001b[39;00m \u001b[38;5;21mbuild_geometry\u001b[39m(geometry_function, label_function\u001b[38;5;241m=\u001b[39m\u001b[38;5;28;01mNone\u001b[39;00m, label_string\u001b[38;5;241m=\u001b[39m\u001b[38;5;124m\"\u001b[39m\u001b[38;5;124mL0\u001b[39m\u001b[38;5;124m\"\u001b[39m, \u001b[38;5;241m*\u001b[39mgeom_args, \u001b[38;5;241m*\u001b[39m\u001b[38;5;241m*\u001b[39mgeom_kwargs):\n",
      "File \u001b[0;32m/Applications/FreeCAD.app/Contents/Resources/Mod/Draft/Draft.py:53\u001b[0m\n\u001b[1;32m     48\u001b[0m __url__ \u001b[38;5;241m=\u001b[39m \u001b[38;5;124m\"\u001b[39m\u001b[38;5;124mhttps://www.freecad.org\u001b[39m\u001b[38;5;124m\"\u001b[39m\n\u001b[1;32m     50\u001b[0m \u001b[38;5;66;03m# ---------------------------------------------------------------------------\u001b[39;00m\n\u001b[1;32m     51\u001b[0m \u001b[38;5;66;03m# Utility functions\u001b[39;00m\n\u001b[1;32m     52\u001b[0m \u001b[38;5;66;03m# ---------------------------------------------------------------------------\u001b[39;00m\n\u001b[0;32m---> 53\u001b[0m \u001b[38;5;28;01mfrom\u001b[39;00m \u001b[38;5;21;01mdraftutils\u001b[39;00m\u001b[38;5;21;01m.\u001b[39;00m\u001b[38;5;21;01mutils\u001b[39;00m \u001b[38;5;28;01mimport\u001b[39;00m ARROW_TYPES \u001b[38;5;28;01mas\u001b[39;00m arrowtypes\n\u001b[1;32m     55\u001b[0m \u001b[38;5;28;01mfrom\u001b[39;00m \u001b[38;5;21;01mdraftutils\u001b[39;00m\u001b[38;5;21;01m.\u001b[39;00m\u001b[38;5;21;01mutils\u001b[39;00m \u001b[38;5;28;01mimport\u001b[39;00m (type_check,\n\u001b[1;32m     56\u001b[0m                               typecheck,\n\u001b[1;32m     57\u001b[0m                               get_param_type,\n\u001b[0;32m   (...)\u001b[0m\n\u001b[1;32m     64\u001b[0m                               tolerance,\n\u001b[1;32m     65\u001b[0m                               epsilon)\n\u001b[1;32m     67\u001b[0m \u001b[38;5;28;01mfrom\u001b[39;00m \u001b[38;5;21;01mdraftutils\u001b[39;00m\u001b[38;5;21;01m.\u001b[39;00m\u001b[38;5;21;01mutils\u001b[39;00m \u001b[38;5;28;01mimport\u001b[39;00m (get_real_name,\n\u001b[1;32m     68\u001b[0m                               getRealName,\n\u001b[1;32m     69\u001b[0m                               get_type,\n\u001b[0;32m   (...)\u001b[0m\n\u001b[1;32m     84\u001b[0m                               is_closed_edge,\n\u001b[1;32m     85\u001b[0m                               isClosedEdge)\n",
      "File \u001b[0;32m/Applications/FreeCAD.app/Contents/Resources/Mod/Draft/draftutils/utils.py:39\u001b[0m\n\u001b[1;32m     32\u001b[0m \u001b[38;5;66;03m## @package utils\u001b[39;00m\n\u001b[1;32m     33\u001b[0m \u001b[38;5;66;03m# \\ingroup draftutils\u001b[39;00m\n\u001b[1;32m     34\u001b[0m \u001b[38;5;66;03m# \\brief Provides general utility functions used throughout the workbench.\u001b[39;00m\n\u001b[1;32m     35\u001b[0m \n\u001b[1;32m     36\u001b[0m \u001b[38;5;66;03m## \\addtogroup draftutils\u001b[39;00m\n\u001b[1;32m     37\u001b[0m \u001b[38;5;66;03m# @{\u001b[39;00m\n\u001b[1;32m     38\u001b[0m \u001b[38;5;28;01mimport\u001b[39;00m \u001b[38;5;21;01mos\u001b[39;00m\n\u001b[0;32m---> 39\u001b[0m \u001b[38;5;28;01mimport\u001b[39;00m \u001b[38;5;21;01mPySide\u001b[39;00m\u001b[38;5;21;01m.\u001b[39;00m\u001b[38;5;21;01mQtCore\u001b[39;00m \u001b[38;5;28;01mas\u001b[39;00m \u001b[38;5;21;01mQtCore\u001b[39;00m\n\u001b[1;32m     41\u001b[0m \u001b[38;5;28;01mimport\u001b[39;00m \u001b[38;5;21;01mFreeCAD\u001b[39;00m \u001b[38;5;28;01mas\u001b[39;00m \u001b[38;5;21;01mApp\u001b[39;00m\n\u001b[1;32m     43\u001b[0m \u001b[38;5;28;01mfrom\u001b[39;00m \u001b[38;5;21;01mdraftutils\u001b[39;00m\u001b[38;5;21;01m.\u001b[39;00m\u001b[38;5;21;01mmessages\u001b[39;00m \u001b[38;5;28;01mimport\u001b[39;00m _msg, _wrn, _err, _log\n",
      "File \u001b[0;32m/Applications/FreeCAD.app/Contents/Resources/Ext/PySide/__init__.py:2\u001b[0m\n\u001b[1;32m      1\u001b[0m \u001b[38;5;66;03m# PySide wrapper\u001b[39;00m\n\u001b[0;32m----> 2\u001b[0m \u001b[38;5;28;01mfrom\u001b[39;00m \u001b[38;5;21;01mPySide2\u001b[39;00m \u001b[38;5;28;01mimport\u001b[39;00m __version__\n\u001b[1;32m      3\u001b[0m \u001b[38;5;28;01mfrom\u001b[39;00m \u001b[38;5;21;01mPySide2\u001b[39;00m \u001b[38;5;28;01mimport\u001b[39;00m __version_info__\n",
      "\u001b[0;31mModuleNotFoundError\u001b[0m: No module named 'PySide2'"
     ]
    }
   ],
   "source": [
    "from fedt_print import prep_cam, do_cam\n",
    "\n",
    "prep_cam(CAM_variables)"
   ]
  },
  {
   "cell_type": "markdown",
   "id": "9ae8ed63",
   "metadata": {},
   "source": [
    "# 4. Fabrication\n"
   ]
  },
  {
   "cell_type": "code",
   "execution_count": null,
   "id": "cc047332",
   "metadata": {},
   "outputs": [],
   "source": [
    "from fedt_print import prep_all_for_fab, fabricate\n",
    "\n",
    "vars_to_labels = label_all_conditions(CAD_variables_laser, CAM_variables_laser, fab_repetitions,\n",
    "                                      post_process_variables, post_process_repetitions)\n",
    "CAM_paths = prep_all_for_fab(vars_to_labels, geometry_function, label_function)\n",
    "\n",
    "for CAM_path in CAM_paths:\n",
    "    fabricate(CAM_path)"
   ]
  },
  {
   "cell_type": "markdown",
   "id": "cceb6233",
   "metadata": {},
   "source": [
    "# 5. Post-Processing"
   ]
  },
  {
   "cell_type": "code",
   "execution_count": null,
   "id": "526ab9f4-7cb4-4b04-bf4d-a3fbedf96302",
   "metadata": {},
   "outputs": [],
   "source": [
    "\n",
    "# TODO: I was thinking that I need to print out the things to do here, but I actually\n",
    "# need to attach them somehow to the LABELS in the fabrication step. so that they know what to do to which.\n",
    "# and then we need to print... something here... so the user knows what to do..."
   ]
  },
  {
   "cell_type": "markdown",
   "id": "df4d4114-67c7-440b-b8a6-f7a8ef472934",
   "metadata": {},
   "source": [
    "# 6. Create measurement framework"
   ]
  },
  {
   "cell_type": "code",
   "execution_count": null,
   "id": "1470c445-e646-42c8-8b21-3c2f2aab38f8",
   "metadata": {},
   "outputs": [],
   "source": [
    "from fedt_measure import create_experiment_csv\n",
    "experiment_csv = create_experiment_csv(vars_to_labels, measurement_variables, measurement_repetitions)\n",
    "\n",
    "print(\"now please fill \" + experiment_csv + \" with data\")"
   ]
  },
  {
   "cell_type": "markdown",
   "id": "b1c95ea8-2b14-4247-a7bf-fa043ee9f1b2",
   "metadata": {},
   "source": [
    "# 6. User Interaction"
   ]
  },
  {
   "cell_type": "code",
   "execution_count": null,
   "id": "cfb79871-327b-4730-a3ae-d4e8096a22a4",
   "metadata": {},
   "outputs": [],
   "source": [
    "\n",
    "\n",
    "# TODO : figure out how to deal with this. is it true that we might need to generate the csv first? I... would think so."
   ]
  },
  {
   "cell_type": "markdown",
   "id": "e77a238c",
   "metadata": {},
   "source": [
    "# 8. Tea-based hypothesis testing"
   ]
  },
  {
   "cell_type": "code",
   "execution_count": null,
   "id": "4de71f72",
   "metadata": {},
   "outputs": [],
   "source": [
    "from fedt_tea import do_experiment\n",
    "\n",
    "tea_results = do_experiment(measurement_variables,\n",
    "                            tea_hypothesis,\n",
    "                            experiment_csv,\n",
    "                            CAD_variables,\n",
    "                            CAM_variables,\n",
    "                            post_process_variables,\n",
    "                            interaction_variables)"
   ]
  },
  {
   "cell_type": "markdown",
   "id": "35e75c90-48bd-4f1a-86cc-e1d342195516",
   "metadata": {},
   "source": [
    "# 9. Reporting"
   ]
  },
  {
   "cell_type": "code",
   "execution_count": null,
   "id": "f381b27f-23b7-4d2f-9d45-c4be076bf042",
   "metadata": {},
   "outputs": [],
   "source": [
    "from fedt_report import latex\n",
    "\n",
    "latex(tea_results,\n",
    "      tea_hypothesis,\n",
    "      CAD_variables,\n",
    "      CAM_variables,\n",
    "      print_repetitions,\n",
    "      post_process_variables,\n",
    "      post_process_repetitions,\n",
    "      interaction_variables,\n",
    "      interaction_repetitions,\n",
    "      measurement_variables,\n",
    "      measurement_repetitions)"
   ]
  }
 ],
 "metadata": {
  "kernelspec": {
   "display_name": "Python 3 (ipykernel)",
   "language": "python",
   "name": "python3"
  },
  "language_info": {
   "codemirror_mode": {
    "name": "ipython",
    "version": 3
   },
   "file_extension": ".py",
   "mimetype": "text/x-python",
   "name": "python",
   "nbconvert_exporter": "python",
   "pygments_lexer": "ipython3",
   "version": "3.11.3"
  }
 },
 "nbformat": 4,
 "nbformat_minor": 5
}
